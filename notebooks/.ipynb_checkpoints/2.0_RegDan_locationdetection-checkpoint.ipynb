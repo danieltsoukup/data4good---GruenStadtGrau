{
 "cells": [
  {
   "cell_type": "markdown",
   "metadata": {
    "slideshow": {
     "slide_type": "slide"
    }
   },
   "source": [
    "# Location extraction and visualization\n",
    "\n",
    "#### Presentation by Daniel T. Soukup (Faculty of Math, Uni Vienna)\n",
    "\n",
    "\n",
    "#### Joint work with Regina Babo and Liad Magen.\n"
   ]
  },
  {
   "cell_type": "markdown",
   "metadata": {
    "slideshow": {
     "slide_type": "slide"
    }
   },
   "source": [
    "\n",
    "<img src=\"../assets/vdsg_transparent_260x86.png\" alt=\"vdsg\" align=\"right\" width=\"300\">\n",
    "\n",
    "\n",
    "# data4good hackathon\n",
    "\n",
    "\n",
    "<br>\n",
    "<br>\n",
    "\n",
    "This work was mostly done at the data4good Hackathon (April 27-28, 2019).\n",
    "\n",
    "\n",
    "<br>\n",
    "\n",
    "* 2 days, 4 teams working paired with with 4 NGOs\n",
    "* Our team lead: Liad Magen.\n",
    "\n",
    "<br>\n",
    "\n",
    "\n",
    "<img src=\"../assets/ch1-team.png\" alt=\"vdsg\" align=\"middle\" width=\"500\">\n",
    "\n",
    "\n",
    "<br>\n",
    "\n",
    "<br>\n",
    "\n",
    "\n",
    "\n"
   ]
  },
  {
   "cell_type": "markdown",
   "metadata": {
    "slideshow": {
     "slide_type": "slide"
    }
   },
   "source": [
    "# Textual analysis of urban greening projects in the press\n",
    "\n",
    "<br>To analyse the urban greening literature and <b>determine where most of the these projects happen</b>.\n",
    "\n",
    "\n",
    "<br>\n",
    "\n",
    "<br>\n",
    "\n",
    "<img src=\"../assets/Gruenstattgrau_Logo.jpg\" alt=\"Gruenstattgrau\" align=\"middle\">"
   ]
  },
  {
   "cell_type": "markdown",
   "metadata": {
    "slideshow": {
     "slide_type": "slide"
    }
   },
   "source": [
    "# Location extraction\n",
    "\n",
    "The raw documents looked like this: are these locations relevant?\n",
    "\n",
    "\n",
    " <img src=\"../data/pages1.jpg\" align=\"middle\" width=\"800\">"
   ]
  },
  {
   "cell_type": "markdown",
   "metadata": {
    "slideshow": {
     "slide_type": "subslide"
    }
   },
   "source": [
    "How about these locations?\n",
    "\n",
    "<img src=\"../data/pages2.jpg\" align=\"middle\" width=\"800\">"
   ]
  },
  {
   "cell_type": "markdown",
   "metadata": {
    "slideshow": {
     "slide_type": "subslide"
    }
   },
   "source": [
    "### Plan:\n",
    "<br>\n",
    "\n",
    "* Extract all locations from the text.\n",
    "<br>\n",
    "\n",
    "* Visualize and study the distribution (countries, cities).\n",
    "<br>\n",
    "\n",
    "* Try to classify the locations (relevant/irrelevant).\n",
    "\n",
    "<br>\n",
    "\n",
    "### Let's see some code!\n",
    "<br>"
   ]
  },
  {
   "cell_type": "markdown",
   "metadata": {
    "slideshow": {
     "slide_type": "slide"
    }
   },
   "source": [
    "## Loading the modules"
   ]
  },
  {
   "cell_type": "markdown",
   "metadata": {
    "slideshow": {
     "slide_type": "fragment"
    }
   },
   "source": [
    "\n",
    " Let's start by loading all the necessary modules.\n"
   ]
  },
  {
   "cell_type": "code",
   "execution_count": 1,
   "metadata": {
    "slideshow": {
     "slide_type": "fragment"
    }
   },
   "outputs": [
    {
     "name": "stderr",
     "output_type": "stream",
     "text": [
      "D:\\anaconda\\envs\\data4good\\lib\\site-packages\\smart_open\\ssh.py:34: UserWarning: paramiko missing, opening SSH/SCP/SFTP paths will be disabled.  `pip install paramiko` to suppress\n",
      "  warnings.warn('paramiko missing, opening SSH/SCP/SFTP paths will be disabled.  `pip install paramiko` to suppress')\n",
      "D:\\anaconda\\envs\\data4good\\lib\\site-packages\\gensim\\utils.py:1197: UserWarning: detected Windows; aliasing chunkize to chunkize_serial\n",
      "  warnings.warn(\"detected Windows; aliasing chunkize to chunkize_serial\")\n"
     ]
    }
   ],
   "source": [
    "# generally useful packages\n",
    "import re, collections\n",
    "import glob, os, requests, io, pickle\n",
    "\n",
    "# data stuff\n",
    "import pandas as pd\n",
    "import numpy as np\n",
    "\n",
    "# visualizing\n",
    "import matplotlib.pyplot as plt\n",
    "import seaborn as sns\n",
    "import folium # visualizing on maps\n",
    "\n",
    "# NLP packages, we work with German text mostly so we load that\n",
    "import nltk\n",
    "import spacy\n",
    "import gensim\n",
    "from sklearn.feature_extraction.text import CountVectorizer\n",
    "from geotext import GeoText # for location detection"
   ]
  },
  {
   "cell_type": "markdown",
   "metadata": {
    "slideshow": {
     "slide_type": "slide"
    }
   },
   "source": [
    "## Skipping the pdf2txt adventures...\n",
    "\n",
    "#### ...imagine we have 25 documents loaded."
   ]
  },
  {
   "cell_type": "markdown",
   "metadata": {
    "slideshow": {
     "slide_type": "skip"
    }
   },
   "source": [
    "The pdfs were converted online to txt files. We read the txt files and build our corpus:"
   ]
  },
  {
   "cell_type": "code",
   "execution_count": 2,
   "metadata": {
    "slideshow": {
     "slide_type": "skip"
    }
   },
   "outputs": [
    {
     "name": "stdout",
     "output_type": "stream",
     "text": [
      "We have 25 documents loaded.\n"
     ]
    }
   ],
   "source": [
    "data_path = \"../data/interim/pdf2text\"\n",
    "\n",
    "data_files = glob.glob(data_path + os.path.sep + \"*.txt\"); data_files\n",
    "\n",
    "data_files = [item.replace(data_path + os.path.sep, \"\") for item in data_files]  # Strip the dir name and the path separator from begining\n",
    "\n",
    "corpus = []\n",
    "\n",
    "for txt_file in data_files:\n",
    "    with open(data_path + os.path.sep + txt_file, encoding='utf-8', mode=\"r\") as f:\n",
    "        corpus.append(f.readlines())\n",
    "        \n",
    "print('We have', len(corpus), 'documents loaded.') "
   ]
  },
  {
   "cell_type": "markdown",
   "metadata": {
    "slideshow": {
     "slide_type": "slide"
    }
   },
   "source": [
    "# Finding locations in the text (NER with Spacy)"
   ]
  },
  {
   "cell_type": "markdown",
   "metadata": {
    "slideshow": {
     "slide_type": "subslide"
    }
   },
   "source": [
    "We use the Spacy's nlp pipeline to process the corpus. This includes tokenizing, tagging, parsing, <b>identifying and labeling named entities</b>."
   ]
  },
  {
   "cell_type": "code",
   "execution_count": 3,
   "metadata": {
    "slideshow": {
     "slide_type": "fragment"
    }
   },
   "outputs": [],
   "source": [
    "nlp = spacy.load(\"de_core_news_sm\", disable=[\"tagger\"])\n",
    "nlp_corpus = []\n",
    "for idx, raw in enumerate(corpus):\n",
    "    joined = ' '.join(raw) # we join the docs (which are lists of strings)\n",
    "    joined_nlp = nlp(joined) \n",
    "    nlp_corpus.append(joined_nlp)"
   ]
  },
  {
   "cell_type": "markdown",
   "metadata": {
    "slideshow": {
     "slide_type": "subslide"
    }
   },
   "source": [
    "Now, let's find the sentences that include named entities labeled as LOC. As we go, we put the results into a dataframe."
   ]
  },
  {
   "cell_type": "code",
   "execution_count": 4,
   "metadata": {
    "slideshow": {
     "slide_type": "fragment"
    }
   },
   "outputs": [
    {
     "name": "stdout",
     "output_type": "stream",
     "text": [
      "We have 7728 sentences with locations.\n"
     ]
    }
   ],
   "source": [
    "sents_with_loc = pd.DataFrame({'doc number': [], 'location': [], 'sentence': []})\n",
    "for idx, doc in enumerate(nlp_corpus):\n",
    "    for sent in doc.sents:\n",
    "        locations = []\n",
    "        for ent in sent.as_doc().ents:\n",
    "            if ent.label_ == \"LOC\":\n",
    "                locations.append(ent.text)\n",
    "        if locations:\n",
    "            sents_with_loc.loc[len(sents_with_loc)] =[idx, locations, sent]\n",
    "print('We have', len(sents_with_loc), 'sentences with locations.')"
   ]
  },
  {
   "cell_type": "code",
   "execution_count": 8,
   "metadata": {
    "slideshow": {
     "slide_type": "subslide"
    }
   },
   "outputs": [
    {
     "data": {
      "text/html": [
       "<div>\n",
       "<style scoped>\n",
       "    .dataframe tbody tr th:only-of-type {\n",
       "        vertical-align: middle;\n",
       "    }\n",
       "\n",
       "    .dataframe tbody tr th {\n",
       "        vertical-align: top;\n",
       "    }\n",
       "\n",
       "    .dataframe thead th {\n",
       "        text-align: right;\n",
       "    }\n",
       "</style>\n",
       "<table border=\"1\" class=\"dataframe\">\n",
       "  <thead>\n",
       "    <tr style=\"text-align: right;\">\n",
       "      <th></th>\n",
       "      <th>doc number</th>\n",
       "      <th>location</th>\n",
       "      <th>sentence</th>\n",
       "    </tr>\n",
       "  </thead>\n",
       "  <tbody>\n",
       "    <tr>\n",
       "      <th>3328</th>\n",
       "      <td>17.0</td>\n",
       "      <td>[GeWOFAG, Mehrkosten]</td>\n",
       "      <td>(Die, landeshauptstadt, München, hat, sich, 2015, aufgrund, einer, Stadtratsanfrage, einer, poli...</td>\n",
       "    </tr>\n",
       "    <tr>\n",
       "      <th>4059</th>\n",
       "      <td>19.0</td>\n",
       "      <td>[Stadt]</td>\n",
       "      <td>(Mit, einer, Grundstücksfläche, von, 25.000, Quadratmetern, und, einer, Bruttogeschossfläche, vo...</td>\n",
       "    </tr>\n",
       "    <tr>\n",
       "      <th>5767</th>\n",
       "      <td>22.0</td>\n",
       "      <td>[Steigenberger, Airport-Hotels, Frankfurt am Main, Fachverband]</td>\n",
       "      <td>(Für, Dach-, und, Fassadenbegrünung, ,, ,, Am, Montag, ,, dem, 19.02.1990, ,, erschienen, im, Sa...</td>\n",
       "    </tr>\n",
       "    <tr>\n",
       "      <th>263</th>\n",
       "      <td>1.0</td>\n",
       "      <td>[Oberflächengewässer]</td>\n",
       "      <td>(..., ..., \\n \\n , 7, Immission, Oberflächengewässer, ...)</td>\n",
       "    </tr>\n",
       "    <tr>\n",
       "      <th>2835</th>\n",
       "      <td>15.0</td>\n",
       "      <td>[Gründach, Fassadengrün, Photovoltaik]</td>\n",
       "      <td>(Bei, einem, EnergieGrünDach, oder, einer, EnergieGrünFassade, handelt, es, sich, um, eine, komb...</td>\n",
       "    </tr>\n",
       "    <tr>\n",
       "      <th>2519</th>\n",
       "      <td>14.0</td>\n",
       "      <td>[Wissen]</td>\n",
       "      <td>(Wissen, auf, sehr, anschauliche, und, greifbare, Weise, \\n \\n , Wiedner, Hauptstraße)</td>\n",
       "    </tr>\n",
       "    <tr>\n",
       "      <th>5395</th>\n",
       "      <td>21.0</td>\n",
       "      <td>[Fremdaufwuchs]</td>\n",
       "      <td>(Ebenso, Fremdaufwuchs, .)</td>\n",
       "    </tr>\n",
       "    <tr>\n",
       "      <th>2036</th>\n",
       "      <td>13.0</td>\n",
       "      <td>[MEISSE]</td>\n",
       "      <td>(MEISSE, \\n \\n )</td>\n",
       "    </tr>\n",
       "    <tr>\n",
       "      <th>3846</th>\n",
       "      <td>18.0</td>\n",
       "      <td>[SNFCC, Nationaloper, Nationalbibliothek]</td>\n",
       "      <td>(Das, neue, Kulturzentrum, SNFCC, mit, Nationaloper, und, Nationalbibliothek, ist, eingebettet, ...</td>\n",
       "    </tr>\n",
       "    <tr>\n",
       "      <th>5850</th>\n",
       "      <td>22.0</td>\n",
       "      <td>[Hauptkriterien]</td>\n",
       "      <td>(2, ., Motivation, ,, ,, Umfeldverbesserung, \", Ökologie-/Umweltaspekte, ,, Aufenthaltsqualität,...</td>\n",
       "    </tr>\n",
       "  </tbody>\n",
       "</table>\n",
       "</div>"
      ],
      "text/plain": [
       "      doc number  \\\n",
       "3328        17.0   \n",
       "4059        19.0   \n",
       "5767        22.0   \n",
       "263          1.0   \n",
       "2835        15.0   \n",
       "2519        14.0   \n",
       "5395        21.0   \n",
       "2036        13.0   \n",
       "3846        18.0   \n",
       "5850        22.0   \n",
       "\n",
       "                                                             location  \\\n",
       "3328                                            [GeWOFAG, Mehrkosten]   \n",
       "4059                                                          [Stadt]   \n",
       "5767  [Steigenberger, Airport-Hotels, Frankfurt am Main, Fachverband]   \n",
       "263                                             [Oberflächengewässer]   \n",
       "2835                           [Gründach, Fassadengrün, Photovoltaik]   \n",
       "2519                                                         [Wissen]   \n",
       "5395                                                  [Fremdaufwuchs]   \n",
       "2036                                                         [MEISSE]   \n",
       "3846                        [SNFCC, Nationaloper, Nationalbibliothek]   \n",
       "5850                                                 [Hauptkriterien]   \n",
       "\n",
       "                                                                                                 sentence  \n",
       "3328  (Die, landeshauptstadt, München, hat, sich, 2015, aufgrund, einer, Stadtratsanfrage, einer, poli...  \n",
       "4059  (Mit, einer, Grundstücksfläche, von, 25.000, Quadratmetern, und, einer, Bruttogeschossfläche, vo...  \n",
       "5767  (Für, Dach-, und, Fassadenbegrünung, ,, ,, Am, Montag, ,, dem, 19.02.1990, ,, erschienen, im, Sa...  \n",
       "263                                            (..., ..., \\n \\n , 7, Immission, Oberflächengewässer, ...)  \n",
       "2835  (Bei, einem, EnergieGrünDach, oder, einer, EnergieGrünFassade, handelt, es, sich, um, eine, komb...  \n",
       "2519               (Wissen, auf, sehr, anschauliche, und, greifbare, Weise, \\n \\n , Wiedner, Hauptstraße)  \n",
       "5395                                                                           (Ebenso, Fremdaufwuchs, .)  \n",
       "2036                                                                                     (MEISSE, \\n \\n )  \n",
       "3846  (Das, neue, Kulturzentrum, SNFCC, mit, Nationaloper, und, Nationalbibliothek, ist, eingebettet, ...  \n",
       "5850  (2, ., Motivation, ,, ,, Umfeldverbesserung, \", Ökologie-/Umweltaspekte, ,, Aufenthaltsqualität,...  "
      ]
     },
     "execution_count": 8,
     "metadata": {},
     "output_type": "execute_result"
    }
   ],
   "source": [
    "pd.options.display.max_colwidth = 100\n",
    "sents_with_loc.sample(n=10, random_state=42)"
   ]
  },
  {
   "cell_type": "code",
   "execution_count": 38,
   "metadata": {
    "slideshow": {
     "slide_type": "skip"
    }
   },
   "outputs": [
    {
     "data": {
      "text/plain": [
       "doc number     int32\n",
       "location      object\n",
       "sentence      object\n",
       "dtype: object"
      ]
     },
     "execution_count": 38,
     "metadata": {},
     "output_type": "execute_result"
    }
   ],
   "source": [
    "sents_with_loc.dtypes"
   ]
  },
  {
   "cell_type": "markdown",
   "metadata": {
    "slideshow": {
     "slide_type": "skip"
    }
   },
   "source": [
    "It is clear that there are plenty of tokens that are actually not addresses we were looking for."
   ]
  },
  {
   "cell_type": "code",
   "execution_count": 39,
   "metadata": {
    "slideshow": {
     "slide_type": "skip"
    }
   },
   "outputs": [
    {
     "data": {
      "text/plain": [
       "7728"
      ]
     },
     "execution_count": 39,
     "metadata": {},
     "output_type": "execute_result"
    }
   ],
   "source": [
    "# make doc numbers an integer\n",
    "sents_with_loc['doc number'] = sents_with_loc['doc number'].astype(int)\n",
    "sents_with_loc['location'] = sents_with_loc['location'].astype(str)\n",
    "sents_with_loc['sentence'] = sents_with_loc['sentence'].astype(str)\n",
    "\n",
    "# number of sentences\n",
    "len(sents_with_loc)"
   ]
  },
  {
   "cell_type": "markdown",
   "metadata": {
    "slideshow": {
     "slide_type": "skip"
    }
   },
   "source": [
    "Save the dataframe."
   ]
  },
  {
   "cell_type": "code",
   "execution_count": 41,
   "metadata": {
    "slideshow": {
     "slide_type": "skip"
    }
   },
   "outputs": [],
   "source": [
    "sents_with_loc.to_pickle(\"sents_with_loc.pkl\")"
   ]
  },
  {
   "cell_type": "markdown",
   "metadata": {
    "slideshow": {
     "slide_type": "slide"
    }
   },
   "source": [
    "# Identifying countries and cities with GeoText"
   ]
  },
  {
   "cell_type": "markdown",
   "metadata": {
    "slideshow": {
     "slide_type": "fragment"
    }
   },
   "source": [
    "Now, let's catch the country and city mentions using GeoText. Here is a simple example how it works:"
   ]
  },
  {
   "cell_type": "code",
   "execution_count": 26,
   "metadata": {
    "slideshow": {
     "slide_type": "fragment"
    }
   },
   "outputs": [
    {
     "data": {
      "text/plain": [
       "(OrderedDict([('US', 2), ('CN', 1), ('PL', 1)]),\n",
       " ['New York', 'Seattle', 'Beijing', 'Warsaw'])"
      ]
     },
     "execution_count": 26,
     "metadata": {},
     "output_type": "execute_result"
    }
   ],
   "source": [
    "gt_obj = GeoText('I love New York, Seattle, Beijing, and also Warsaw.')\n",
    "gt_obj.country_mentions, geo.cities"
   ]
  },
  {
   "cell_type": "markdown",
   "metadata": {
    "slideshow": {
     "slide_type": "fragment"
    }
   },
   "source": [
    "The GeoText function is not flawless as illustrated here:\n",
    "    "
   ]
  },
  {
   "cell_type": "code",
   "execution_count": 25,
   "metadata": {
    "slideshow": {
     "slide_type": "fragment"
    }
   },
   "outputs": [
    {
     "data": {
      "text/plain": [
       "OrderedDict()"
      ]
     },
     "execution_count": 25,
     "metadata": {},
     "output_type": "execute_result"
    }
   ],
   "source": [
    "GeoText(\"Where is Munchen?\").country_mentions"
   ]
  },
  {
   "cell_type": "markdown",
   "metadata": {
    "slideshow": {
     "slide_type": "slide"
    }
   },
   "source": [
    "For our text:"
   ]
  },
  {
   "cell_type": "code",
   "execution_count": 4,
   "metadata": {
    "slideshow": {
     "slide_type": "fragment"
    }
   },
   "outputs": [
    {
     "name": "stdout",
     "output_type": "stream",
     "text": [
      "We have 1362 sentences now.\n"
     ]
    },
    {
     "data": {
      "text/html": [
       "<div>\n",
       "<style scoped>\n",
       "    .dataframe tbody tr th:only-of-type {\n",
       "        vertical-align: middle;\n",
       "    }\n",
       "\n",
       "    .dataframe tbody tr th {\n",
       "        vertical-align: top;\n",
       "    }\n",
       "\n",
       "    .dataframe thead th {\n",
       "        text-align: right;\n",
       "    }\n",
       "</style>\n",
       "<table border=\"1\" class=\"dataframe\">\n",
       "  <thead>\n",
       "    <tr style=\"text-align: right;\">\n",
       "      <th></th>\n",
       "      <th>doc number</th>\n",
       "      <th>location</th>\n",
       "      <th>sentence</th>\n",
       "      <th>country mentions</th>\n",
       "      <th>cities</th>\n",
       "    </tr>\n",
       "  </thead>\n",
       "  <tbody>\n",
       "    <tr>\n",
       "      <th>0</th>\n",
       "      <td>0</td>\n",
       "      <td>['Biodiversitätsdach']</td>\n",
       "      <td>Biodiversitätsdach auf dem Besucherzentrum der...</td>\n",
       "      <td>{'DE': 1}</td>\n",
       "      <td>[Berlin]</td>\n",
       "    </tr>\n",
       "    <tr>\n",
       "      <th>1</th>\n",
       "      <td>0</td>\n",
       "      <td>['Berlin', 'Pflanzenauswahl']</td>\n",
       "      <td>Dachbegrünung und Biodiversität\\n \\n 2\\n \\n Be...</td>\n",
       "      <td>{'DE': 1}</td>\n",
       "      <td>[Berlin]</td>\n",
       "    </tr>\n",
       "    <tr>\n",
       "      <th>11</th>\n",
       "      <td>0</td>\n",
       "      <td>['Schorndorf']</td>\n",
       "      <td>Ansprechpartner im Bereich der Nisthilfen war ...</td>\n",
       "      <td>{'DE': 1}</td>\n",
       "      <td>[Schorndorf]</td>\n",
       "    </tr>\n",
       "    <tr>\n",
       "      <th>12</th>\n",
       "      <td>0</td>\n",
       "      <td>['Falkensee']</td>\n",
       "      <td>Für das Totholz zeichnete sich die Firma Kusch...</td>\n",
       "      <td>{'DE': 1}</td>\n",
       "      <td>[Falkensee]</td>\n",
       "    </tr>\n",
       "    <tr>\n",
       "      <th>16</th>\n",
       "      <td>1</td>\n",
       "      <td>['Hamburg', 'Hannover', 'Berlin', 'Kornwestheim']</td>\n",
       "      <td>(Deutscher Dachgärtner Verband e.V. - DDV), Ju...</td>\n",
       "      <td>{'DE': 5}</td>\n",
       "      <td>[Hamburg, Stuttgart, Hannover, Berlin, Kornwes...</td>\n",
       "    </tr>\n",
       "    <tr>\n",
       "      <th>26</th>\n",
       "      <td>1</td>\n",
       "      <td>['Berlin', 'Hamburg', 'Hannover', 'Ludwigsburg...</td>\n",
       "      <td>Neben aktuellen Gründach-Initiativen aus Berli...</td>\n",
       "      <td>{'DE': 5}</td>\n",
       "      <td>[Berlin, Hamburg, Hannover, Ludwigsburg, Stutt...</td>\n",
       "    </tr>\n",
       "    <tr>\n",
       "      <th>27</th>\n",
       "      <td>1</td>\n",
       "      <td>['Hannover']</td>\n",
       "      <td>25\\n \\n Hannover:</td>\n",
       "      <td>{'DE': 1}</td>\n",
       "      <td>[Hannover]</td>\n",
       "    </tr>\n",
       "    <tr>\n",
       "      <th>28</th>\n",
       "      <td>1</td>\n",
       "      <td>['Stuttgart']</td>\n",
       "      <td>Gebäudebegrünung als Bestandteil der Klimaanpa...</td>\n",
       "      <td>{'DE': 1}</td>\n",
       "      <td>[Stuttgart]</td>\n",
       "    </tr>\n",
       "    <tr>\n",
       "      <th>30</th>\n",
       "      <td>1</td>\n",
       "      <td>['Berlin']</td>\n",
       "      <td>32\\n \\n Berlin:</td>\n",
       "      <td>{'DE': 1}</td>\n",
       "      <td>[Berlin]</td>\n",
       "    </tr>\n",
       "    <tr>\n",
       "      <th>31</th>\n",
       "      <td>1</td>\n",
       "      <td>['Ludwigsburg']</td>\n",
       "      <td>Ökologische Gebäudekonzepte und Modellvorhaben...</td>\n",
       "      <td>{'DE': 1}</td>\n",
       "      <td>[Ludwigsburg]</td>\n",
       "    </tr>\n",
       "  </tbody>\n",
       "</table>\n",
       "</div>"
      ],
      "text/plain": [
       "    doc number                                           location  \\\n",
       "0            0                             ['Biodiversitätsdach']   \n",
       "1            0                      ['Berlin', 'Pflanzenauswahl']   \n",
       "11           0                                     ['Schorndorf']   \n",
       "12           0                                      ['Falkensee']   \n",
       "16           1  ['Hamburg', 'Hannover', 'Berlin', 'Kornwestheim']   \n",
       "26           1  ['Berlin', 'Hamburg', 'Hannover', 'Ludwigsburg...   \n",
       "27           1                                       ['Hannover']   \n",
       "28           1                                      ['Stuttgart']   \n",
       "30           1                                         ['Berlin']   \n",
       "31           1                                    ['Ludwigsburg']   \n",
       "\n",
       "                                             sentence country mentions  \\\n",
       "0   Biodiversitätsdach auf dem Besucherzentrum der...        {'DE': 1}   \n",
       "1   Dachbegrünung und Biodiversität\\n \\n 2\\n \\n Be...        {'DE': 1}   \n",
       "11  Ansprechpartner im Bereich der Nisthilfen war ...        {'DE': 1}   \n",
       "12  Für das Totholz zeichnete sich die Firma Kusch...        {'DE': 1}   \n",
       "16  (Deutscher Dachgärtner Verband e.V. - DDV), Ju...        {'DE': 5}   \n",
       "26  Neben aktuellen Gründach-Initiativen aus Berli...        {'DE': 5}   \n",
       "27                                  25\\n \\n Hannover:        {'DE': 1}   \n",
       "28  Gebäudebegrünung als Bestandteil der Klimaanpa...        {'DE': 1}   \n",
       "30                                    32\\n \\n Berlin:        {'DE': 1}   \n",
       "31  Ökologische Gebäudekonzepte und Modellvorhaben...        {'DE': 1}   \n",
       "\n",
       "                                               cities  \n",
       "0                                            [Berlin]  \n",
       "1                                            [Berlin]  \n",
       "11                                       [Schorndorf]  \n",
       "12                                        [Falkensee]  \n",
       "16  [Hamburg, Stuttgart, Hannover, Berlin, Kornwes...  \n",
       "26  [Berlin, Hamburg, Hannover, Ludwigsburg, Stutt...  \n",
       "27                                         [Hannover]  \n",
       "28                                        [Stuttgart]  \n",
       "30                                           [Berlin]  \n",
       "31                                      [Ludwigsburg]  "
      ]
     },
     "execution_count": 4,
     "metadata": {},
     "output_type": "execute_result"
    }
   ],
   "source": [
    "sents_with_loc = pd.read_pickle('sents_with_loc.pkl')\n",
    "sents_with_loc['country mentions'] = pd.Series([GeoText(sent).country_mentions for sent in sents_with_loc['sentence']],\n",
    "                                               index = sents_with_loc.index)\n",
    "sents_with_loc['cities'] = pd.Series([GeoText(sent).cities for sent in sents_with_loc['sentence']],\n",
    "                                               index = sents_with_loc.index)\n",
    "sents_with_loc = sents_with_loc[sents_with_loc['country mentions'] != {}]\n",
    "\n",
    "print('We have', len(sents_with_loc), 'sentences now.')\n",
    "sents_with_loc.head(10)"
   ]
  },
  {
   "cell_type": "markdown",
   "metadata": {
    "slideshow": {
     "slide_type": "skip"
    }
   },
   "source": [
    "We can do a save here:"
   ]
  },
  {
   "cell_type": "code",
   "execution_count": 5,
   "metadata": {
    "slideshow": {
     "slide_type": "skip"
    }
   },
   "outputs": [],
   "source": [
    "sents_with_loc.to_pickle('sents_with_loc_geo.pkl')"
   ]
  },
  {
   "cell_type": "markdown",
   "metadata": {
    "slideshow": {
     "slide_type": "slide"
    }
   },
   "source": [
    "## Country mentions"
   ]
  },
  {
   "cell_type": "markdown",
   "metadata": {
    "slideshow": {
     "slide_type": "fragment"
    }
   },
   "source": [
    "Next, we'll count: which countries were mentioned the most?"
   ]
  },
  {
   "cell_type": "code",
   "execution_count": 2,
   "metadata": {
    "slideshow": {
     "slide_type": "skip"
    }
   },
   "outputs": [
    {
     "data": {
      "text/plain": [
       "1362"
      ]
     },
     "execution_count": 2,
     "metadata": {},
     "output_type": "execute_result"
    }
   ],
   "source": [
    "sents_with_loc = pd.read_pickle('sents_with_loc_geo.pkl')\n",
    "len(sents_with_loc)"
   ]
  },
  {
   "cell_type": "code",
   "execution_count": 7,
   "metadata": {
    "slideshow": {
     "slide_type": "skip"
    }
   },
   "outputs": [
    {
     "data": {
      "text/html": [
       "<div>\n",
       "<style scoped>\n",
       "    .dataframe tbody tr th:only-of-type {\n",
       "        vertical-align: middle;\n",
       "    }\n",
       "\n",
       "    .dataframe tbody tr th {\n",
       "        vertical-align: top;\n",
       "    }\n",
       "\n",
       "    .dataframe thead th {\n",
       "        text-align: right;\n",
       "    }\n",
       "</style>\n",
       "<table border=\"1\" class=\"dataframe\">\n",
       "  <thead>\n",
       "    <tr style=\"text-align: right;\">\n",
       "      <th></th>\n",
       "      <th>doc number</th>\n",
       "      <th>location</th>\n",
       "      <th>sentence</th>\n",
       "      <th>country mentions</th>\n",
       "      <th>cities</th>\n",
       "    </tr>\n",
       "  </thead>\n",
       "  <tbody>\n",
       "    <tr>\n",
       "      <th>0</th>\n",
       "      <td>0</td>\n",
       "      <td>['Biodiversitätsdach']</td>\n",
       "      <td>Biodiversitätsdach auf dem Besucherzentrum der...</td>\n",
       "      <td>{'DE': 1}</td>\n",
       "      <td>[Berlin]</td>\n",
       "    </tr>\n",
       "    <tr>\n",
       "      <th>1</th>\n",
       "      <td>0</td>\n",
       "      <td>['Berlin', 'Pflanzenauswahl']</td>\n",
       "      <td>Dachbegrünung und Biodiversität\\n \\n 2\\n \\n Be...</td>\n",
       "      <td>{'DE': 1}</td>\n",
       "      <td>[Berlin]</td>\n",
       "    </tr>\n",
       "    <tr>\n",
       "      <th>11</th>\n",
       "      <td>0</td>\n",
       "      <td>['Schorndorf']</td>\n",
       "      <td>Ansprechpartner im Bereich der Nisthilfen war ...</td>\n",
       "      <td>{'DE': 1}</td>\n",
       "      <td>[Schorndorf]</td>\n",
       "    </tr>\n",
       "    <tr>\n",
       "      <th>12</th>\n",
       "      <td>0</td>\n",
       "      <td>['Falkensee']</td>\n",
       "      <td>Für das Totholz zeichnete sich die Firma Kusch...</td>\n",
       "      <td>{'DE': 1}</td>\n",
       "      <td>[Falkensee]</td>\n",
       "    </tr>\n",
       "    <tr>\n",
       "      <th>16</th>\n",
       "      <td>1</td>\n",
       "      <td>['Hamburg', 'Hannover', 'Berlin', 'Kornwestheim']</td>\n",
       "      <td>(Deutscher Dachgärtner Verband e.V. - DDV), Ju...</td>\n",
       "      <td>{'DE': 5}</td>\n",
       "      <td>[Hamburg, Stuttgart, Hannover, Berlin, Kornwes...</td>\n",
       "    </tr>\n",
       "  </tbody>\n",
       "</table>\n",
       "</div>"
      ],
      "text/plain": [
       "    doc number                                           location  \\\n",
       "0            0                             ['Biodiversitätsdach']   \n",
       "1            0                      ['Berlin', 'Pflanzenauswahl']   \n",
       "11           0                                     ['Schorndorf']   \n",
       "12           0                                      ['Falkensee']   \n",
       "16           1  ['Hamburg', 'Hannover', 'Berlin', 'Kornwestheim']   \n",
       "\n",
       "                                             sentence country mentions  \\\n",
       "0   Biodiversitätsdach auf dem Besucherzentrum der...        {'DE': 1}   \n",
       "1   Dachbegrünung und Biodiversität\\n \\n 2\\n \\n Be...        {'DE': 1}   \n",
       "11  Ansprechpartner im Bereich der Nisthilfen war ...        {'DE': 1}   \n",
       "12  Für das Totholz zeichnete sich die Firma Kusch...        {'DE': 1}   \n",
       "16  (Deutscher Dachgärtner Verband e.V. - DDV), Ju...        {'DE': 5}   \n",
       "\n",
       "                                               cities  \n",
       "0                                            [Berlin]  \n",
       "1                                            [Berlin]  \n",
       "11                                       [Schorndorf]  \n",
       "12                                        [Falkensee]  \n",
       "16  [Hamburg, Stuttgart, Hannover, Berlin, Kornwes...  "
      ]
     },
     "execution_count": 7,
     "metadata": {},
     "output_type": "execute_result"
    }
   ],
   "source": [
    "sents_with_loc.head()"
   ]
  },
  {
   "cell_type": "code",
   "execution_count": 3,
   "metadata": {
    "slideshow": {
     "slide_type": "subslide"
    }
   },
   "outputs": [
    {
     "data": {
      "text/html": [
       "<div>\n",
       "<style scoped>\n",
       "    .dataframe tbody tr th:only-of-type {\n",
       "        vertical-align: middle;\n",
       "    }\n",
       "\n",
       "    .dataframe tbody tr th {\n",
       "        vertical-align: top;\n",
       "    }\n",
       "\n",
       "    .dataframe thead th {\n",
       "        text-align: right;\n",
       "    }\n",
       "</style>\n",
       "<table border=\"1\" class=\"dataframe\">\n",
       "  <thead>\n",
       "    <tr style=\"text-align: right;\">\n",
       "      <th></th>\n",
       "      <th>country code</th>\n",
       "      <th>freq</th>\n",
       "    </tr>\n",
       "  </thead>\n",
       "  <tbody>\n",
       "    <tr>\n",
       "      <th>0</th>\n",
       "      <td>DE</td>\n",
       "      <td>1290</td>\n",
       "    </tr>\n",
       "    <tr>\n",
       "      <th>4</th>\n",
       "      <td>US</td>\n",
       "      <td>124</td>\n",
       "    </tr>\n",
       "    <tr>\n",
       "      <th>3</th>\n",
       "      <td>FR</td>\n",
       "      <td>50</td>\n",
       "    </tr>\n",
       "    <tr>\n",
       "      <th>20</th>\n",
       "      <td>CH</td>\n",
       "      <td>27</td>\n",
       "    </tr>\n",
       "    <tr>\n",
       "      <th>23</th>\n",
       "      <td>AT</td>\n",
       "      <td>25</td>\n",
       "    </tr>\n",
       "    <tr>\n",
       "      <th>2</th>\n",
       "      <td>SE</td>\n",
       "      <td>23</td>\n",
       "    </tr>\n",
       "    <tr>\n",
       "      <th>8</th>\n",
       "      <td>GB</td>\n",
       "      <td>21</td>\n",
       "    </tr>\n",
       "    <tr>\n",
       "      <th>7</th>\n",
       "      <td>CN</td>\n",
       "      <td>18</td>\n",
       "    </tr>\n",
       "    <tr>\n",
       "      <th>17</th>\n",
       "      <td>IL</td>\n",
       "      <td>18</td>\n",
       "    </tr>\n",
       "    <tr>\n",
       "      <th>18</th>\n",
       "      <td>PT</td>\n",
       "      <td>15</td>\n",
       "    </tr>\n",
       "  </tbody>\n",
       "</table>\n",
       "</div>"
      ],
      "text/plain": [
       "   country code  freq\n",
       "0            DE  1290\n",
       "4            US   124\n",
       "3            FR    50\n",
       "20           CH    27\n",
       "23           AT    25\n",
       "2            SE    23\n",
       "8            GB    21\n",
       "7            CN    18\n",
       "17           IL    18\n",
       "18           PT    15"
      ]
     },
     "execution_count": 3,
     "metadata": {},
     "output_type": "execute_result"
    }
   ],
   "source": [
    "country_count = collections.defaultdict(int)\n",
    "for index, row in sents_with_loc.iterrows():\n",
    "    for code, value in  row['country mentions'].items():\n",
    "        country_count[code] += value \n",
    "        \n",
    "city_count = collections.defaultdict(int)\n",
    "for index, row in sents_with_loc.iterrows():\n",
    "    for city in row['cities']:\n",
    "        city_count[city] += 1\n",
    "\n",
    "country_data = pd.DataFrame({\n",
    "   'country code':[code for code in country_count.keys()],\n",
    "    'freq':[country_count[code] for code in country_count.keys()]})\n",
    "\n",
    "country_data = country_data.sort_values(by = 'freq', ascending = False)\n",
    "country_data.head(10)"
   ]
  },
  {
   "cell_type": "markdown",
   "metadata": {
    "slideshow": {
     "slide_type": "subslide"
    }
   },
   "source": [
    "Omitting Germany, we have the following barchart:"
   ]
  },
  {
   "cell_type": "code",
   "execution_count": 9,
   "metadata": {
    "slideshow": {
     "slide_type": "notes"
    }
   },
   "outputs": [
    {
     "data": {
      "image/png": "[encoded data removed]",
      "text/plain": [
       "<Figure size 1008x576 with 1 Axes>"
      ]
     },
     "metadata": {
      "needs_background": "light"
     },
     "output_type": "display_data"
    }
   ],
   "source": [
    "sns.set_color_codes(\"pastel\")\n",
    "\n",
    "f, ax = plt.subplots(figsize=(14, 8))\n",
    "sns.barplot(x = 'country code', y = 'freq', data = country_data[1:10], color = 'b')\n",
    "\n",
    "ax.set( ylabel=\"Number of mentions\",\n",
    "         xlabel=\"Highest mentioned countries after Germany\")\n",
    "sns.despine(left=True, bottom=True)\n",
    "\n",
    "plt.savefig('countries_bar.png')"
   ]
  },
  {
   "cell_type": "markdown",
   "metadata": {
    "slideshow": {
     "slide_type": "fragment"
    }
   },
   "source": [
    "<img src = 'countries_bar.png'>"
   ]
  },
  {
   "cell_type": "markdown",
   "metadata": {
    "slideshow": {
     "slide_type": "slide"
    }
   },
   "source": [
    "## Visualization on maps"
   ]
  },
  {
   "cell_type": "markdown",
   "metadata": {
    "slideshow": {
     "slide_type": "fragment"
    }
   },
   "source": [
    "Let's visualize this! We get coordinates for the countries first:"
   ]
  },
  {
   "cell_type": "code",
   "execution_count": 4,
   "metadata": {
    "scrolled": false,
    "slideshow": {
     "slide_type": "fragment"
    }
   },
   "outputs": [
    {
     "data": {
      "text/html": [
       "<div>\n",
       "<style scoped>\n",
       "    .dataframe tbody tr th:only-of-type {\n",
       "        vertical-align: middle;\n",
       "    }\n",
       "\n",
       "    .dataframe tbody tr th {\n",
       "        vertical-align: top;\n",
       "    }\n",
       "\n",
       "    .dataframe thead th {\n",
       "        text-align: right;\n",
       "    }\n",
       "</style>\n",
       "<table border=\"1\" class=\"dataframe\">\n",
       "  <thead>\n",
       "    <tr style=\"text-align: right;\">\n",
       "      <th></th>\n",
       "      <th>country</th>\n",
       "      <th>latitude</th>\n",
       "      <th>longitude</th>\n",
       "      <th>name</th>\n",
       "    </tr>\n",
       "  </thead>\n",
       "  <tbody>\n",
       "    <tr>\n",
       "      <th>0</th>\n",
       "      <td>AD</td>\n",
       "      <td>42.546245</td>\n",
       "      <td>1.601554</td>\n",
       "      <td>Andorra</td>\n",
       "    </tr>\n",
       "    <tr>\n",
       "      <th>1</th>\n",
       "      <td>AE</td>\n",
       "      <td>23.424076</td>\n",
       "      <td>53.847818</td>\n",
       "      <td>United Arab Emirates</td>\n",
       "    </tr>\n",
       "    <tr>\n",
       "      <th>2</th>\n",
       "      <td>AF</td>\n",
       "      <td>33.939110</td>\n",
       "      <td>67.709953</td>\n",
       "      <td>Afghanistan</td>\n",
       "    </tr>\n",
       "    <tr>\n",
       "      <th>3</th>\n",
       "      <td>AG</td>\n",
       "      <td>17.060816</td>\n",
       "      <td>-61.796428</td>\n",
       "      <td>Antigua and Barbuda</td>\n",
       "    </tr>\n",
       "    <tr>\n",
       "      <th>4</th>\n",
       "      <td>AI</td>\n",
       "      <td>18.220554</td>\n",
       "      <td>-63.068615</td>\n",
       "      <td>Anguilla</td>\n",
       "    </tr>\n",
       "  </tbody>\n",
       "</table>\n",
       "</div>"
      ],
      "text/plain": [
       "  country   latitude  longitude                  name\n",
       "0      AD  42.546245   1.601554               Andorra\n",
       "1      AE  23.424076  53.847818  United Arab Emirates\n",
       "2      AF  33.939110  67.709953           Afghanistan\n",
       "3      AG  17.060816 -61.796428   Antigua and Barbuda\n",
       "4      AI  18.220554 -63.068615              Anguilla"
      ]
     },
     "execution_count": 4,
     "metadata": {},
     "output_type": "execute_result"
    }
   ],
   "source": [
    "url = 'https://developers.google.com/public-data/docs/canonical/countries_csv'\n",
    "html = requests.get(url).content\n",
    "df_coords = pd.read_html(html)\n",
    "df_coords = df_coords[0]\n",
    "df_coords.head()"
   ]
  },
  {
   "cell_type": "markdown",
   "metadata": {
    "slideshow": {
     "slide_type": "subslide"
    }
   },
   "source": [
    "We use folium to put markers proportional to the frequencies:"
   ]
  },
  {
   "cell_type": "code",
   "execution_count": 5,
   "metadata": {
    "scrolled": true,
    "slideshow": {
     "slide_type": "fragment"
    }
   },
   "outputs": [],
   "source": [
    " # Make an empty map\n",
    "m = folium.Map(location=[20,0], tiles=\"Mapbox Bright\", zoom_start=2)\n",
    "data = country_data\n",
    "\n",
    "# we add markers one by one to the map\n",
    "for i in range(1,20):\n",
    "    code = data.iloc[i]['country code']\n",
    "    lon = int(df_coords[df_coords['country'] == code]['longitude'])\n",
    "    lat = int(df_coords[df_coords['country'] == code]['latitude'])\n",
    "    folium.Circle(\n",
    "      location=[lat, lon],\n",
    "      popup = code + ': ' + str(data.iloc[i]['freq']) + ' mentions', # pop-up label above marker\n",
    "      radius = int(data.iloc[i]['freq']) * 10000,\n",
    "      color = 'crimson',\n",
    "      fill = True,\n",
    "      fill_color = 'crimson'\n",
    "   ).add_to(m)\n",
    "\n",
    "m.save('world_mentions.html')"
   ]
  },
  {
   "cell_type": "code",
   "execution_count": 1,
   "metadata": {
    "slideshow": {
     "slide_type": "subslide"
    }
   },
   "outputs": [
    {
     "data": {
      "text/html": [
       "<iframe src=\"world_mentions.html\" width=\"1200\" height=\"800\"></iframe>\n"
      ],
      "text/plain": [
       "<IPython.core.display.HTML object>"
      ]
     },
     "metadata": {},
     "output_type": "display_data"
    }
   ],
   "source": [
    "%%html\n",
    "<iframe src=\"world_mentions.html\" width=\"1200\" height=\"800\"></iframe>\n"
   ]
  },
  {
   "cell_type": "markdown",
   "metadata": {
    "slideshow": {
     "slide_type": "skip"
    }
   },
   "source": [
    "## Cities from Germany \n",
    "\n",
    "Let's look at Germany now and focus on the cities. The barchart now looks as follows:"
   ]
  },
  {
   "cell_type": "code",
   "execution_count": 43,
   "metadata": {
    "slideshow": {
     "slide_type": "notes"
    }
   },
   "outputs": [
    {
     "data": {
      "text/plain": [
       "[('Berlin', 395),\n",
       " ('Stuttgart', 144),\n",
       " ('Hamburg', 93),\n",
       " ('Ditzingen', 50),\n",
       " ('Hannover', 44),\n",
       " ('Köln', 37),\n",
       " ('Essen', 24),\n",
       " ('Dresden', 23),\n",
       " ('Leipzig', 22),\n",
       " ('Mannheim', 20)]"
      ]
     },
     "execution_count": 43,
     "metadata": {},
     "output_type": "execute_result"
    }
   ],
   "source": [
    "city_count_german = collections.defaultdict(int)\n",
    "for city, count in city_count.items():\n",
    "    place = GeoText(city)\n",
    "    if 'DE' in place.country_mentions:\n",
    "        city_count_german[city] += count\n",
    "\n",
    "from operator import itemgetter \n",
    "city_count_german_sorted = sorted(city_count_german.items(), key = itemgetter(1), reverse = True)\n",
    "city_count_german_sorted[:10]"
   ]
  },
  {
   "cell_type": "code",
   "execution_count": 37,
   "metadata": {
    "slideshow": {
     "slide_type": "notes"
    }
   },
   "outputs": [
    {
     "data": {
      "image/png": "[encoded data removed]",
      "text/plain": [
       "<Figure size 1080x648 with 1 Axes>"
      ]
     },
     "metadata": {
      "needs_background": "light"
     },
     "output_type": "display_data"
    }
   ],
   "source": [
    "data = pd.DataFrame({\n",
    "   'country code':[pair[0] for pair in city_count_german_sorted],\n",
    "    'freq':[pair[1] for pair in city_count_german_sorted]})\n",
    "\n",
    "f, ax = plt.subplots(figsize=(15, 9))\n",
    "\n",
    "sns.set_color_codes(\"pastel\")\n",
    "sns.barplot(y=data.loc[0:10,\"freq\"], x=data.loc[0:10,\"country code\"], \n",
    "            label=\"Number of mentions\", color=\"b\")\n",
    "\n",
    "# legend\n",
    "#ax.legend(ncol=2, loc=\"lower right\", frameon=True)\n",
    "ax.set( ylabel=\"Number of mentions\",\n",
    "        xlabel=\"Highest mentioned cities in Germany\")\n",
    "sns.despine(left=True, bottom=True)\n",
    "\n",
    "plt.savefig('cities_bar.png')"
   ]
  },
  {
   "cell_type": "markdown",
   "metadata": {
    "slideshow": {
     "slide_type": "fragment"
    }
   },
   "source": [
    "<img src = \"cities_bar.png\">"
   ]
  },
  {
   "cell_type": "markdown",
   "metadata": {
    "slideshow": {
     "slide_type": "skip"
    }
   },
   "source": [
    "To map these as well, we get a map for the cities:"
   ]
  },
  {
   "cell_type": "code",
   "execution_count": 14,
   "metadata": {
    "slideshow": {
     "slide_type": "skip"
    }
   },
   "outputs": [
    {
     "data": {
      "text/html": [
       "<div>\n",
       "<style scoped>\n",
       "    .dataframe tbody tr th:only-of-type {\n",
       "        vertical-align: middle;\n",
       "    }\n",
       "\n",
       "    .dataframe tbody tr th {\n",
       "        vertical-align: top;\n",
       "    }\n",
       "\n",
       "    .dataframe thead th {\n",
       "        text-align: right;\n",
       "    }\n",
       "</style>\n",
       "<table border=\"1\" class=\"dataframe\">\n",
       "  <thead>\n",
       "    <tr style=\"text-align: right;\">\n",
       "      <th></th>\n",
       "      <th>city</th>\n",
       "      <th>city_ascii</th>\n",
       "      <th>lat</th>\n",
       "      <th>lng</th>\n",
       "      <th>country</th>\n",
       "      <th>iso2</th>\n",
       "      <th>iso3</th>\n",
       "      <th>admin_name</th>\n",
       "      <th>capital</th>\n",
       "      <th>population</th>\n",
       "      <th>id</th>\n",
       "    </tr>\n",
       "  </thead>\n",
       "  <tbody>\n",
       "    <tr>\n",
       "      <th>6279</th>\n",
       "      <td>Berlin</td>\n",
       "      <td>Berlin</td>\n",
       "      <td>52.5218</td>\n",
       "      <td>13.4015</td>\n",
       "      <td>Germany</td>\n",
       "      <td>DE</td>\n",
       "      <td>DEU</td>\n",
       "      <td>Berlin</td>\n",
       "      <td>primary</td>\n",
       "      <td>3406000.0</td>\n",
       "      <td>1276451290</td>\n",
       "    </tr>\n",
       "    <tr>\n",
       "      <th>6280</th>\n",
       "      <td>Cologne</td>\n",
       "      <td>Cologne</td>\n",
       "      <td>50.9300</td>\n",
       "      <td>6.9500</td>\n",
       "      <td>Germany</td>\n",
       "      <td>DE</td>\n",
       "      <td>DEU</td>\n",
       "      <td>North Rhine-Westphalia</td>\n",
       "      <td>NaN</td>\n",
       "      <td>1004000.0</td>\n",
       "      <td>1276015998</td>\n",
       "    </tr>\n",
       "    <tr>\n",
       "      <th>6281</th>\n",
       "      <td>Munich</td>\n",
       "      <td>Munich</td>\n",
       "      <td>48.1299</td>\n",
       "      <td>11.5750</td>\n",
       "      <td>Germany</td>\n",
       "      <td>DE</td>\n",
       "      <td>DEU</td>\n",
       "      <td>Bavaria</td>\n",
       "      <td>admin</td>\n",
       "      <td>1275000.0</td>\n",
       "      <td>1276692352</td>\n",
       "    </tr>\n",
       "    <tr>\n",
       "      <th>6282</th>\n",
       "      <td>Potsdam</td>\n",
       "      <td>Potsdam</td>\n",
       "      <td>52.4004</td>\n",
       "      <td>13.0700</td>\n",
       "      <td>Germany</td>\n",
       "      <td>DE</td>\n",
       "      <td>DEU</td>\n",
       "      <td>Brandenburg</td>\n",
       "      <td>admin</td>\n",
       "      <td>218095.0</td>\n",
       "      <td>1276395100</td>\n",
       "    </tr>\n",
       "    <tr>\n",
       "      <th>6283</th>\n",
       "      <td>Kiel</td>\n",
       "      <td>Kiel</td>\n",
       "      <td>54.3304</td>\n",
       "      <td>10.1300</td>\n",
       "      <td>Germany</td>\n",
       "      <td>DE</td>\n",
       "      <td>DEU</td>\n",
       "      <td>Schleswig-Holstein</td>\n",
       "      <td>admin</td>\n",
       "      <td>269427.0</td>\n",
       "      <td>1276305306</td>\n",
       "    </tr>\n",
       "  </tbody>\n",
       "</table>\n",
       "</div>"
      ],
      "text/plain": [
       "         city city_ascii      lat      lng  country iso2 iso3  \\\n",
       "6279   Berlin     Berlin  52.5218  13.4015  Germany   DE  DEU   \n",
       "6280  Cologne    Cologne  50.9300   6.9500  Germany   DE  DEU   \n",
       "6281   Munich     Munich  48.1299  11.5750  Germany   DE  DEU   \n",
       "6282  Potsdam    Potsdam  52.4004  13.0700  Germany   DE  DEU   \n",
       "6283     Kiel       Kiel  54.3304  10.1300  Germany   DE  DEU   \n",
       "\n",
       "                  admin_name  capital  population          id  \n",
       "6279                  Berlin  primary   3406000.0  1276451290  \n",
       "6280  North Rhine-Westphalia      NaN   1004000.0  1276015998  \n",
       "6281                 Bavaria    admin   1275000.0  1276692352  \n",
       "6282             Brandenburg    admin    218095.0  1276395100  \n",
       "6283      Schleswig-Holstein    admin    269427.0  1276305306  "
      ]
     },
     "execution_count": 14,
     "metadata": {},
     "output_type": "execute_result"
    }
   ],
   "source": [
    "df_cities = pd.read_csv('../assets/worldcities.csv')\n",
    "german_cities = df_cities[df_cities['country'] == 'Germany']\n",
    "german_cities.head()"
   ]
  },
  {
   "cell_type": "markdown",
   "metadata": {
    "slideshow": {
     "slide_type": "skip"
    }
   },
   "source": [
    "The map now looks like this:"
   ]
  },
  {
   "cell_type": "code",
   "execution_count": 15,
   "metadata": {
    "scrolled": true,
    "slideshow": {
     "slide_type": "skip"
    }
   },
   "outputs": [],
   "source": [
    "city_list = list()\n",
    "not_found = list()\n",
    "\n",
    "m2 = folium.Map(location=[51,10], tiles=\"Mapbox Bright\", zoom_start=6)\n",
    " \n",
    "    \n",
    "for city, count in city_count.items():\n",
    "    city_info = german_cities[german_cities['city'] == city]\n",
    "    if count > 0 and len(city_info) > 0:\n",
    "        city_list.append(city)\n",
    "        #mask = german_cities['city'] == city\n",
    "        lat = float(city_info['lat'])\n",
    "        lon = float(city_info['lng'])\n",
    "\n",
    "        folium.Circle(\n",
    "        location=[lat, lon],\n",
    "        popup = city + ':' + str(count) + ' mentions',\n",
    "        radius = np.log(count) * 15000,\n",
    "        color = 'crimson',\n",
    "        fill = True,\n",
    "        fill_color = 'crimson'\n",
    "        ).add_to(m2)\n",
    "    if len(city_info) == 0:\n",
    "        not_found.append((city, count))\n",
    "m2.save('germany_counts.html')\n"
   ]
  },
  {
   "cell_type": "code",
   "execution_count": 18,
   "metadata": {
    "slideshow": {
     "slide_type": "skip"
    }
   },
   "outputs": [
    {
     "data": {
      "text/html": [
       "<iframe src=\"germany_counts.html\" width=\"800\" height=\"800\" align=\"middle\"></iframe>\n"
      ],
      "text/plain": [
       "<IPython.core.display.HTML object>"
      ]
     },
     "metadata": {},
     "output_type": "display_data"
    }
   ],
   "source": [
    "%%html\n",
    "<iframe src=\"germany_counts.html\" width=\"800\" height=\"800\" align=\"middle\"></iframe>"
   ]
  },
  {
   "cell_type": "markdown",
   "metadata": {
    "slideshow": {
     "slide_type": "skip"
    }
   },
   "source": [
    "## Green corridors - future project proposal"
   ]
  },
  {
   "cell_type": "markdown",
   "metadata": {
    "slideshow": {
     "slide_type": "skip"
    }
   },
   "source": [
    "In the future, it would be nice to map green areas in a city and estimate the price of achieving large, connected green areas or so-called green corridors. This would involve: \n",
    "<ul>\n",
    "    <li>satellite image processing,  </li>\n",
    "        <li>creating schematic graph of the city marking green and non-green areas; </li>\n",
    "            <li> estimating the cost of making a unit green;  </li>\n",
    "                <li> finding minimal weight connected subgraphs that contain a given set of green areas. </li>\n",
    "</ul>\n",
    "    \n",
    "The most relevant references:\n",
    "<ul>\n",
    "    <li> Conrad, Jon M., et al. \"Wildlife corridors as a connected subgraph problem.\" Journal of Environmental Economics and Management 63.1 (2012): 1-18.\n",
    "        </li>\n",
    "    <li> El-Kebir, Mohammed, and Gunnar W. Klau. \"Solving the maximum-weight connected subgraph problem to optimality.\" arXiv preprint arXiv:1409.5308 (2014).\n",
    "        </li>\n",
    "  <ul>"
   ]
  },
  {
   "cell_type": "markdown",
   "metadata": {
    "slideshow": {
     "slide_type": "slide"
    }
   },
   "source": [
    "## Classifying location mentions\n",
    "\n",
    "How can we tell if a locations is relevant? (What is relevant?)"
   ]
  },
  {
   "cell_type": "code",
   "execution_count": 26,
   "metadata": {
    "slideshow": {
     "slide_type": "skip"
    }
   },
   "outputs": [],
   "source": [
    "sents_with_loc = pd.read_pickle('sents_with_loc_geo.pkl')"
   ]
  },
  {
   "cell_type": "code",
   "execution_count": 27,
   "metadata": {
    "slideshow": {
     "slide_type": "skip"
    }
   },
   "outputs": [
    {
     "data": {
      "text/html": [
       "<div>\n",
       "<style scoped>\n",
       "    .dataframe tbody tr th:only-of-type {\n",
       "        vertical-align: middle;\n",
       "    }\n",
       "\n",
       "    .dataframe tbody tr th {\n",
       "        vertical-align: top;\n",
       "    }\n",
       "\n",
       "    .dataframe thead th {\n",
       "        text-align: right;\n",
       "    }\n",
       "</style>\n",
       "<table border=\"1\" class=\"dataframe\">\n",
       "  <thead>\n",
       "    <tr style=\"text-align: right;\">\n",
       "      <th></th>\n",
       "      <th>index</th>\n",
       "      <th>doc number</th>\n",
       "      <th>location</th>\n",
       "      <th>sentence</th>\n",
       "      <th>country mentions</th>\n",
       "      <th>cities</th>\n",
       "    </tr>\n",
       "  </thead>\n",
       "  <tbody>\n",
       "    <tr>\n",
       "      <th>0</th>\n",
       "      <td>0</td>\n",
       "      <td>0</td>\n",
       "      <td>['Biodiversitätsdach']</td>\n",
       "      <td>Biodiversitätsdach auf dem Besucherzentrum der...</td>\n",
       "      <td>{'DE': 1}</td>\n",
       "      <td>[Berlin]</td>\n",
       "    </tr>\n",
       "    <tr>\n",
       "      <th>1</th>\n",
       "      <td>1</td>\n",
       "      <td>0</td>\n",
       "      <td>['Berlin', 'Pflanzenauswahl']</td>\n",
       "      <td>Dachbegrünung und Biodiversität\\n \\n 2\\n \\n Be...</td>\n",
       "      <td>{'DE': 1}</td>\n",
       "      <td>[Berlin]</td>\n",
       "    </tr>\n",
       "    <tr>\n",
       "      <th>2</th>\n",
       "      <td>11</td>\n",
       "      <td>0</td>\n",
       "      <td>['Schorndorf']</td>\n",
       "      <td>Ansprechpartner im Bereich der Nisthilfen war ...</td>\n",
       "      <td>{'DE': 1}</td>\n",
       "      <td>[Schorndorf]</td>\n",
       "    </tr>\n",
       "    <tr>\n",
       "      <th>3</th>\n",
       "      <td>12</td>\n",
       "      <td>0</td>\n",
       "      <td>['Falkensee']</td>\n",
       "      <td>Für das Totholz zeichnete sich die Firma Kusch...</td>\n",
       "      <td>{'DE': 1}</td>\n",
       "      <td>[Falkensee]</td>\n",
       "    </tr>\n",
       "    <tr>\n",
       "      <th>4</th>\n",
       "      <td>16</td>\n",
       "      <td>1</td>\n",
       "      <td>['Hamburg', 'Hannover', 'Berlin', 'Kornwestheim']</td>\n",
       "      <td>(Deutscher Dachgärtner Verband e.V. - DDV), Ju...</td>\n",
       "      <td>{'DE': 5}</td>\n",
       "      <td>[Hamburg, Stuttgart, Hannover, Berlin, Kornwes...</td>\n",
       "    </tr>\n",
       "  </tbody>\n",
       "</table>\n",
       "</div>"
      ],
      "text/plain": [
       "   index  doc number                                           location  \\\n",
       "0      0           0                             ['Biodiversitätsdach']   \n",
       "1      1           0                      ['Berlin', 'Pflanzenauswahl']   \n",
       "2     11           0                                     ['Schorndorf']   \n",
       "3     12           0                                      ['Falkensee']   \n",
       "4     16           1  ['Hamburg', 'Hannover', 'Berlin', 'Kornwestheim']   \n",
       "\n",
       "                                            sentence country mentions  \\\n",
       "0  Biodiversitätsdach auf dem Besucherzentrum der...        {'DE': 1}   \n",
       "1  Dachbegrünung und Biodiversität\\n \\n 2\\n \\n Be...        {'DE': 1}   \n",
       "2  Ansprechpartner im Bereich der Nisthilfen war ...        {'DE': 1}   \n",
       "3  Für das Totholz zeichnete sich die Firma Kusch...        {'DE': 1}   \n",
       "4  (Deutscher Dachgärtner Verband e.V. - DDV), Ju...        {'DE': 5}   \n",
       "\n",
       "                                              cities  \n",
       "0                                           [Berlin]  \n",
       "1                                           [Berlin]  \n",
       "2                                       [Schorndorf]  \n",
       "3                                        [Falkensee]  \n",
       "4  [Hamburg, Stuttgart, Hannover, Berlin, Kornwes...  "
      ]
     },
     "execution_count": 27,
     "metadata": {},
     "output_type": "execute_result"
    }
   ],
   "source": [
    "sents_with_loc.reset_index(inplace=True)\n",
    "sents_with_loc.head()"
   ]
  },
  {
   "cell_type": "markdown",
   "metadata": {
    "slideshow": {
     "slide_type": "subslide"
    }
   },
   "source": [
    "Let's see a sample of our sentences with locations:"
   ]
  },
  {
   "cell_type": "code",
   "execution_count": 28,
   "metadata": {
    "slideshow": {
     "slide_type": "fragment"
    }
   },
   "outputs": [
    {
     "name": "stdout",
     "output_type": "stream",
     "text": [
      "Gründach-Siedlung in Berlin    \n",
      "--->The countries were: ['DE'] The cities were: ['Berlin'] \n",
      "\n",
      "48329 Havixbeck D 50226 Frechen D 50739 Köln    www.marcel-nadorf.com www.benning-dachbegruenung.de\n",
      "--->The countries were: ['DE'] The cities were: ['Frechen', 'Köln'] \n",
      "\n",
      "Im Pommerfeld 2 56630 Kretz / Andernach fon +49 (0) 26 32 - 95 48-0 fax +49 (0) 26 32 - 95 48-20    www.vulkatec.de info@ vulkatec.de    \n",
      "--->The countries were: ['DE'] The cities were: ['Andernach'] \n",
      "\n",
      "FBB-Symposium Gebäudegrün    Am 20. Februar 2018 findet in Berlin im Rahmen der Grünbau während der Messe Bautec das FBB-Symposium Gebäudegrün statt.\n",
      "--->The countries were: ['DE'] The cities were: ['Berlin'] \n",
      "\n",
      "Auch hier zeigt sich, dass durch Bewässerung eine höhere CO2-Aufnahme im Jahresgang erwartet werden kann.  \n",
      "--->The countries were: ['FR'] The cities were: ['Auch'] \n",
      "\n"
     ]
    }
   ],
   "source": [
    "sample = sents_with_loc.sample(n = 5, random_state = 42)\n",
    "\n",
    "for index, row in sample.iterrows():\n",
    "    print(row['sentence'].replace('\\n', ' '))  \n",
    "    print('--->The countries were:', [c for c in row['country mentions'].keys()],\n",
    "          'The cities were:', row['cities'], '\\n')\n",
    " "
   ]
  },
  {
   "cell_type": "markdown",
   "metadata": {
    "slideshow": {
     "slide_type": "subslide"
    }
   },
   "source": [
    "### First approach: topic modelling "
   ]
  },
  {
   "cell_type": "code",
   "execution_count": 29,
   "metadata": {
    "slideshow": {
     "slide_type": "fragment"
    }
   },
   "outputs": [
    {
     "name": "stderr",
     "output_type": "stream",
     "text": [
      "[nltk_data] Downloading package stopwords to\n",
      "[nltk_data]     C:\\Users\\admin1\\AppData\\Roaming\\nltk_data...\n",
      "[nltk_data]   Package stopwords is already up-to-date!\n"
     ]
    }
   ],
   "source": [
    "nltk.download('stopwords')\n",
    "# we have some English text in the German too so add those as well\n",
    "from nltk.corpus import stopwords\n",
    "stop_words = set(stopwords.words('german'))\n",
    "stop_words = stop_words.union(set(stopwords.words('english')))\n",
    "\n",
    "\n",
    "corpus = [sent for sent in sents_with_loc['sentence']]\n",
    "\n",
    "vect = CountVectorizer(min_df=20, max_df=0.2, stop_words=stop_words, \n",
    "                       token_pattern='(?u)\\\\b\\\\w\\\\w\\\\w+\\\\b')\n",
    "\n",
    "# create the sparse matrix\n",
    "X = vect.fit_transform(corpus)"
   ]
  },
  {
   "cell_type": "code",
   "execution_count": 60,
   "metadata": {
    "slideshow": {
     "slide_type": "skip"
    }
   },
   "outputs": [],
   "source": [
    "\n",
    "# with open(\"stopwords-de.txt\", encoding='utf-8', mode=\"r\") as f:\n",
    "#         stopwords_de = f.read().splitlines()\n",
    "# stopwords_de = frozenset(stopwords_de)\n"
   ]
  },
  {
   "cell_type": "code",
   "execution_count": 63,
   "metadata": {
    "slideshow": {
     "slide_type": "skip"
    }
   },
   "outputs": [
    {
     "data": {
      "text/plain": [
       "<1362x60 sparse matrix of type '<class 'numpy.int64'>'\n",
       "\twith 2150 stored elements in Compressed Sparse Row format>"
      ]
     },
     "execution_count": 63,
     "metadata": {},
     "output_type": "execute_result"
    }
   ],
   "source": [
    "X"
   ]
  },
  {
   "cell_type": "code",
   "execution_count": 30,
   "metadata": {
    "slideshow": {
     "slide_type": "subslide"
    }
   },
   "outputs": [],
   "source": [
    "# IDs to words dict\n",
    "id_map = dict((v, k) for k, v in vect.vocabulary_.items())\n",
    "\n",
    "# Convert sparse matrix to gensim corpus.\n",
    "corpus = gensim.matutils.Sparse2Corpus(X, documents_columns=False)\n",
    "\n",
    "# Train the LDA model\n",
    "from gensim.models.ldamodel import LdaModel\n",
    "\n",
    "ldamodel = LdaModel(corpus=corpus,\n",
    "               id2word=id_map,\n",
    "               num_topics=10,\n",
    "               passes=10,\n",
    "                   random_state = 42)"
   ]
  },
  {
   "cell_type": "markdown",
   "metadata": {
    "slideshow": {
     "slide_type": "subslide"
    }
   },
   "source": [
    "If we check the topics, nothing stands out as super irrelevant but <b>topic 3 and 5</b> might worth our attention."
   ]
  },
  {
   "cell_type": "code",
   "execution_count": 31,
   "metadata": {
    "scrolled": true,
    "slideshow": {
     "slide_type": "fragment"
    }
   },
   "outputs": [
    {
     "data": {
      "text/plain": [
       "[(0,\n",
       "  '0.257*\"hannover\" + 0.160*\"2018\" + 0.145*\"dach\" + 0.137*\"2013\" + 0.113*\"rahmen\" + 0.049*\"stadt\" + 0.028*\"universität\" + 0.025*\"leipzig\" + 0.016*\"gebäudegrün\" + 0.014*\"dächer\"'),\n",
       " (1,\n",
       "  '0.224*\"2017\" + 0.121*\"green\" + 0.097*\"roofs\" + 0.086*\"frankfurt\" + 0.069*\"dachbegrünung\" + 0.068*\"london\" + 0.067*\"internationalen\" + 0.061*\"leipzig\" + 0.051*\"essen\" + 0.043*\"gründach\"'),\n",
       " (2,\n",
       "  '0.177*\"fbb\" + 0.148*\"ditzingen\" + 0.120*\"bugg\" + 0.103*\"gründachsymposium\" + 0.071*\"dachbegrünungen\" + 0.067*\"2018\" + 0.063*\"stuttgart\" + 0.060*\"gebäudegrün\" + 0.042*\"statt\" + 0.028*\"beim\"'),\n",
       " (3,\n",
       "  '0.425*\"gmbh\" + 0.354*\"stuttgart\" + 0.067*\"usa\" + 0.045*\"mannheim\" + 0.020*\"dresden\" + 0.020*\"dachbegrünung\" + 0.019*\"dach\" + 0.008*\"www\" + 0.005*\"bad\" + 0.003*\"fbb\"'),\n",
       " (4,\n",
       "  '0.178*\"city\" + 0.144*\"begrünung\" + 0.133*\"boden\" + 0.123*\"köln\" + 0.113*\"dass\" + 0.059*\"grün\" + 0.048*\"dach\" + 0.047*\"ddv\" + 0.042*\"gebäude\" + 0.027*\"essen\"'),\n",
       " (5,\n",
       "  '0.558*\"www\" + 0.111*\"com\" + 0.064*\"bad\" + 0.059*\"tel\" + 0.052*\"institut\" + 0.035*\"dächer\" + 0.022*\"köln\" + 0.017*\"gmbh\" + 0.017*\"dresden\" + 0.015*\"universität\"'),\n",
       " (6,\n",
       "  '0.168*\"2016\" + 0.165*\"fassadenbegrünung\" + 0.132*\"gebäudebegrünung\" + 0.129*\"fbb\" + 0.094*\"prof\" + 0.040*\"dach\" + 0.038*\"münchen\" + 0.033*\"grün\" + 0.032*\"institut\" + 0.029*\"2014\"'),\n",
       " (7,\n",
       "  '0.156*\"gründach\" + 0.123*\"hamburg\" + 0.090*\"stuttgart\" + 0.078*\"umwelt\" + 0.070*\"münchen\" + 0.066*\"sowie\" + 0.066*\"teil\" + 0.059*\"jahr\" + 0.058*\"universität\" + 0.055*\"gebäude\"'),\n",
       " (8,\n",
       "  '0.202*\"hamburg\" + 0.184*\"wurde\" + 0.114*\"stadt\" + 0.083*\"2017\" + 0.065*\"gebäudegrün\" + 0.060*\"jahren\" + 0.043*\"beim\" + 0.041*\"dresden\" + 0.035*\"2014\" + 0.029*\"grün\"'),\n",
       " (9,\n",
       "  '0.261*\"green\" + 0.194*\"deutschland\" + 0.127*\"roof\" + 0.119*\"urban\" + 0.089*\"statt\" + 0.029*\"city\" + 0.029*\"frankfurt\" + 0.026*\"stuttgart\" + 0.022*\"universität\" + 0.018*\"usa\"')]"
      ]
     },
     "execution_count": 31,
     "metadata": {},
     "output_type": "execute_result"
    }
   ],
   "source": [
    "ldamodel.print_topics(10)"
   ]
  },
  {
   "cell_type": "code",
   "execution_count": 82,
   "metadata": {
    "slideshow": {
     "slide_type": "skip"
    }
   },
   "outputs": [],
   "source": [
    "# import pyLDAvis\n",
    "# import pyLDAvis.gensim\n",
    "\n",
    "# pyLDAvis.enable_notebook()\n",
    "\n",
    "\n",
    "# vis_topics = pyLDAvis.gensim.prepare(ldamodel, corpus, id_map) \n",
    "# vis_topics"
   ]
  },
  {
   "cell_type": "markdown",
   "metadata": {
    "slideshow": {
     "slide_type": "subslide"
    }
   },
   "source": [
    "Let's look at the topic distribution of each sentence and filter for sentences with Topic 3 or 5 being dominant."
   ]
  },
  {
   "cell_type": "code",
   "execution_count": 32,
   "metadata": {
    "slideshow": {
     "slide_type": "fragment"
    }
   },
   "outputs": [
    {
     "data": {
      "text/html": [
       "<div>\n",
       "<style scoped>\n",
       "    .dataframe tbody tr th:only-of-type {\n",
       "        vertical-align: middle;\n",
       "    }\n",
       "\n",
       "    .dataframe tbody tr th {\n",
       "        vertical-align: top;\n",
       "    }\n",
       "\n",
       "    .dataframe thead th {\n",
       "        text-align: right;\n",
       "    }\n",
       "</style>\n",
       "<table border=\"1\" class=\"dataframe\">\n",
       "  <thead>\n",
       "    <tr style=\"text-align: right;\">\n",
       "      <th></th>\n",
       "      <th>index</th>\n",
       "      <th>doc number</th>\n",
       "      <th>location</th>\n",
       "      <th>sentence</th>\n",
       "      <th>country mentions</th>\n",
       "      <th>cities</th>\n",
       "      <th>dominant topic</th>\n",
       "    </tr>\n",
       "  </thead>\n",
       "  <tbody>\n",
       "    <tr>\n",
       "      <th>0</th>\n",
       "      <td>0</td>\n",
       "      <td>0</td>\n",
       "      <td>['Biodiversitätsdach']</td>\n",
       "      <td>Biodiversitätsdach auf dem Besucherzentrum der...</td>\n",
       "      <td>{'DE': 1}</td>\n",
       "      <td>[Berlin]</td>\n",
       "      <td>(1, 0.5499903)</td>\n",
       "    </tr>\n",
       "    <tr>\n",
       "      <th>1</th>\n",
       "      <td>1</td>\n",
       "      <td>0</td>\n",
       "      <td>['Berlin', 'Pflanzenauswahl']</td>\n",
       "      <td>Dachbegrünung und Biodiversität\\n \\n 2\\n \\n Be...</td>\n",
       "      <td>{'DE': 1}</td>\n",
       "      <td>[Berlin]</td>\n",
       "      <td>(1, 0.69998765)</td>\n",
       "    </tr>\n",
       "    <tr>\n",
       "      <th>2</th>\n",
       "      <td>11</td>\n",
       "      <td>0</td>\n",
       "      <td>['Schorndorf']</td>\n",
       "      <td>Ansprechpartner im Bereich der Nisthilfen war ...</td>\n",
       "      <td>{'DE': 1}</td>\n",
       "      <td>[Schorndorf]</td>\n",
       "      <td>(3, 0.5499983)</td>\n",
       "    </tr>\n",
       "    <tr>\n",
       "      <th>3</th>\n",
       "      <td>12</td>\n",
       "      <td>0</td>\n",
       "      <td>['Falkensee']</td>\n",
       "      <td>Für das Totholz zeichnete sich die Firma Kusch...</td>\n",
       "      <td>{'DE': 1}</td>\n",
       "      <td>[Falkensee]</td>\n",
       "      <td>(3, 0.5499983)</td>\n",
       "    </tr>\n",
       "    <tr>\n",
       "      <th>4</th>\n",
       "      <td>16</td>\n",
       "      <td>1</td>\n",
       "      <td>['Hamburg', 'Hannover', 'Berlin', 'Kornwestheim']</td>\n",
       "      <td>(Deutscher Dachgärtner Verband e.V. - DDV), Ju...</td>\n",
       "      <td>{'DE': 5}</td>\n",
       "      <td>[Hamburg, Stuttgart, Hannover, Berlin, Kornwes...</td>\n",
       "      <td>(7, 0.77570164)</td>\n",
       "    </tr>\n",
       "    <tr>\n",
       "      <th>5</th>\n",
       "      <td>26</td>\n",
       "      <td>1</td>\n",
       "      <td>['Berlin', 'Hamburg', 'Hannover', 'Ludwigsburg...</td>\n",
       "      <td>Neben aktuellen Gründach-Initiativen aus Berli...</td>\n",
       "      <td>{'DE': 5}</td>\n",
       "      <td>[Berlin, Hamburg, Hannover, Ludwigsburg, Stutt...</td>\n",
       "      <td>(7, 0.84997654)</td>\n",
       "    </tr>\n",
       "    <tr>\n",
       "      <th>6</th>\n",
       "      <td>27</td>\n",
       "      <td>1</td>\n",
       "      <td>['Hannover']</td>\n",
       "      <td>25\\n \\n Hannover:</td>\n",
       "      <td>{'DE': 1}</td>\n",
       "      <td>[Hannover]</td>\n",
       "      <td>(0, 0.54999775)</td>\n",
       "    </tr>\n",
       "    <tr>\n",
       "      <th>7</th>\n",
       "      <td>28</td>\n",
       "      <td>1</td>\n",
       "      <td>['Stuttgart']</td>\n",
       "      <td>Gebäudebegrünung als Bestandteil der Klimaanpa...</td>\n",
       "      <td>{'DE': 1}</td>\n",
       "      <td>[Stuttgart]</td>\n",
       "      <td>(6, 0.378283)</td>\n",
       "    </tr>\n",
       "    <tr>\n",
       "      <th>8</th>\n",
       "      <td>30</td>\n",
       "      <td>1</td>\n",
       "      <td>['Berlin']</td>\n",
       "      <td>32\\n \\n Berlin:</td>\n",
       "      <td>{'DE': 1}</td>\n",
       "      <td>[Berlin]</td>\n",
       "      <td>(0, 0.1)</td>\n",
       "    </tr>\n",
       "    <tr>\n",
       "      <th>9</th>\n",
       "      <td>31</td>\n",
       "      <td>1</td>\n",
       "      <td>['Ludwigsburg']</td>\n",
       "      <td>Ökologische Gebäudekonzepte und Modellvorhaben...</td>\n",
       "      <td>{'DE': 1}</td>\n",
       "      <td>[Ludwigsburg]</td>\n",
       "      <td>(0, 0.1)</td>\n",
       "    </tr>\n",
       "    <tr>\n",
       "      <th>10</th>\n",
       "      <td>37</td>\n",
       "      <td>1</td>\n",
       "      <td>['Berlin', 'Hamburg', 'Hannover', 'Ludwigsburg...</td>\n",
       "      <td>Die in dieser Broschüre vorgestellten praktisc...</td>\n",
       "      <td>{'DE': 5}</td>\n",
       "      <td>[Berlin, Hamburg, Hannover, Ludwigsburg, Stutt...</td>\n",
       "      <td>(8, 0.27521625)</td>\n",
       "    </tr>\n",
       "    <tr>\n",
       "      <th>11</th>\n",
       "      <td>44</td>\n",
       "      <td>1</td>\n",
       "      <td>['Pilotprojektes', 'Hamburg', 'BUE', 'Stuttgar...</td>\n",
       "      <td>Zu den weiteren Kooperationspartnern des Pilot...</td>\n",
       "      <td>{'DE': 2}</td>\n",
       "      <td>[Karlsruhe, Stuttgart]</td>\n",
       "      <td>(7, 0.8150366)</td>\n",
       "    </tr>\n",
       "    <tr>\n",
       "      <th>12</th>\n",
       "      <td>65</td>\n",
       "      <td>1</td>\n",
       "      <td>['Straße', '\\n ']</td>\n",
       "      <td>Man sieht an dieser Stelle bereits, dass die v...</td>\n",
       "      <td>{'CI': 1, 'SE': 1}</td>\n",
       "      <td>[Man, Boden]</td>\n",
       "      <td>(4, 0.77499545)</td>\n",
       "    </tr>\n",
       "    <tr>\n",
       "      <th>13</th>\n",
       "      <td>119</td>\n",
       "      <td>1</td>\n",
       "      <td>['Ökosystemleistungen']</td>\n",
       "      <td>Die damit einhergehende Quantifizierung der ge...</td>\n",
       "      <td>{'SE': 1}</td>\n",
       "      <td>[Boden]</td>\n",
       "      <td>(4, 0.36666808)</td>\n",
       "    </tr>\n",
       "    <tr>\n",
       "      <th>14</th>\n",
       "      <td>126</td>\n",
       "      <td>1</td>\n",
       "      <td>['Kommunales', 'Berlin']</td>\n",
       "      <td>/ Kommunales Grünprogramm Berlin:</td>\n",
       "      <td>{'DE': 1}</td>\n",
       "      <td>[Berlin]</td>\n",
       "      <td>(0, 0.1)</td>\n",
       "    </tr>\n",
       "    <tr>\n",
       "      <th>15</th>\n",
       "      <td>128</td>\n",
       "      <td>1</td>\n",
       "      <td>['\\n \\n \\x0cHamburg\\n ']</td>\n",
       "      <td>TH Treibhaus Landschaftsarchitekten, Luftbild:...</td>\n",
       "      <td>{'DE': 1}</td>\n",
       "      <td>[Hamburg]</td>\n",
       "      <td>(7, 0.7749931)</td>\n",
       "    </tr>\n",
       "    <tr>\n",
       "      <th>16</th>\n",
       "      <td>129</td>\n",
       "      <td>1</td>\n",
       "      <td>['Hamburg']</td>\n",
       "      <td>Hamburg:</td>\n",
       "      <td>{'DE': 1}</td>\n",
       "      <td>[Hamburg]</td>\n",
       "      <td>(8, 0.5499831)</td>\n",
       "    </tr>\n",
       "    <tr>\n",
       "      <th>17</th>\n",
       "      <td>154</td>\n",
       "      <td>1</td>\n",
       "      <td>['Hannover', 'Hannover', 'Zahl']</td>\n",
       "      <td>Nach der von der Landeshauptstadt in 2010 beau...</td>\n",
       "      <td>{'DE': 2}</td>\n",
       "      <td>[Hannover, Hannover]</td>\n",
       "      <td>(0, 0.69999844)</td>\n",
       "    </tr>\n",
       "    <tr>\n",
       "      <th>18</th>\n",
       "      <td>158</td>\n",
       "      <td>1</td>\n",
       "      <td>['Hannover']</td>\n",
       "      <td>Mögliche Folgen des Klimawandels für Hannover</td>\n",
       "      <td>{'DE': 1}</td>\n",
       "      <td>[Hannover]</td>\n",
       "      <td>(0, 0.54999757)</td>\n",
       "    </tr>\n",
       "    <tr>\n",
       "      <th>19</th>\n",
       "      <td>172</td>\n",
       "      <td>1</td>\n",
       "      <td>['\\n \\n \\x0cHannover']</td>\n",
       "      <td>Teil II Kommunale Gründach-Strategien 29\\n \\n ...</td>\n",
       "      <td>{'DE': 1}</td>\n",
       "      <td>[Hannover]</td>\n",
       "      <td>(7, 0.61583203)</td>\n",
       "    </tr>\n",
       "    <tr>\n",
       "      <th>20</th>\n",
       "      <td>180</td>\n",
       "      <td>1</td>\n",
       "      <td>['Hannover']</td>\n",
       "      <td>Die Nord/LB in Hannover verfügt über eine knap...</td>\n",
       "      <td>{'DE': 1}</td>\n",
       "      <td>[Hannover]</td>\n",
       "      <td>(0, 0.3666658)</td>\n",
       "    </tr>\n",
       "    <tr>\n",
       "      <th>21</th>\n",
       "      <td>183</td>\n",
       "      <td>1</td>\n",
       "      <td>['Hannover']</td>\n",
       "      <td>Von diesen Gründachflächen fließen (bezogen au...</td>\n",
       "      <td>{'DE': 1}</td>\n",
       "      <td>[Hannover]</td>\n",
       "      <td>(7, 0.35741398)</td>\n",
       "    </tr>\n",
       "    <tr>\n",
       "      <th>22</th>\n",
       "      <td>185</td>\n",
       "      <td>1</td>\n",
       "      <td>['Stadt Hannover', 'Stadt', 'Hannover']</td>\n",
       "      <td>Ein Beispiel für Fördermöglichkeiten bietet da...</td>\n",
       "      <td>{'DE': 1}</td>\n",
       "      <td>[Hannover]</td>\n",
       "      <td>(0, 0.72287095)</td>\n",
       "    </tr>\n",
       "    <tr>\n",
       "      <th>23</th>\n",
       "      <td>192</td>\n",
       "      <td>1</td>\n",
       "      <td>['\\n \\n \\x0cStuttgart']</td>\n",
       "      <td>Teil II Kommunale Gründach-Strategien 31\\n \\n ...</td>\n",
       "      <td>{'DE': 1}</td>\n",
       "      <td>[Stuttgart]</td>\n",
       "      <td>(7, 0.7749838)</td>\n",
       "    </tr>\n",
       "    <tr>\n",
       "      <th>24</th>\n",
       "      <td>193</td>\n",
       "      <td>1</td>\n",
       "      <td>['Stuttgart']</td>\n",
       "      <td>Stuttgart:</td>\n",
       "      <td>{'DE': 1}</td>\n",
       "      <td>[Stuttgart]</td>\n",
       "      <td>(3, 0.54998803)</td>\n",
       "    </tr>\n",
       "    <tr>\n",
       "      <th>25</th>\n",
       "      <td>196</td>\n",
       "      <td>1</td>\n",
       "      <td>['Stuttgart']</td>\n",
       "      <td>Urbanes Gärtnern in Stuttgart</td>\n",
       "      <td>{'DE': 1}</td>\n",
       "      <td>[Stuttgart]</td>\n",
       "      <td>(3, 0.5499881)</td>\n",
       "    </tr>\n",
       "    <tr>\n",
       "      <th>26</th>\n",
       "      <td>198</td>\n",
       "      <td>1</td>\n",
       "      <td>['Stuttgart']</td>\n",
       "      <td>Doch Nutzgärten haben in vielen Städten eine l...</td>\n",
       "      <td>{'DE': 1}</td>\n",
       "      <td>[Stuttgart]</td>\n",
       "      <td>(3, 0.5499881)</td>\n",
       "    </tr>\n",
       "    <tr>\n",
       "      <th>27</th>\n",
       "      <td>202</td>\n",
       "      <td>1</td>\n",
       "      <td>['Stuttgart']</td>\n",
       "      <td>Weitere Gärten in Stuttgart sind geplant.</td>\n",
       "      <td>{'DE': 1}</td>\n",
       "      <td>[Stuttgart]</td>\n",
       "      <td>(3, 0.5499881)</td>\n",
       "    </tr>\n",
       "    <tr>\n",
       "      <th>28</th>\n",
       "      <td>210</td>\n",
       "      <td>1</td>\n",
       "      <td>['Stadt Stuttgart', 'Stuttgart', 'Stuttgart']</td>\n",
       "      <td>© Stadt Stuttgart\\n \\n In den letzten Jahren s...</td>\n",
       "      <td>{'DE': 2}</td>\n",
       "      <td>[Stuttgart, Stuttgart]</td>\n",
       "      <td>(8, 0.41395968)</td>\n",
       "    </tr>\n",
       "    <tr>\n",
       "      <th>29</th>\n",
       "      <td>217</td>\n",
       "      <td>1</td>\n",
       "      <td>['Landes-\\n \\n hauptstadt', 'Stuttgart']</td>\n",
       "      <td>Die Gemeinderäte haben der neuen Richtlinie fü...</td>\n",
       "      <td>{'DE': 1}</td>\n",
       "      <td>[Stuttgart]</td>\n",
       "      <td>(6, 0.62410635)</td>\n",
       "    </tr>\n",
       "    <tr>\n",
       "      <th>...</th>\n",
       "      <td>...</td>\n",
       "      <td>...</td>\n",
       "      <td>...</td>\n",
       "      <td>...</td>\n",
       "      <td>...</td>\n",
       "      <td>...</td>\n",
       "      <td>...</td>\n",
       "    </tr>\n",
       "    <tr>\n",
       "      <th>1332</th>\n",
       "      <td>7616</td>\n",
       "      <td>24</td>\n",
       "      <td>['Darmstadt']</td>\n",
       "      <td>Darmstadt\\n \\n</td>\n",
       "      <td>{'DE': 1}</td>\n",
       "      <td>[Darmstadt]</td>\n",
       "      <td>(0, 0.1)</td>\n",
       "    </tr>\n",
       "    <tr>\n",
       "      <th>1333</th>\n",
       "      <td>7617</td>\n",
       "      <td>24</td>\n",
       "      <td>['Bulgaria']</td>\n",
       "      <td>Bulgaria\\n \\n</td>\n",
       "      <td>{'BG': 1}</td>\n",
       "      <td>[]</td>\n",
       "      <td>(0, 0.1)</td>\n",
       "    </tr>\n",
       "    <tr>\n",
       "      <th>1334</th>\n",
       "      <td>7618</td>\n",
       "      <td>24</td>\n",
       "      <td>['South Korea']</td>\n",
       "      <td>South Korea\\n \\n</td>\n",
       "      <td>{'KR': 1}</td>\n",
       "      <td>[]</td>\n",
       "      <td>(0, 0.1)</td>\n",
       "    </tr>\n",
       "    <tr>\n",
       "      <th>1335</th>\n",
       "      <td>7619</td>\n",
       "      <td>24</td>\n",
       "      <td>['Seoul', 'Korea\\n \\n Germany Germany']</td>\n",
       "      <td>curve and keyword analysis for biodiversity co...</td>\n",
       "      <td>{'KR': 1}</td>\n",
       "      <td>[Seoul]</td>\n",
       "      <td>(0, 0.1)</td>\n",
       "    </tr>\n",
       "    <tr>\n",
       "      <th>1336</th>\n",
       "      <td>7620</td>\n",
       "      <td>24</td>\n",
       "      <td>['Design-for-Safety']</td>\n",
       "      <td>Why we need Design-for-Safety (DfS) for Skyris...</td>\n",
       "      <td>{'FR': 1}</td>\n",
       "      <td>[]</td>\n",
       "      <td>(9, 0.6999999)</td>\n",
       "    </tr>\n",
       "    <tr>\n",
       "      <th>1337</th>\n",
       "      <td>7621</td>\n",
       "      <td>24</td>\n",
       "      <td>['Deutschland']</td>\n",
       "      <td>Switzerland\\n \\n Artenschutz über den Köpfen -...</td>\n",
       "      <td>{'CH': 1, 'AT': 1, 'KR': 1}</td>\n",
       "      <td>[Seoul]</td>\n",
       "      <td>(9, 0.87141585)</td>\n",
       "    </tr>\n",
       "    <tr>\n",
       "      <th>1338</th>\n",
       "      <td>7623</td>\n",
       "      <td>24</td>\n",
       "      <td>['Denver Colorado', 'Denver', 'Colorado', 'USA']</td>\n",
       "      <td>Denver Colorado\\n \\n BIO-TECTURE Living Wall S...</td>\n",
       "      <td>{'DE': 1, 'US': 1, 'BR': 1}</td>\n",
       "      <td>[Denver, Colorado]</td>\n",
       "      <td>(3, 0.5499947)</td>\n",
       "    </tr>\n",
       "    <tr>\n",
       "      <th>1339</th>\n",
       "      <td>7624</td>\n",
       "      <td>24</td>\n",
       "      <td>['Poland\\n ']</td>\n",
       "      <td>Living walls in public spaces in Poland\\n</td>\n",
       "      <td>{'PL': 1}</td>\n",
       "      <td>[]</td>\n",
       "      <td>(0, 0.1)</td>\n",
       "    </tr>\n",
       "    <tr>\n",
       "      <th>1340</th>\n",
       "      <td>7630</td>\n",
       "      <td>24</td>\n",
       "      <td>['Vienna', 'Tel.', '\\n Prof. Dr.-Ing']</td>\n",
       "      <td>Architects Bernardgasse 21 A - 1070 Vienna, Te...</td>\n",
       "      <td>{'US': 1}</td>\n",
       "      <td>[Vienna]</td>\n",
       "      <td>(5, 0.5912214)</td>\n",
       "    </tr>\n",
       "    <tr>\n",
       "      <th>1341</th>\n",
       "      <td>7634</td>\n",
       "      <td>24</td>\n",
       "      <td>['Madrid']</td>\n",
       "      <td>2 E - 28040 Madrid\\n Dr. rer. hort.</td>\n",
       "      <td>{'ES': 1}</td>\n",
       "      <td>[Madrid]</td>\n",
       "      <td>(0, 0.1)</td>\n",
       "    </tr>\n",
       "    <tr>\n",
       "      <th>1342</th>\n",
       "      <td>7637</td>\n",
       "      <td>24</td>\n",
       "      <td>['Pokfulam']</td>\n",
       "      <td>Y. Chen Department of Geography, The Universit...</td>\n",
       "      <td>{'HK': 4}</td>\n",
       "      <td>[]</td>\n",
       "      <td>(0, 0.1)</td>\n",
       "    </tr>\n",
       "    <tr>\n",
       "      <th>1343</th>\n",
       "      <td>7638</td>\n",
       "      <td>24</td>\n",
       "      <td>['Berlin']</td>\n",
       "      <td>D - 10965 Berlin</td>\n",
       "      <td>{'DE': 1}</td>\n",
       "      <td>[Berlin]</td>\n",
       "      <td>(0, 0.1)</td>\n",
       "    </tr>\n",
       "    <tr>\n",
       "      <th>1344</th>\n",
       "      <td>7639</td>\n",
       "      <td>24</td>\n",
       "      <td>['\\n ']</td>\n",
       "      <td>DD-Berlin.de\\n</td>\n",
       "      <td>{'DE': 1}</td>\n",
       "      <td>[Berlin]</td>\n",
       "      <td>(0, 0.1)</td>\n",
       "    </tr>\n",
       "    <tr>\n",
       "      <th>1345</th>\n",
       "      <td>7642</td>\n",
       "      <td>24</td>\n",
       "      <td>['Bolzano', 'Bozen']</td>\n",
       "      <td>22 Mühlbachpromenade 22 I - 39100 Bolzano - Bo...</td>\n",
       "      <td>{'IT': 1}</td>\n",
       "      <td>[Bolzano]</td>\n",
       "      <td>(5, 0.55)</td>\n",
       "    </tr>\n",
       "    <tr>\n",
       "      <th>1346</th>\n",
       "      <td>7643</td>\n",
       "      <td>24</td>\n",
       "      <td>['Budapest']</td>\n",
       "      <td>Elnök utca 24 HUN - 1089 Budapest pdezsenyi@gr...</td>\n",
       "      <td>{'HU': 1}</td>\n",
       "      <td>[Budapest]</td>\n",
       "      <td>(0, 0.1)</td>\n",
       "    </tr>\n",
       "    <tr>\n",
       "      <th>1347</th>\n",
       "      <td>7645</td>\n",
       "      <td>24</td>\n",
       "      <td>['USA', 'Boston']</td>\n",
       "      <td>20 Custom House Street Suite 800 USA - Boston,...</td>\n",
       "      <td>{'US': 1}</td>\n",
       "      <td>[Boston]</td>\n",
       "      <td>(5, 0.52477914)</td>\n",
       "    </tr>\n",
       "    <tr>\n",
       "      <th>1348</th>\n",
       "      <td>7653</td>\n",
       "      <td>24</td>\n",
       "      <td>['\\n \\n Prof.']</td>\n",
       "      <td>Babul Asociacion de Infrastructura Verde de Ch...</td>\n",
       "      <td>{'CL': 1}</td>\n",
       "      <td>[]</td>\n",
       "      <td>(5, 0.3983512)</td>\n",
       "    </tr>\n",
       "    <tr>\n",
       "      <th>1349</th>\n",
       "      <td>7656</td>\n",
       "      <td>24</td>\n",
       "      <td>['Bonn\\n Marco Fritz European Commission DG Re...</td>\n",
       "      <td>II 6 ­ Bauen und Umwelt Deichmanns Aue 31-37 D...</td>\n",
       "      <td>{'DE': 2}</td>\n",
       "      <td>[Aue, Bonn]</td>\n",
       "      <td>(7, 0.5499994)</td>\n",
       "    </tr>\n",
       "    <tr>\n",
       "      <th>1350</th>\n",
       "      <td>7659</td>\n",
       "      <td>24</td>\n",
       "      <td>['Chapingo', 'Edo']</td>\n",
       "      <td>38.5 Carretera México-Texcoco, Chapingo, Edo. ...</td>\n",
       "      <td>{'MX': 1}</td>\n",
       "      <td>[]</td>\n",
       "      <td>(0, 0.1)</td>\n",
       "    </tr>\n",
       "    <tr>\n",
       "      <th>1351</th>\n",
       "      <td>7663</td>\n",
       "      <td>24</td>\n",
       "      <td>['Haus 16', 'Berlin']</td>\n",
       "      <td>Philippstr. 13, Haus 16 D - 10115 Berlin</td>\n",
       "      <td>{'DE': 1}</td>\n",
       "      <td>[Berlin]</td>\n",
       "      <td>(0, 0.1)</td>\n",
       "    </tr>\n",
       "    <tr>\n",
       "      <th>1352</th>\n",
       "      <td>7671</td>\n",
       "      <td>24</td>\n",
       "      <td>['Stuttgart']</td>\n",
       "      <td>KG Korntaler Landstraße 63 D - 70499 Stuttgart...</td>\n",
       "      <td>{'DE': 1}</td>\n",
       "      <td>[Stuttgart]</td>\n",
       "      <td>(3, 0.3707545)</td>\n",
       "    </tr>\n",
       "    <tr>\n",
       "      <th>1353</th>\n",
       "      <td>7673</td>\n",
       "      <td>24</td>\n",
       "      <td>['Bad Pyrmont']</td>\n",
       "      <td>Baarsen 77 D - 31812 Bad Pyrmont</td>\n",
       "      <td>{'DE': 1}</td>\n",
       "      <td>[Bad Pyrmont]</td>\n",
       "      <td>(5, 0.5499988)</td>\n",
       "    </tr>\n",
       "    <tr>\n",
       "      <th>1354</th>\n",
       "      <td>7679</td>\n",
       "      <td>24</td>\n",
       "      <td>['Berlin']</td>\n",
       "      <td>D - 10178 Berlin</td>\n",
       "      <td>{'DE': 1}</td>\n",
       "      <td>[Berlin]</td>\n",
       "      <td>(0, 0.1)</td>\n",
       "    </tr>\n",
       "    <tr>\n",
       "      <th>1355</th>\n",
       "      <td>7682</td>\n",
       "      <td>24</td>\n",
       "      <td>['Berlin']</td>\n",
       "      <td>D - 10707 Berlin</td>\n",
       "      <td>{'DE': 1}</td>\n",
       "      <td>[Berlin]</td>\n",
       "      <td>(0, 0.1)</td>\n",
       "    </tr>\n",
       "    <tr>\n",
       "      <th>1356</th>\n",
       "      <td>7689</td>\n",
       "      <td>24</td>\n",
       "      <td>['D', 'Berlin']</td>\n",
       "      <td>135 e, D - 14167 Berlin k.neumann@kn-mail.de</td>\n",
       "      <td>{'DE': 1}</td>\n",
       "      <td>[Berlin]</td>\n",
       "      <td>(0, 0.1)</td>\n",
       "    </tr>\n",
       "    <tr>\n",
       "      <th>1357</th>\n",
       "      <td>7703</td>\n",
       "      <td>24</td>\n",
       "      <td>['Nachhaltiges', 'Stuttgart', '\\n ']</td>\n",
       "      <td>Deutsche Gesellschaft für Nachhaltiges Bauen ­...</td>\n",
       "      <td>{'DE': 1}</td>\n",
       "      <td>[Stuttgart]</td>\n",
       "      <td>(3, 0.37075663)</td>\n",
       "    </tr>\n",
       "    <tr>\n",
       "      <th>1358</th>\n",
       "      <td>7706</td>\n",
       "      <td>24</td>\n",
       "      <td>['Berlin', '\\n Prof.']</td>\n",
       "      <td>+43-699-19744304 bernhard.scharf@green4cities....</td>\n",
       "      <td>{'SG': 1, 'DE': 1}</td>\n",
       "      <td>[Berlin]</td>\n",
       "      <td>(5, 0.82631105)</td>\n",
       "    </tr>\n",
       "    <tr>\n",
       "      <th>1359</th>\n",
       "      <td>7707</td>\n",
       "      <td>24</td>\n",
       "      <td>['London', 'EC1A']</td>\n",
       "      <td>CIRIA Griffin Court, 15 Long Lane UK - London,...</td>\n",
       "      <td>{'GB': 1}</td>\n",
       "      <td>[London]</td>\n",
       "      <td>(1, 0.5499942)</td>\n",
       "    </tr>\n",
       "    <tr>\n",
       "      <th>1360</th>\n",
       "      <td>7714</td>\n",
       "      <td>24</td>\n",
       "      <td>['UK', 'Sheffield', 'S6']</td>\n",
       "      <td>UK - Sheffield, S6</td>\n",
       "      <td>{'GB': 1}</td>\n",
       "      <td>[Sheffield]</td>\n",
       "      <td>(0, 0.1)</td>\n",
       "    </tr>\n",
       "    <tr>\n",
       "      <th>1361</th>\n",
       "      <td>7715</td>\n",
       "      <td>24</td>\n",
       "      <td>['Denver', '\\n Prof.']</td>\n",
       "      <td>1250 14th Street Suite 2000 USA - 80202 Denver...</td>\n",
       "      <td>{'US': 1}</td>\n",
       "      <td>[Denver]</td>\n",
       "      <td>(6, 0.36667323)</td>\n",
       "    </tr>\n",
       "  </tbody>\n",
       "</table>\n",
       "<p>1362 rows × 7 columns</p>\n",
       "</div>"
      ],
      "text/plain": [
       "      index  doc number                                           location  \\\n",
       "0         0           0                             ['Biodiversitätsdach']   \n",
       "1         1           0                      ['Berlin', 'Pflanzenauswahl']   \n",
       "2        11           0                                     ['Schorndorf']   \n",
       "3        12           0                                      ['Falkensee']   \n",
       "4        16           1  ['Hamburg', 'Hannover', 'Berlin', 'Kornwestheim']   \n",
       "5        26           1  ['Berlin', 'Hamburg', 'Hannover', 'Ludwigsburg...   \n",
       "6        27           1                                       ['Hannover']   \n",
       "7        28           1                                      ['Stuttgart']   \n",
       "8        30           1                                         ['Berlin']   \n",
       "9        31           1                                    ['Ludwigsburg']   \n",
       "10       37           1  ['Berlin', 'Hamburg', 'Hannover', 'Ludwigsburg...   \n",
       "11       44           1  ['Pilotprojektes', 'Hamburg', 'BUE', 'Stuttgar...   \n",
       "12       65           1                                  ['Straße', '\\n ']   \n",
       "13      119           1                            ['Ökosystemleistungen']   \n",
       "14      126           1                           ['Kommunales', 'Berlin']   \n",
       "15      128           1                           ['\\n \\n \\x0cHamburg\\n ']   \n",
       "16      129           1                                        ['Hamburg']   \n",
       "17      154           1                   ['Hannover', 'Hannover', 'Zahl']   \n",
       "18      158           1                                       ['Hannover']   \n",
       "19      172           1                             ['\\n \\n \\x0cHannover']   \n",
       "20      180           1                                       ['Hannover']   \n",
       "21      183           1                                       ['Hannover']   \n",
       "22      185           1            ['Stadt Hannover', 'Stadt', 'Hannover']   \n",
       "23      192           1                            ['\\n \\n \\x0cStuttgart']   \n",
       "24      193           1                                      ['Stuttgart']   \n",
       "25      196           1                                      ['Stuttgart']   \n",
       "26      198           1                                      ['Stuttgart']   \n",
       "27      202           1                                      ['Stuttgart']   \n",
       "28      210           1      ['Stadt Stuttgart', 'Stuttgart', 'Stuttgart']   \n",
       "29      217           1           ['Landes-\\n \\n hauptstadt', 'Stuttgart']   \n",
       "...     ...         ...                                                ...   \n",
       "1332   7616          24                                      ['Darmstadt']   \n",
       "1333   7617          24                                       ['Bulgaria']   \n",
       "1334   7618          24                                    ['South Korea']   \n",
       "1335   7619          24            ['Seoul', 'Korea\\n \\n Germany Germany']   \n",
       "1336   7620          24                              ['Design-for-Safety']   \n",
       "1337   7621          24                                    ['Deutschland']   \n",
       "1338   7623          24   ['Denver Colorado', 'Denver', 'Colorado', 'USA']   \n",
       "1339   7624          24                                      ['Poland\\n ']   \n",
       "1340   7630          24             ['Vienna', 'Tel.', '\\n Prof. Dr.-Ing']   \n",
       "1341   7634          24                                         ['Madrid']   \n",
       "1342   7637          24                                       ['Pokfulam']   \n",
       "1343   7638          24                                         ['Berlin']   \n",
       "1344   7639          24                                            ['\\n ']   \n",
       "1345   7642          24                               ['Bolzano', 'Bozen']   \n",
       "1346   7643          24                                       ['Budapest']   \n",
       "1347   7645          24                                  ['USA', 'Boston']   \n",
       "1348   7653          24                                    ['\\n \\n Prof.']   \n",
       "1349   7656          24  ['Bonn\\n Marco Fritz European Commission DG Re...   \n",
       "1350   7659          24                                ['Chapingo', 'Edo']   \n",
       "1351   7663          24                              ['Haus 16', 'Berlin']   \n",
       "1352   7671          24                                      ['Stuttgart']   \n",
       "1353   7673          24                                    ['Bad Pyrmont']   \n",
       "1354   7679          24                                         ['Berlin']   \n",
       "1355   7682          24                                         ['Berlin']   \n",
       "1356   7689          24                                    ['D', 'Berlin']   \n",
       "1357   7703          24               ['Nachhaltiges', 'Stuttgart', '\\n ']   \n",
       "1358   7706          24                             ['Berlin', '\\n Prof.']   \n",
       "1359   7707          24                                 ['London', 'EC1A']   \n",
       "1360   7714          24                          ['UK', 'Sheffield', 'S6']   \n",
       "1361   7715          24                             ['Denver', '\\n Prof.']   \n",
       "\n",
       "                                               sentence  \\\n",
       "0     Biodiversitätsdach auf dem Besucherzentrum der...   \n",
       "1     Dachbegrünung und Biodiversität\\n \\n 2\\n \\n Be...   \n",
       "2     Ansprechpartner im Bereich der Nisthilfen war ...   \n",
       "3     Für das Totholz zeichnete sich die Firma Kusch...   \n",
       "4     (Deutscher Dachgärtner Verband e.V. - DDV), Ju...   \n",
       "5     Neben aktuellen Gründach-Initiativen aus Berli...   \n",
       "6                                     25\\n \\n Hannover:   \n",
       "7     Gebäudebegrünung als Bestandteil der Klimaanpa...   \n",
       "8                                       32\\n \\n Berlin:   \n",
       "9     Ökologische Gebäudekonzepte und Modellvorhaben...   \n",
       "10    Die in dieser Broschüre vorgestellten praktisc...   \n",
       "11    Zu den weiteren Kooperationspartnern des Pilot...   \n",
       "12    Man sieht an dieser Stelle bereits, dass die v...   \n",
       "13    Die damit einhergehende Quantifizierung der ge...   \n",
       "14                    / Kommunales Grünprogramm Berlin:   \n",
       "15    TH Treibhaus Landschaftsarchitekten, Luftbild:...   \n",
       "16                                             Hamburg:   \n",
       "17    Nach der von der Landeshauptstadt in 2010 beau...   \n",
       "18        Mögliche Folgen des Klimawandels für Hannover   \n",
       "19    Teil II Kommunale Gründach-Strategien 29\\n \\n ...   \n",
       "20    Die Nord/LB in Hannover verfügt über eine knap...   \n",
       "21    Von diesen Gründachflächen fließen (bezogen au...   \n",
       "22    Ein Beispiel für Fördermöglichkeiten bietet da...   \n",
       "23    Teil II Kommunale Gründach-Strategien 31\\n \\n ...   \n",
       "24                                           Stuttgart:   \n",
       "25                        Urbanes Gärtnern in Stuttgart   \n",
       "26    Doch Nutzgärten haben in vielen Städten eine l...   \n",
       "27            Weitere Gärten in Stuttgart sind geplant.   \n",
       "28    © Stadt Stuttgart\\n \\n In den letzten Jahren s...   \n",
       "29    Die Gemeinderäte haben der neuen Richtlinie fü...   \n",
       "...                                                 ...   \n",
       "1332                                    Darmstadt\\n \\n    \n",
       "1333                                     Bulgaria\\n \\n    \n",
       "1334                                  South Korea\\n \\n    \n",
       "1335  curve and keyword analysis for biodiversity co...   \n",
       "1336  Why we need Design-for-Safety (DfS) for Skyris...   \n",
       "1337  Switzerland\\n \\n Artenschutz über den Köpfen -...   \n",
       "1338  Denver Colorado\\n \\n BIO-TECTURE Living Wall S...   \n",
       "1339         Living walls in public spaces in Poland\\n    \n",
       "1340  Architects Bernardgasse 21 A - 1070 Vienna, Te...   \n",
       "1341                2 E - 28040 Madrid\\n Dr. rer. hort.   \n",
       "1342  Y. Chen Department of Geography, The Universit...   \n",
       "1343                                   D - 10965 Berlin   \n",
       "1344                                    DD-Berlin.de\\n    \n",
       "1345  22 Mühlbachpromenade 22 I - 39100 Bolzano - Bo...   \n",
       "1346  Elnök utca 24 HUN - 1089 Budapest pdezsenyi@gr...   \n",
       "1347  20 Custom House Street Suite 800 USA - Boston,...   \n",
       "1348  Babul Asociacion de Infrastructura Verde de Ch...   \n",
       "1349  II 6 ­ Bauen und Umwelt Deichmanns Aue 31-37 D...   \n",
       "1350  38.5 Carretera México-Texcoco, Chapingo, Edo. ...   \n",
       "1351           Philippstr. 13, Haus 16 D - 10115 Berlin   \n",
       "1352  KG Korntaler Landstraße 63 D - 70499 Stuttgart...   \n",
       "1353                   Baarsen 77 D - 31812 Bad Pyrmont   \n",
       "1354                                   D - 10178 Berlin   \n",
       "1355                                   D - 10707 Berlin   \n",
       "1356       135 e, D - 14167 Berlin k.neumann@kn-mail.de   \n",
       "1357  Deutsche Gesellschaft für Nachhaltiges Bauen ­...   \n",
       "1358  +43-699-19744304 bernhard.scharf@green4cities....   \n",
       "1359  CIRIA Griffin Court, 15 Long Lane UK - London,...   \n",
       "1360                                 UK - Sheffield, S6   \n",
       "1361  1250 14th Street Suite 2000 USA - 80202 Denver...   \n",
       "\n",
       "                 country mentions  \\\n",
       "0                       {'DE': 1}   \n",
       "1                       {'DE': 1}   \n",
       "2                       {'DE': 1}   \n",
       "3                       {'DE': 1}   \n",
       "4                       {'DE': 5}   \n",
       "5                       {'DE': 5}   \n",
       "6                       {'DE': 1}   \n",
       "7                       {'DE': 1}   \n",
       "8                       {'DE': 1}   \n",
       "9                       {'DE': 1}   \n",
       "10                      {'DE': 5}   \n",
       "11                      {'DE': 2}   \n",
       "12             {'CI': 1, 'SE': 1}   \n",
       "13                      {'SE': 1}   \n",
       "14                      {'DE': 1}   \n",
       "15                      {'DE': 1}   \n",
       "16                      {'DE': 1}   \n",
       "17                      {'DE': 2}   \n",
       "18                      {'DE': 1}   \n",
       "19                      {'DE': 1}   \n",
       "20                      {'DE': 1}   \n",
       "21                      {'DE': 1}   \n",
       "22                      {'DE': 1}   \n",
       "23                      {'DE': 1}   \n",
       "24                      {'DE': 1}   \n",
       "25                      {'DE': 1}   \n",
       "26                      {'DE': 1}   \n",
       "27                      {'DE': 1}   \n",
       "28                      {'DE': 2}   \n",
       "29                      {'DE': 1}   \n",
       "...                           ...   \n",
       "1332                    {'DE': 1}   \n",
       "1333                    {'BG': 1}   \n",
       "1334                    {'KR': 1}   \n",
       "1335                    {'KR': 1}   \n",
       "1336                    {'FR': 1}   \n",
       "1337  {'CH': 1, 'AT': 1, 'KR': 1}   \n",
       "1338  {'DE': 1, 'US': 1, 'BR': 1}   \n",
       "1339                    {'PL': 1}   \n",
       "1340                    {'US': 1}   \n",
       "1341                    {'ES': 1}   \n",
       "1342                    {'HK': 4}   \n",
       "1343                    {'DE': 1}   \n",
       "1344                    {'DE': 1}   \n",
       "1345                    {'IT': 1}   \n",
       "1346                    {'HU': 1}   \n",
       "1347                    {'US': 1}   \n",
       "1348                    {'CL': 1}   \n",
       "1349                    {'DE': 2}   \n",
       "1350                    {'MX': 1}   \n",
       "1351                    {'DE': 1}   \n",
       "1352                    {'DE': 1}   \n",
       "1353                    {'DE': 1}   \n",
       "1354                    {'DE': 1}   \n",
       "1355                    {'DE': 1}   \n",
       "1356                    {'DE': 1}   \n",
       "1357                    {'DE': 1}   \n",
       "1358           {'SG': 1, 'DE': 1}   \n",
       "1359                    {'GB': 1}   \n",
       "1360                    {'GB': 1}   \n",
       "1361                    {'US': 1}   \n",
       "\n",
       "                                                 cities   dominant topic  \n",
       "0                                              [Berlin]   (1, 0.5499903)  \n",
       "1                                              [Berlin]  (1, 0.69998765)  \n",
       "2                                          [Schorndorf]   (3, 0.5499983)  \n",
       "3                                           [Falkensee]   (3, 0.5499983)  \n",
       "4     [Hamburg, Stuttgart, Hannover, Berlin, Kornwes...  (7, 0.77570164)  \n",
       "5     [Berlin, Hamburg, Hannover, Ludwigsburg, Stutt...  (7, 0.84997654)  \n",
       "6                                            [Hannover]  (0, 0.54999775)  \n",
       "7                                           [Stuttgart]    (6, 0.378283)  \n",
       "8                                              [Berlin]         (0, 0.1)  \n",
       "9                                         [Ludwigsburg]         (0, 0.1)  \n",
       "10    [Berlin, Hamburg, Hannover, Ludwigsburg, Stutt...  (8, 0.27521625)  \n",
       "11                               [Karlsruhe, Stuttgart]   (7, 0.8150366)  \n",
       "12                                         [Man, Boden]  (4, 0.77499545)  \n",
       "13                                              [Boden]  (4, 0.36666808)  \n",
       "14                                             [Berlin]         (0, 0.1)  \n",
       "15                                            [Hamburg]   (7, 0.7749931)  \n",
       "16                                            [Hamburg]   (8, 0.5499831)  \n",
       "17                                 [Hannover, Hannover]  (0, 0.69999844)  \n",
       "18                                           [Hannover]  (0, 0.54999757)  \n",
       "19                                           [Hannover]  (7, 0.61583203)  \n",
       "20                                           [Hannover]   (0, 0.3666658)  \n",
       "21                                           [Hannover]  (7, 0.35741398)  \n",
       "22                                           [Hannover]  (0, 0.72287095)  \n",
       "23                                          [Stuttgart]   (7, 0.7749838)  \n",
       "24                                          [Stuttgart]  (3, 0.54998803)  \n",
       "25                                          [Stuttgart]   (3, 0.5499881)  \n",
       "26                                          [Stuttgart]   (3, 0.5499881)  \n",
       "27                                          [Stuttgart]   (3, 0.5499881)  \n",
       "28                               [Stuttgart, Stuttgart]  (8, 0.41395968)  \n",
       "29                                          [Stuttgart]  (6, 0.62410635)  \n",
       "...                                                 ...              ...  \n",
       "1332                                        [Darmstadt]         (0, 0.1)  \n",
       "1333                                                 []         (0, 0.1)  \n",
       "1334                                                 []         (0, 0.1)  \n",
       "1335                                            [Seoul]         (0, 0.1)  \n",
       "1336                                                 []   (9, 0.6999999)  \n",
       "1337                                            [Seoul]  (9, 0.87141585)  \n",
       "1338                                 [Denver, Colorado]   (3, 0.5499947)  \n",
       "1339                                                 []         (0, 0.1)  \n",
       "1340                                           [Vienna]   (5, 0.5912214)  \n",
       "1341                                           [Madrid]         (0, 0.1)  \n",
       "1342                                                 []         (0, 0.1)  \n",
       "1343                                           [Berlin]         (0, 0.1)  \n",
       "1344                                           [Berlin]         (0, 0.1)  \n",
       "1345                                          [Bolzano]        (5, 0.55)  \n",
       "1346                                         [Budapest]         (0, 0.1)  \n",
       "1347                                           [Boston]  (5, 0.52477914)  \n",
       "1348                                                 []   (5, 0.3983512)  \n",
       "1349                                        [Aue, Bonn]   (7, 0.5499994)  \n",
       "1350                                                 []         (0, 0.1)  \n",
       "1351                                           [Berlin]         (0, 0.1)  \n",
       "1352                                        [Stuttgart]   (3, 0.3707545)  \n",
       "1353                                      [Bad Pyrmont]   (5, 0.5499988)  \n",
       "1354                                           [Berlin]         (0, 0.1)  \n",
       "1355                                           [Berlin]         (0, 0.1)  \n",
       "1356                                           [Berlin]         (0, 0.1)  \n",
       "1357                                        [Stuttgart]  (3, 0.37075663)  \n",
       "1358                                           [Berlin]  (5, 0.82631105)  \n",
       "1359                                           [London]   (1, 0.5499942)  \n",
       "1360                                        [Sheffield]         (0, 0.1)  \n",
       "1361                                           [Denver]  (6, 0.36667323)  \n",
       "\n",
       "[1362 rows x 7 columns]"
      ]
     },
     "execution_count": 32,
     "metadata": {},
     "output_type": "execute_result"
    }
   ],
   "source": [
    "def topic_distribution(new_doc_list):\n",
    "    new_transformed = vect.transform(new_doc_list)\n",
    "    new_corpus = gensim.matutils.Sparse2Corpus(new_transformed, documents_columns=False) \n",
    "    return ldamodel[new_corpus[0]]\n",
    "\n",
    "def dominant_topic(new_doc_list):\n",
    "    topics = topic_distribution(new_doc_list)\n",
    "    topics.sort(key = lambda x: x[1], reverse=True)\n",
    "    return topics[0]\n",
    "\n",
    "sents_with_loc['dominant topic'] = pd.Series([dominant_topic([sent]) \n",
    "                                              for sent in sents_with_loc['sentence']])\n",
    "sents_with_loc"
   ]
  },
  {
   "cell_type": "code",
   "execution_count": 35,
   "metadata": {
    "slideshow": {
     "slide_type": "subslide"
    }
   },
   "outputs": [
    {
     "name": "stdout",
     "output_type": "stream",
     "text": [
      "We have 234 sentences here with Topic 3 or 5 dominant which is 17 percent.\n"
     ]
    },
    {
     "data": {
      "text/html": [
       "<div>\n",
       "<style scoped>\n",
       "    .dataframe tbody tr th:only-of-type {\n",
       "        vertical-align: middle;\n",
       "    }\n",
       "\n",
       "    .dataframe tbody tr th {\n",
       "        vertical-align: top;\n",
       "    }\n",
       "\n",
       "    .dataframe thead th {\n",
       "        text-align: right;\n",
       "    }\n",
       "</style>\n",
       "<table border=\"1\" class=\"dataframe\">\n",
       "  <thead>\n",
       "    <tr style=\"text-align: right;\">\n",
       "      <th></th>\n",
       "      <th>sentence</th>\n",
       "      <th>dominant topic</th>\n",
       "    </tr>\n",
       "  </thead>\n",
       "  <tbody>\n",
       "    <tr>\n",
       "      <th>991</th>\n",
       "      <td>122\\n \\n D 63768 Hösbach D 97486 Königsberg\\n \\n www.ild-group.com www.benkert-dachbegruenung.de...</td>\n",
       "      <td>(5, 0.9181739)</td>\n",
       "    </tr>\n",
       "    <tr>\n",
       "      <th>843</th>\n",
       "      <td>www.iasp.asp-berlin.de www.gruendach-mv.de www.fbg.fh-wiesbaden.de www.baubotanik.org\\n \\n 73730...</td>\n",
       "      <td>(5, 0.90999997)</td>\n",
       "    </tr>\n",
       "    <tr>\n",
       "      <th>1120</th>\n",
       "      <td>Viernheim\\n \\n www.novihum.de www.aco-hochbau.de www.sachsenband.de www.xeroflor.com www.xeroflo...</td>\n",
       "      <td>(5, 0.8874999)</td>\n",
       "    </tr>\n",
       "    <tr>\n",
       "      <th>844</th>\n",
       "      <td>Bad Urach-Hengen 77933 Lahr 88633 Heiligenberg-Steigen\\n \\n www.xeroflor.de www.xeroflor.com www.</td>\n",
       "      <td>(5, 0.8499999)</td>\n",
       "    </tr>\n",
       "    <tr>\n",
       "      <th>965</th>\n",
       "      <td>www.gruendach-siebert.de www.vedag.de whawiw.vedag.com.cn\\n \\n D 01307 Dresden\\n \\n www.novihum....</td>\n",
       "      <td>(5, 0.84999585)</td>\n",
       "    </tr>\n",
       "    <tr>\n",
       "      <th>1089</th>\n",
       "      <td>Die Wiese - Naturnahe Gärten GmbH Immo Herbst Dach- + Innenraumbegrünungs GmbH Helix Pflanzensys...</td>\n",
       "      <td>(3, 0.8499852)</td>\n",
       "    </tr>\n",
       "    <tr>\n",
       "      <th>955</th>\n",
       "      <td>D 81927 München\\n \\n www.kramer-gartenbau.de\\n \\n D 86477 Adelsried\\n \\n www.garten-koenig.com\\n...</td>\n",
       "      <td>(5, 0.8272736)</td>\n",
       "    </tr>\n",
       "    <tr>\n",
       "      <th>836</th>\n",
       "      <td>China www.vedag.com\\n \\n DE\\n \\n 25494 Heist bei Hamburg\\n \\n www.sachsenband.de\\n \\n DE\\n \\n 28...</td>\n",
       "      <td>(5, 0.8272732)</td>\n",
       "    </tr>\n",
       "    <tr>\n",
       "      <th>1358</th>\n",
       "      <td>+43-699-19744304 bernhard.scharf@green4cities.com www.green4cities.com\\n \\n Rudi Scheuermann Aru...</td>\n",
       "      <td>(5, 0.82631105)</td>\n",
       "    </tr>\n",
       "    <tr>\n",
       "      <th>988</th>\n",
       "      <td>www.schadenberg.nl\\n \\n SI 4260 Bled\\n \\n www.greenwalls.si\\n \\n US MD 21211 Baltimore\\n \\n www....</td>\n",
       "      <td>(5, 0.8199999)</td>\n",
       "    </tr>\n",
       "  </tbody>\n",
       "</table>\n",
       "</div>"
      ],
      "text/plain": [
       "                                                                                                 sentence   dominant topic\n",
       "991   122\\n \\n D 63768 Hösbach D 97486 Königsberg\\n \\n www.ild-group.com www.benkert-dachbegruenung.de...   (5, 0.9181739)\n",
       "843   www.iasp.asp-berlin.de www.gruendach-mv.de www.fbg.fh-wiesbaden.de www.baubotanik.org\\n \\n 73730...  (5, 0.90999997)\n",
       "1120  Viernheim\\n \\n www.novihum.de www.aco-hochbau.de www.sachsenband.de www.xeroflor.com www.xeroflo...   (5, 0.8874999)\n",
       "844     Bad Urach-Hengen 77933 Lahr 88633 Heiligenberg-Steigen\\n \\n www.xeroflor.de www.xeroflor.com www.   (5, 0.8499999)\n",
       "965   www.gruendach-siebert.de www.vedag.de whawiw.vedag.com.cn\\n \\n D 01307 Dresden\\n \\n www.novihum....  (5, 0.84999585)\n",
       "1089  Die Wiese - Naturnahe Gärten GmbH Immo Herbst Dach- + Innenraumbegrünungs GmbH Helix Pflanzensys...   (3, 0.8499852)\n",
       "955   D 81927 München\\n \\n www.kramer-gartenbau.de\\n \\n D 86477 Adelsried\\n \\n www.garten-koenig.com\\n...   (5, 0.8272736)\n",
       "836   China www.vedag.com\\n \\n DE\\n \\n 25494 Heist bei Hamburg\\n \\n www.sachsenband.de\\n \\n DE\\n \\n 28...   (5, 0.8272732)\n",
       "1358  +43-699-19744304 bernhard.scharf@green4cities.com www.green4cities.com\\n \\n Rudi Scheuermann Aru...  (5, 0.82631105)\n",
       "988   www.schadenberg.nl\\n \\n SI 4260 Bled\\n \\n www.greenwalls.si\\n \\n US MD 21211 Baltimore\\n \\n www....   (5, 0.8199999)"
      ]
     },
     "execution_count": 35,
     "metadata": {},
     "output_type": "execute_result"
    }
   ],
   "source": [
    "def filter_for_topic(df, top_id_list):      \n",
    "    filtered_df = df[[topic[0] in top_id_list for topic in df['dominant topic']]]\n",
    "    return filtered_df[['sentence', 'dominant topic']]\n",
    "\n",
    "topic5 = filter_for_topic(sents_with_loc, [3, 5])\n",
    "topic5['weight'] = [p[1] for p in topic5['dominant topic']]\n",
    "topic5.sort_values(by='weight', ascending = False, inplace = True)\n",
    "topic5.drop(columns = ['weight'], inplace = True)\n",
    "\n",
    "print('We have', len(topic5), 'sentences here with Topic 3 or 5 dominant which is', \n",
    "      100 * len(topic5)//len(sents_with_loc), \"percent.\" )\n",
    "topic5.head(10)"
   ]
  },
  {
   "cell_type": "markdown",
   "metadata": {
    "slideshow": {
     "slide_type": "slide"
    }
   },
   "source": [
    "# Thank you for your attention[!](https://docs.google.com/presentation/d/1PzeVghmDcjDCG2OaRibq6cDBoHCELQHDyn0zAVlag_w/edit) "
   ]
  }
 ],
 "metadata": {
  "celltoolbar": "Slideshow",
  "kernelspec": {
   "display_name": "Python 3",
   "language": "python",
   "name": "python3"
  },
  "language_info": {
   "codemirror_mode": {
    "name": "ipython",
    "version": 3
   },
   "file_extension": ".py",
   "mimetype": "text/x-python",
   "name": "python",
   "nbconvert_exporter": "python",
   "pygments_lexer": "ipython3",
   "version": "3.6.8"
  }
 },
 "nbformat": 4,
 "nbformat_minor": 2
}
