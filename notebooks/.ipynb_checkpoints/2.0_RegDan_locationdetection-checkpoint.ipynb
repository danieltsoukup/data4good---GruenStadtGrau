{
 "cells": [
  {
   "cell_type": "markdown",
   "metadata": {
    "slideshow": {
     "slide_type": "slide"
    }
   },
   "source": [
    "# Location extraction and visualization\n",
    "\n",
    "#### Presentation by Daniel T. Soukup\n",
    "\n",
    "\n",
    "#### Joint work with Regina Babo and Liad Magen at the data4good Hackathon (April 27-28, 2019).\n",
    "\n",
    "<br>\n",
    "\n",
    "<img src=\"../assets/vdsg_transparent_260x86.png\" alt=\"vdsg\" align=\"middle\">\n",
    "\n",
    "\n",
    "<br>"
   ]
  },
  {
   "cell_type": "markdown",
   "metadata": {
    "slideshow": {
     "slide_type": "slide"
    }
   },
   "source": [
    "# Goals\n",
    "\n",
    "\n",
    "<br>\n",
    "During the data4good hackathon, we worked with Gruenstadtgrau, an NGO focusing on urban greening projects and green rooftops. <b>One of our goals was to analyse the urban greening literature and determine where most of the these projects happen</b>.\n",
    "\n",
    "\n",
    "<br>\n",
    "\n",
    "<br>\n",
    "\n",
    "<img src=\"../assets/Gruenstattgrau_Logo.jpg\" alt=\"Gruenstattgrau\" align=\"middle\">\n"
   ]
  },
  {
   "cell_type": "markdown",
   "metadata": {
    "slideshow": {
     "slide_type": "subslide"
    }
   },
   "source": [
    "The raw documents looked like this: are these locations relevant?\n",
    "\n",
    "\n",
    " <img src=\"../data/pages1.jpg\">"
   ]
  },
  {
   "cell_type": "markdown",
   "metadata": {
    "slideshow": {
     "slide_type": "subslide"
    }
   },
   "source": [
    "How about these locations?\n",
    "\n",
    "<img src=\"../data/pages2.jpg\">"
   ]
  },
  {
   "cell_type": "markdown",
   "metadata": {
    "slideshow": {
     "slide_type": "subslide"
    }
   },
   "source": [
    "### Plan:\n",
    "<br>\n",
    "\n",
    "* Extract all locations from the text.\n",
    "<br>\n",
    "\n",
    "* Visualize and study the distribution (countries, cities).\n",
    "<br>\n",
    "\n",
    "* Try to classify the locations (relevant/irrelevant).\n",
    "\n",
    "<br>\n",
    "\n",
    "### Let's see some code!\n",
    "<br>"
   ]
  },
  {
   "cell_type": "markdown",
   "metadata": {
    "slideshow": {
     "slide_type": "slide"
    }
   },
   "source": [
    "## Loading the modules"
   ]
  },
  {
   "cell_type": "markdown",
   "metadata": {
    "slideshow": {
     "slide_type": "fragment"
    }
   },
   "source": [
    "\n",
    " Let's start by loading all the necessary modules.\n"
   ]
  },
  {
   "cell_type": "code",
   "execution_count": 1,
   "metadata": {
    "slideshow": {
     "slide_type": "fragment"
    }
   },
   "outputs": [
    {
     "name": "stderr",
     "output_type": "stream",
     "text": [
      "D:\\anaconda\\envs\\data4good\\lib\\site-packages\\smart_open\\ssh.py:34: UserWarning: paramiko missing, opening SSH/SCP/SFTP paths will be disabled.  `pip install paramiko` to suppress\n",
      "  warnings.warn('paramiko missing, opening SSH/SCP/SFTP paths will be disabled.  `pip install paramiko` to suppress')\n",
      "D:\\anaconda\\envs\\data4good\\lib\\site-packages\\gensim\\utils.py:1197: UserWarning: detected Windows; aliasing chunkize to chunkize_serial\n",
      "  warnings.warn(\"detected Windows; aliasing chunkize to chunkize_serial\")\n"
     ]
    }
   ],
   "source": [
    "# generally useful packages\n",
    "import re, collections\n",
    "import glob, os, requests, io, pickle\n",
    "\n",
    "# data stuff\n",
    "import pandas as pd\n",
    "import numpy as np\n",
    "\n",
    "# visualizing\n",
    "import matplotlib.pyplot as plt\n",
    "import seaborn as sns\n",
    "import folium # visualizing on maps\n",
    "\n",
    "# NLP packages, we work with German text mostly so we load that\n",
    "import nltk\n",
    "import spacy\n",
    "import gensim\n",
    "from sklearn.feature_extraction.text import CountVectorizer\n",
    "nlp = spacy.load(\"de_core_news_sm\")\n",
    "from geotext import GeoText # for location detection\n",
    "\n"
   ]
  },
  {
   "cell_type": "markdown",
   "metadata": {
    "slideshow": {
     "slide_type": "slide"
    }
   },
   "source": [
    "## Building the corpus"
   ]
  },
  {
   "cell_type": "markdown",
   "metadata": {
    "slideshow": {
     "slide_type": "fragment"
    }
   },
   "source": [
    "The pdfs were converted online to txt files. We read the txt files and build our corpus:"
   ]
  },
  {
   "cell_type": "code",
   "execution_count": 4,
   "metadata": {
    "slideshow": {
     "slide_type": "fragment"
    }
   },
   "outputs": [
    {
     "name": "stdout",
     "output_type": "stream",
     "text": [
      "We have 25 documents loaded.\n"
     ]
    }
   ],
   "source": [
    "data_path = \"../data/interim/pdf2text\"\n",
    "\n",
    "data_files = glob.glob(data_path + os.path.sep + \"*.txt\"); data_files\n",
    "\n",
    "data_files = [item.replace(data_path + os.path.sep, \"\") for item in data_files]  # Strip the dir name and the path separator from begining\n",
    "\n",
    "corpus = []\n",
    "\n",
    "for txt_file in data_files:\n",
    "    with open(data_path + os.path.sep + txt_file, encoding='utf-8', mode=\"r\") as f:\n",
    "        corpus.append(f.readlines())\n",
    "        \n",
    "print('We have', len(corpus), 'documents loaded.') "
   ]
  },
  {
   "cell_type": "markdown",
   "metadata": {
    "slideshow": {
     "slide_type": "slide"
    }
   },
   "source": [
    "# Finding locations in the text (NER with Spacy)"
   ]
  },
  {
   "cell_type": "markdown",
   "metadata": {
    "slideshow": {
     "slide_type": "subslide"
    }
   },
   "source": [
    "We use the Spacy's nlp pipeline to process the corpus. This includes tokenizing, tagging, parsing, <b>identifying and labeling named entities</b>."
   ]
  },
  {
   "cell_type": "code",
   "execution_count": 5,
   "metadata": {
    "slideshow": {
     "slide_type": "fragment"
    }
   },
   "outputs": [],
   "source": [
    "nlp_corpus = []\n",
    "for idx, raw in enumerate(corpus):\n",
    "    joined = ' '.join(raw) # we join the docs (which are lists of strings)\n",
    "    joined_nlp = nlp(joined) \n",
    "    nlp_corpus.append(joined_nlp)\n",
    "    "
   ]
  },
  {
   "cell_type": "markdown",
   "metadata": {
    "slideshow": {
     "slide_type": "subslide"
    }
   },
   "source": [
    "Now, let's find the sentences that include named entities labeled as LOC. As we go, we put the results into a dataframe."
   ]
  },
  {
   "cell_type": "code",
   "execution_count": 7,
   "metadata": {
    "slideshow": {
     "slide_type": "fragment"
    }
   },
   "outputs": [
    {
     "name": "stdout",
     "output_type": "stream",
     "text": [
      "We have 7728 sentences with locations.\n"
     ]
    },
    {
     "data": {
      "text/html": [
       "<div>\n",
       "<style scoped>\n",
       "    .dataframe tbody tr th:only-of-type {\n",
       "        vertical-align: middle;\n",
       "    }\n",
       "\n",
       "    .dataframe tbody tr th {\n",
       "        vertical-align: top;\n",
       "    }\n",
       "\n",
       "    .dataframe thead th {\n",
       "        text-align: right;\n",
       "    }\n",
       "</style>\n",
       "<table border=\"1\" class=\"dataframe\">\n",
       "  <thead>\n",
       "    <tr style=\"text-align: right;\">\n",
       "      <th></th>\n",
       "      <th>doc number</th>\n",
       "      <th>location</th>\n",
       "      <th>sentence</th>\n",
       "    </tr>\n",
       "  </thead>\n",
       "  <tbody>\n",
       "    <tr>\n",
       "      <th>0</th>\n",
       "      <td>0.0</td>\n",
       "      <td>[Biodiversitätsdach]</td>\n",
       "      <td>(Biodiversitätsdach, auf, dem, Besucherzentrum...</td>\n",
       "    </tr>\n",
       "    <tr>\n",
       "      <th>1</th>\n",
       "      <td>0.0</td>\n",
       "      <td>[Berlin, Pflanzenauswahl]</td>\n",
       "      <td>(Dachbegrünung, und, Biodiversität, \\n \\n , 2,...</td>\n",
       "    </tr>\n",
       "    <tr>\n",
       "      <th>2</th>\n",
       "      <td>0.0</td>\n",
       "      <td>[Biodiversitätsdächer]</td>\n",
       "      <td>(Biodiversitätsdächer, \\n \\n , 16, \\n \\n , Koo...</td>\n",
       "    </tr>\n",
       "    <tr>\n",
       "      <th>3</th>\n",
       "      <td>0.0</td>\n",
       "      <td>[Biodiversitätsprinzipien, Biotop-Funktion]</td>\n",
       "      <td>(Durch, verschiedene, Gestaltungsmaßnahmen, un...</td>\n",
       "    </tr>\n",
       "    <tr>\n",
       "      <th>4</th>\n",
       "      <td>0.0</td>\n",
       "      <td>[Biodiversitäts-Gründach]</td>\n",
       "      <td>(Dem, Deutschen, Dachgärtner, Verband, dient, ...</td>\n",
       "    </tr>\n",
       "    <tr>\n",
       "      <th>5</th>\n",
       "      <td>0.0</td>\n",
       "      <td>[Biodiversitätsdach]</td>\n",
       "      <td>(Ein, ,, ,, upgrade, \", bereits, existierender...</td>\n",
       "    </tr>\n",
       "    <tr>\n",
       "      <th>6</th>\n",
       "      <td>0.0</td>\n",
       "      <td>[Totholz\\n ]</td>\n",
       "      <td>(10, \\n \\n \f",
       ", Einbringung, von, Totholz, \\n )</td>\n",
       "    </tr>\n",
       "    <tr>\n",
       "      <th>7</th>\n",
       "      <td>0.0</td>\n",
       "      <td>[Totholz]</td>\n",
       "      <td>(Totholz, wird, unter, anderem, von, Moosen, ,...</td>\n",
       "    </tr>\n",
       "    <tr>\n",
       "      <th>8</th>\n",
       "      <td>0.0</td>\n",
       "      <td>[Biodiversitätsdach]</td>\n",
       "      <td>(Für, das, Biodiversitätsdach, wird, deshalb, ...</td>\n",
       "    </tr>\n",
       "    <tr>\n",
       "      <th>9</th>\n",
       "      <td>0.0</td>\n",
       "      <td>[www.tu-berlin.de]</td>\n",
       "      <td>(www.dachgaertnerverband.de, \\n \\n , www.tu-be...</td>\n",
       "    </tr>\n",
       "  </tbody>\n",
       "</table>\n",
       "</div>"
      ],
      "text/plain": [
       "   doc number                                     location  \\\n",
       "0         0.0                         [Biodiversitätsdach]   \n",
       "1         0.0                    [Berlin, Pflanzenauswahl]   \n",
       "2         0.0                       [Biodiversitätsdächer]   \n",
       "3         0.0  [Biodiversitätsprinzipien, Biotop-Funktion]   \n",
       "4         0.0                    [Biodiversitäts-Gründach]   \n",
       "5         0.0                         [Biodiversitätsdach]   \n",
       "6         0.0                                 [Totholz\\n ]   \n",
       "7         0.0                                    [Totholz]   \n",
       "8         0.0                         [Biodiversitätsdach]   \n",
       "9         0.0                           [www.tu-berlin.de]   \n",
       "\n",
       "                                            sentence  \n",
       "0  (Biodiversitätsdach, auf, dem, Besucherzentrum...  \n",
       "1  (Dachbegrünung, und, Biodiversität, \\n \\n , 2,...  \n",
       "2  (Biodiversitätsdächer, \\n \\n , 16, \\n \\n , Koo...  \n",
       "3  (Durch, verschiedene, Gestaltungsmaßnahmen, un...  \n",
       "4  (Dem, Deutschen, Dachgärtner, Verband, dient, ...  \n",
       "5  (Ein, ,, ,, upgrade, \", bereits, existierender...  \n",
       "6      (10, \\n \\n \n",
       ", Einbringung, von, Totholz, \\n )  \n",
       "7  (Totholz, wird, unter, anderem, von, Moosen, ,...  \n",
       "8  (Für, das, Biodiversitätsdach, wird, deshalb, ...  \n",
       "9  (www.dachgaertnerverband.de, \\n \\n , www.tu-be...  "
      ]
     },
     "execution_count": 7,
     "metadata": {},
     "output_type": "execute_result"
    }
   ],
   "source": [
    "sents_with_loc = pd.DataFrame({'doc number': [], 'location': [], 'sentence': []})\n",
    "\n",
    "for idx, doc in enumerate(nlp_corpus):\n",
    "    for sent in doc.sents:\n",
    "        locations = []\n",
    "        for ent in sent.as_doc().ents:\n",
    "            if ent.label_ == \"LOC\":\n",
    "                locations.append(ent.text)\n",
    "        if locations:\n",
    "            sents_with_loc.loc[len(sents_with_loc)] =[idx, locations, sent]\n",
    "            \n",
    "print('We have', len(sents_with_loc), 'sentences with locations.')\n",
    "sents_with_loc.head(10)"
   ]
  },
  {
   "cell_type": "code",
   "execution_count": 38,
   "metadata": {
    "slideshow": {
     "slide_type": "skip"
    }
   },
   "outputs": [
    {
     "data": {
      "text/plain": [
       "doc number     int32\n",
       "location      object\n",
       "sentence      object\n",
       "dtype: object"
      ]
     },
     "execution_count": 38,
     "metadata": {},
     "output_type": "execute_result"
    }
   ],
   "source": [
    "sents_with_loc.dtypes"
   ]
  },
  {
   "cell_type": "markdown",
   "metadata": {
    "slideshow": {
     "slide_type": "skip"
    }
   },
   "source": [
    "It is clear that there are plenty of tokens that are actually not addresses we were looking for."
   ]
  },
  {
   "cell_type": "code",
   "execution_count": 39,
   "metadata": {
    "slideshow": {
     "slide_type": "skip"
    }
   },
   "outputs": [
    {
     "data": {
      "text/plain": [
       "7728"
      ]
     },
     "execution_count": 39,
     "metadata": {},
     "output_type": "execute_result"
    }
   ],
   "source": [
    "# make doc numbers an integer\n",
    "sents_with_loc['doc number'] = sents_with_loc['doc number'].astype(int)\n",
    "sents_with_loc['location'] = sents_with_loc['location'].astype(str)\n",
    "sents_with_loc['sentence'] = sents_with_loc['sentence'].astype(str)\n",
    "\n",
    "# number of sentences\n",
    "len(sents_with_loc)"
   ]
  },
  {
   "cell_type": "markdown",
   "metadata": {
    "slideshow": {
     "slide_type": "skip"
    }
   },
   "source": [
    "Save the dataframe."
   ]
  },
  {
   "cell_type": "code",
   "execution_count": 41,
   "metadata": {
    "slideshow": {
     "slide_type": "skip"
    }
   },
   "outputs": [],
   "source": [
    "sents_with_loc.to_pickle(\"sents_with_loc.pkl\")"
   ]
  },
  {
   "cell_type": "markdown",
   "metadata": {
    "slideshow": {
     "slide_type": "slide"
    }
   },
   "source": [
    "# Identifying coutries and cities with GeoText"
   ]
  },
  {
   "cell_type": "markdown",
   "metadata": {
    "slideshow": {
     "slide_type": "fragment"
    }
   },
   "source": [
    "Now, let's catch the country and city mentions using GeoText. Here is a simple example how it works:"
   ]
  },
  {
   "cell_type": "code",
   "execution_count": 26,
   "metadata": {
    "slideshow": {
     "slide_type": "fragment"
    }
   },
   "outputs": [
    {
     "data": {
      "text/plain": [
       "(OrderedDict([('US', 2), ('CN', 1), ('PL', 1)]),\n",
       " ['New York', 'Seattle', 'Beijing', 'Warsaw'])"
      ]
     },
     "execution_count": 26,
     "metadata": {},
     "output_type": "execute_result"
    }
   ],
   "source": [
    "gt_obj = GeoText('I love New York, Seattle, Beijing, and also Warsaw.')\n",
    "gt_obj.country_mentions, geo.cities"
   ]
  },
  {
   "cell_type": "markdown",
   "metadata": {
    "slideshow": {
     "slide_type": "fragment"
    }
   },
   "source": [
    "The GeoText function is not flawless as illustrated here:\n",
    "    "
   ]
  },
  {
   "cell_type": "code",
   "execution_count": 25,
   "metadata": {
    "slideshow": {
     "slide_type": "fragment"
    }
   },
   "outputs": [
    {
     "data": {
      "text/plain": [
       "OrderedDict()"
      ]
     },
     "execution_count": 25,
     "metadata": {},
     "output_type": "execute_result"
    }
   ],
   "source": [
    "GeoText(\"Where is Munchen?\").country_mentions"
   ]
  },
  {
   "cell_type": "markdown",
   "metadata": {
    "slideshow": {
     "slide_type": "slide"
    }
   },
   "source": [
    "For our text:"
   ]
  },
  {
   "cell_type": "code",
   "execution_count": 4,
   "metadata": {
    "slideshow": {
     "slide_type": "fragment"
    }
   },
   "outputs": [
    {
     "name": "stdout",
     "output_type": "stream",
     "text": [
      "We have 1362 sentences now.\n"
     ]
    },
    {
     "data": {
      "text/html": [
       "<div>\n",
       "<style scoped>\n",
       "    .dataframe tbody tr th:only-of-type {\n",
       "        vertical-align: middle;\n",
       "    }\n",
       "\n",
       "    .dataframe tbody tr th {\n",
       "        vertical-align: top;\n",
       "    }\n",
       "\n",
       "    .dataframe thead th {\n",
       "        text-align: right;\n",
       "    }\n",
       "</style>\n",
       "<table border=\"1\" class=\"dataframe\">\n",
       "  <thead>\n",
       "    <tr style=\"text-align: right;\">\n",
       "      <th></th>\n",
       "      <th>doc number</th>\n",
       "      <th>location</th>\n",
       "      <th>sentence</th>\n",
       "      <th>country mentions</th>\n",
       "      <th>cities</th>\n",
       "    </tr>\n",
       "  </thead>\n",
       "  <tbody>\n",
       "    <tr>\n",
       "      <th>0</th>\n",
       "      <td>0</td>\n",
       "      <td>['Biodiversitätsdach']</td>\n",
       "      <td>Biodiversitätsdach auf dem Besucherzentrum der...</td>\n",
       "      <td>{'DE': 1}</td>\n",
       "      <td>[Berlin]</td>\n",
       "    </tr>\n",
       "    <tr>\n",
       "      <th>1</th>\n",
       "      <td>0</td>\n",
       "      <td>['Berlin', 'Pflanzenauswahl']</td>\n",
       "      <td>Dachbegrünung und Biodiversität\\n \\n 2\\n \\n Be...</td>\n",
       "      <td>{'DE': 1}</td>\n",
       "      <td>[Berlin]</td>\n",
       "    </tr>\n",
       "    <tr>\n",
       "      <th>11</th>\n",
       "      <td>0</td>\n",
       "      <td>['Schorndorf']</td>\n",
       "      <td>Ansprechpartner im Bereich der Nisthilfen war ...</td>\n",
       "      <td>{'DE': 1}</td>\n",
       "      <td>[Schorndorf]</td>\n",
       "    </tr>\n",
       "    <tr>\n",
       "      <th>12</th>\n",
       "      <td>0</td>\n",
       "      <td>['Falkensee']</td>\n",
       "      <td>Für das Totholz zeichnete sich die Firma Kusch...</td>\n",
       "      <td>{'DE': 1}</td>\n",
       "      <td>[Falkensee]</td>\n",
       "    </tr>\n",
       "    <tr>\n",
       "      <th>16</th>\n",
       "      <td>1</td>\n",
       "      <td>['Hamburg', 'Hannover', 'Berlin', 'Kornwestheim']</td>\n",
       "      <td>(Deutscher Dachgärtner Verband e.V. - DDV), Ju...</td>\n",
       "      <td>{'DE': 5}</td>\n",
       "      <td>[Hamburg, Stuttgart, Hannover, Berlin, Kornwes...</td>\n",
       "    </tr>\n",
       "    <tr>\n",
       "      <th>26</th>\n",
       "      <td>1</td>\n",
       "      <td>['Berlin', 'Hamburg', 'Hannover', 'Ludwigsburg...</td>\n",
       "      <td>Neben aktuellen Gründach-Initiativen aus Berli...</td>\n",
       "      <td>{'DE': 5}</td>\n",
       "      <td>[Berlin, Hamburg, Hannover, Ludwigsburg, Stutt...</td>\n",
       "    </tr>\n",
       "    <tr>\n",
       "      <th>27</th>\n",
       "      <td>1</td>\n",
       "      <td>['Hannover']</td>\n",
       "      <td>25\\n \\n Hannover:</td>\n",
       "      <td>{'DE': 1}</td>\n",
       "      <td>[Hannover]</td>\n",
       "    </tr>\n",
       "    <tr>\n",
       "      <th>28</th>\n",
       "      <td>1</td>\n",
       "      <td>['Stuttgart']</td>\n",
       "      <td>Gebäudebegrünung als Bestandteil der Klimaanpa...</td>\n",
       "      <td>{'DE': 1}</td>\n",
       "      <td>[Stuttgart]</td>\n",
       "    </tr>\n",
       "    <tr>\n",
       "      <th>30</th>\n",
       "      <td>1</td>\n",
       "      <td>['Berlin']</td>\n",
       "      <td>32\\n \\n Berlin:</td>\n",
       "      <td>{'DE': 1}</td>\n",
       "      <td>[Berlin]</td>\n",
       "    </tr>\n",
       "    <tr>\n",
       "      <th>31</th>\n",
       "      <td>1</td>\n",
       "      <td>['Ludwigsburg']</td>\n",
       "      <td>Ökologische Gebäudekonzepte und Modellvorhaben...</td>\n",
       "      <td>{'DE': 1}</td>\n",
       "      <td>[Ludwigsburg]</td>\n",
       "    </tr>\n",
       "  </tbody>\n",
       "</table>\n",
       "</div>"
      ],
      "text/plain": [
       "    doc number                                           location  \\\n",
       "0            0                             ['Biodiversitätsdach']   \n",
       "1            0                      ['Berlin', 'Pflanzenauswahl']   \n",
       "11           0                                     ['Schorndorf']   \n",
       "12           0                                      ['Falkensee']   \n",
       "16           1  ['Hamburg', 'Hannover', 'Berlin', 'Kornwestheim']   \n",
       "26           1  ['Berlin', 'Hamburg', 'Hannover', 'Ludwigsburg...   \n",
       "27           1                                       ['Hannover']   \n",
       "28           1                                      ['Stuttgart']   \n",
       "30           1                                         ['Berlin']   \n",
       "31           1                                    ['Ludwigsburg']   \n",
       "\n",
       "                                             sentence country mentions  \\\n",
       "0   Biodiversitätsdach auf dem Besucherzentrum der...        {'DE': 1}   \n",
       "1   Dachbegrünung und Biodiversität\\n \\n 2\\n \\n Be...        {'DE': 1}   \n",
       "11  Ansprechpartner im Bereich der Nisthilfen war ...        {'DE': 1}   \n",
       "12  Für das Totholz zeichnete sich die Firma Kusch...        {'DE': 1}   \n",
       "16  (Deutscher Dachgärtner Verband e.V. - DDV), Ju...        {'DE': 5}   \n",
       "26  Neben aktuellen Gründach-Initiativen aus Berli...        {'DE': 5}   \n",
       "27                                  25\\n \\n Hannover:        {'DE': 1}   \n",
       "28  Gebäudebegrünung als Bestandteil der Klimaanpa...        {'DE': 1}   \n",
       "30                                    32\\n \\n Berlin:        {'DE': 1}   \n",
       "31  Ökologische Gebäudekonzepte und Modellvorhaben...        {'DE': 1}   \n",
       "\n",
       "                                               cities  \n",
       "0                                            [Berlin]  \n",
       "1                                            [Berlin]  \n",
       "11                                       [Schorndorf]  \n",
       "12                                        [Falkensee]  \n",
       "16  [Hamburg, Stuttgart, Hannover, Berlin, Kornwes...  \n",
       "26  [Berlin, Hamburg, Hannover, Ludwigsburg, Stutt...  \n",
       "27                                         [Hannover]  \n",
       "28                                        [Stuttgart]  \n",
       "30                                           [Berlin]  \n",
       "31                                      [Ludwigsburg]  "
      ]
     },
     "execution_count": 4,
     "metadata": {},
     "output_type": "execute_result"
    }
   ],
   "source": [
    "sents_with_loc = pd.read_pickle('sents_with_loc.pkl')\n",
    "sents_with_loc['country mentions'] = pd.Series([GeoText(sent).country_mentions for sent in sents_with_loc['sentence']],\n",
    "                                               index = sents_with_loc.index)\n",
    "\n",
    "sents_with_loc['cities'] = pd.Series([GeoText(sent).cities for sent in sents_with_loc['sentence']],\n",
    "                                               index = sents_with_loc.index)\n",
    "\n",
    "# discard the rows without any location detected by Geotext for now:\n",
    "\n",
    "sents_with_loc = sents_with_loc[sents_with_loc['country mentions'] != {}]\n",
    "sents_with_loc.head()\n",
    "\n",
    "print('We have', len(sents_with_loc), 'sentences now.')\n",
    "sents_with_loc.head(10)\n"
   ]
  },
  {
   "cell_type": "markdown",
   "metadata": {
    "slideshow": {
     "slide_type": "skip"
    }
   },
   "source": [
    "We can do a save here:"
   ]
  },
  {
   "cell_type": "code",
   "execution_count": 5,
   "metadata": {
    "slideshow": {
     "slide_type": "skip"
    }
   },
   "outputs": [],
   "source": [
    "sents_with_loc.to_pickle('sents_with_loc_geo.pkl')"
   ]
  },
  {
   "cell_type": "markdown",
   "metadata": {
    "slideshow": {
     "slide_type": "slide"
    }
   },
   "source": [
    "## Country mentions"
   ]
  },
  {
   "cell_type": "markdown",
   "metadata": {
    "slideshow": {
     "slide_type": "fragment"
    }
   },
   "source": [
    "Next, we'll count: which countries were mentioned the most?"
   ]
  },
  {
   "cell_type": "code",
   "execution_count": 6,
   "metadata": {
    "slideshow": {
     "slide_type": "skip"
    }
   },
   "outputs": [
    {
     "data": {
      "text/plain": [
       "1362"
      ]
     },
     "execution_count": 6,
     "metadata": {},
     "output_type": "execute_result"
    }
   ],
   "source": [
    "sents_with_loc = pd.read_pickle('sents_with_loc_geo.pkl')\n",
    "len(sents_with_loc)"
   ]
  },
  {
   "cell_type": "code",
   "execution_count": 7,
   "metadata": {
    "slideshow": {
     "slide_type": "skip"
    }
   },
   "outputs": [
    {
     "data": {
      "text/html": [
       "<div>\n",
       "<style scoped>\n",
       "    .dataframe tbody tr th:only-of-type {\n",
       "        vertical-align: middle;\n",
       "    }\n",
       "\n",
       "    .dataframe tbody tr th {\n",
       "        vertical-align: top;\n",
       "    }\n",
       "\n",
       "    .dataframe thead th {\n",
       "        text-align: right;\n",
       "    }\n",
       "</style>\n",
       "<table border=\"1\" class=\"dataframe\">\n",
       "  <thead>\n",
       "    <tr style=\"text-align: right;\">\n",
       "      <th></th>\n",
       "      <th>doc number</th>\n",
       "      <th>location</th>\n",
       "      <th>sentence</th>\n",
       "      <th>country mentions</th>\n",
       "      <th>cities</th>\n",
       "    </tr>\n",
       "  </thead>\n",
       "  <tbody>\n",
       "    <tr>\n",
       "      <th>0</th>\n",
       "      <td>0</td>\n",
       "      <td>['Biodiversitätsdach']</td>\n",
       "      <td>Biodiversitätsdach auf dem Besucherzentrum der...</td>\n",
       "      <td>{'DE': 1}</td>\n",
       "      <td>[Berlin]</td>\n",
       "    </tr>\n",
       "    <tr>\n",
       "      <th>1</th>\n",
       "      <td>0</td>\n",
       "      <td>['Berlin', 'Pflanzenauswahl']</td>\n",
       "      <td>Dachbegrünung und Biodiversität\\n \\n 2\\n \\n Be...</td>\n",
       "      <td>{'DE': 1}</td>\n",
       "      <td>[Berlin]</td>\n",
       "    </tr>\n",
       "    <tr>\n",
       "      <th>11</th>\n",
       "      <td>0</td>\n",
       "      <td>['Schorndorf']</td>\n",
       "      <td>Ansprechpartner im Bereich der Nisthilfen war ...</td>\n",
       "      <td>{'DE': 1}</td>\n",
       "      <td>[Schorndorf]</td>\n",
       "    </tr>\n",
       "    <tr>\n",
       "      <th>12</th>\n",
       "      <td>0</td>\n",
       "      <td>['Falkensee']</td>\n",
       "      <td>Für das Totholz zeichnete sich die Firma Kusch...</td>\n",
       "      <td>{'DE': 1}</td>\n",
       "      <td>[Falkensee]</td>\n",
       "    </tr>\n",
       "    <tr>\n",
       "      <th>16</th>\n",
       "      <td>1</td>\n",
       "      <td>['Hamburg', 'Hannover', 'Berlin', 'Kornwestheim']</td>\n",
       "      <td>(Deutscher Dachgärtner Verband e.V. - DDV), Ju...</td>\n",
       "      <td>{'DE': 5}</td>\n",
       "      <td>[Hamburg, Stuttgart, Hannover, Berlin, Kornwes...</td>\n",
       "    </tr>\n",
       "  </tbody>\n",
       "</table>\n",
       "</div>"
      ],
      "text/plain": [
       "    doc number                                           location  \\\n",
       "0            0                             ['Biodiversitätsdach']   \n",
       "1            0                      ['Berlin', 'Pflanzenauswahl']   \n",
       "11           0                                     ['Schorndorf']   \n",
       "12           0                                      ['Falkensee']   \n",
       "16           1  ['Hamburg', 'Hannover', 'Berlin', 'Kornwestheim']   \n",
       "\n",
       "                                             sentence country mentions  \\\n",
       "0   Biodiversitätsdach auf dem Besucherzentrum der...        {'DE': 1}   \n",
       "1   Dachbegrünung und Biodiversität\\n \\n 2\\n \\n Be...        {'DE': 1}   \n",
       "11  Ansprechpartner im Bereich der Nisthilfen war ...        {'DE': 1}   \n",
       "12  Für das Totholz zeichnete sich die Firma Kusch...        {'DE': 1}   \n",
       "16  (Deutscher Dachgärtner Verband e.V. - DDV), Ju...        {'DE': 5}   \n",
       "\n",
       "                                               cities  \n",
       "0                                            [Berlin]  \n",
       "1                                            [Berlin]  \n",
       "11                                       [Schorndorf]  \n",
       "12                                        [Falkensee]  \n",
       "16  [Hamburg, Stuttgart, Hannover, Berlin, Kornwes...  "
      ]
     },
     "execution_count": 7,
     "metadata": {},
     "output_type": "execute_result"
    }
   ],
   "source": [
    "sents_with_loc.head()"
   ]
  },
  {
   "cell_type": "code",
   "execution_count": 8,
   "metadata": {
    "slideshow": {
     "slide_type": "subslide"
    }
   },
   "outputs": [
    {
     "data": {
      "text/html": [
       "<div>\n",
       "<style scoped>\n",
       "    .dataframe tbody tr th:only-of-type {\n",
       "        vertical-align: middle;\n",
       "    }\n",
       "\n",
       "    .dataframe tbody tr th {\n",
       "        vertical-align: top;\n",
       "    }\n",
       "\n",
       "    .dataframe thead th {\n",
       "        text-align: right;\n",
       "    }\n",
       "</style>\n",
       "<table border=\"1\" class=\"dataframe\">\n",
       "  <thead>\n",
       "    <tr style=\"text-align: right;\">\n",
       "      <th></th>\n",
       "      <th>country code</th>\n",
       "      <th>freq</th>\n",
       "    </tr>\n",
       "  </thead>\n",
       "  <tbody>\n",
       "    <tr>\n",
       "      <th>0</th>\n",
       "      <td>DE</td>\n",
       "      <td>1290</td>\n",
       "    </tr>\n",
       "    <tr>\n",
       "      <th>4</th>\n",
       "      <td>US</td>\n",
       "      <td>124</td>\n",
       "    </tr>\n",
       "    <tr>\n",
       "      <th>3</th>\n",
       "      <td>FR</td>\n",
       "      <td>50</td>\n",
       "    </tr>\n",
       "    <tr>\n",
       "      <th>20</th>\n",
       "      <td>CH</td>\n",
       "      <td>27</td>\n",
       "    </tr>\n",
       "    <tr>\n",
       "      <th>23</th>\n",
       "      <td>AT</td>\n",
       "      <td>25</td>\n",
       "    </tr>\n",
       "    <tr>\n",
       "      <th>2</th>\n",
       "      <td>SE</td>\n",
       "      <td>23</td>\n",
       "    </tr>\n",
       "    <tr>\n",
       "      <th>8</th>\n",
       "      <td>GB</td>\n",
       "      <td>21</td>\n",
       "    </tr>\n",
       "    <tr>\n",
       "      <th>7</th>\n",
       "      <td>CN</td>\n",
       "      <td>18</td>\n",
       "    </tr>\n",
       "    <tr>\n",
       "      <th>17</th>\n",
       "      <td>IL</td>\n",
       "      <td>18</td>\n",
       "    </tr>\n",
       "    <tr>\n",
       "      <th>18</th>\n",
       "      <td>PT</td>\n",
       "      <td>15</td>\n",
       "    </tr>\n",
       "  </tbody>\n",
       "</table>\n",
       "</div>"
      ],
      "text/plain": [
       "   country code  freq\n",
       "0            DE  1290\n",
       "4            US   124\n",
       "3            FR    50\n",
       "20           CH    27\n",
       "23           AT    25\n",
       "2            SE    23\n",
       "8            GB    21\n",
       "7            CN    18\n",
       "17           IL    18\n",
       "18           PT    15"
      ]
     },
     "execution_count": 8,
     "metadata": {},
     "output_type": "execute_result"
    }
   ],
   "source": [
    "country_count = collections.defaultdict(int)\n",
    "for index, row in sents_with_loc.iterrows():\n",
    "    for code, value in  row['country mentions'].items():\n",
    "        country_count[code] += value \n",
    "        \n",
    "city_count = collections.defaultdict(int)\n",
    "for index, row in sents_with_loc.iterrows():\n",
    "    for city in row['cities']:\n",
    "        city_count[city] += 1\n",
    "\n",
    "country_data = pd.DataFrame({\n",
    "   'country code':[code for code in country_count.keys()],\n",
    "    'freq':[country_count[code] for code in country_count.keys()]})\n",
    "\n",
    "country_data = country_data.sort_values(by = 'freq', ascending = False)\n",
    "country_data.head(10)"
   ]
  },
  {
   "cell_type": "markdown",
   "metadata": {
    "slideshow": {
     "slide_type": "subslide"
    }
   },
   "source": [
    "Ommiting Germany, we have the following barchart:"
   ]
  },
  {
   "cell_type": "code",
   "execution_count": 9,
   "metadata": {
    "slideshow": {
     "slide_type": "notes"
    }
   },
   "outputs": [
    {
     "data": {
      "image/png": "[encoded data removed]",
      "text/plain": [
       "<Figure size 1008x576 with 1 Axes>"
      ]
     },
     "metadata": {
      "needs_background": "light"
     },
     "output_type": "display_data"
    }
   ],
   "source": [
    "sns.set_color_codes(\"pastel\")\n",
    "\n",
    "f, ax = plt.subplots(figsize=(14, 8))\n",
    "sns.barplot(x = 'country code', y = 'freq', data = country_data[1:10], color = 'b')\n",
    "\n",
    "ax.set( ylabel=\"Number of mentions\",\n",
    "         xlabel=\"Highest mentioned countries after Germany\")\n",
    "sns.despine(left=True, bottom=True)\n",
    "\n",
    "plt.savefig('countries_bar.png')"
   ]
  },
  {
   "cell_type": "markdown",
   "metadata": {
    "slideshow": {
     "slide_type": "fragment"
    }
   },
   "source": [
    "<img src = 'countries_bar.png'>"
   ]
  },
  {
   "cell_type": "markdown",
   "metadata": {
    "slideshow": {
     "slide_type": "slide"
    }
   },
   "source": [
    "## Visualization on maps"
   ]
  },
  {
   "cell_type": "markdown",
   "metadata": {
    "slideshow": {
     "slide_type": "fragment"
    }
   },
   "source": [
    "Let's visualize this! We get coordinates for the countries first:"
   ]
  },
  {
   "cell_type": "code",
   "execution_count": 10,
   "metadata": {
    "scrolled": false,
    "slideshow": {
     "slide_type": "fragment"
    }
   },
   "outputs": [
    {
     "data": {
      "text/html": [
       "<div>\n",
       "<style scoped>\n",
       "    .dataframe tbody tr th:only-of-type {\n",
       "        vertical-align: middle;\n",
       "    }\n",
       "\n",
       "    .dataframe tbody tr th {\n",
       "        vertical-align: top;\n",
       "    }\n",
       "\n",
       "    .dataframe thead th {\n",
       "        text-align: right;\n",
       "    }\n",
       "</style>\n",
       "<table border=\"1\" class=\"dataframe\">\n",
       "  <thead>\n",
       "    <tr style=\"text-align: right;\">\n",
       "      <th></th>\n",
       "      <th>country</th>\n",
       "      <th>latitude</th>\n",
       "      <th>longitude</th>\n",
       "      <th>name</th>\n",
       "    </tr>\n",
       "  </thead>\n",
       "  <tbody>\n",
       "    <tr>\n",
       "      <th>0</th>\n",
       "      <td>AD</td>\n",
       "      <td>42.546245</td>\n",
       "      <td>1.601554</td>\n",
       "      <td>Andorra</td>\n",
       "    </tr>\n",
       "    <tr>\n",
       "      <th>1</th>\n",
       "      <td>AE</td>\n",
       "      <td>23.424076</td>\n",
       "      <td>53.847818</td>\n",
       "      <td>United Arab Emirates</td>\n",
       "    </tr>\n",
       "    <tr>\n",
       "      <th>2</th>\n",
       "      <td>AF</td>\n",
       "      <td>33.939110</td>\n",
       "      <td>67.709953</td>\n",
       "      <td>Afghanistan</td>\n",
       "    </tr>\n",
       "    <tr>\n",
       "      <th>3</th>\n",
       "      <td>AG</td>\n",
       "      <td>17.060816</td>\n",
       "      <td>-61.796428</td>\n",
       "      <td>Antigua and Barbuda</td>\n",
       "    </tr>\n",
       "    <tr>\n",
       "      <th>4</th>\n",
       "      <td>AI</td>\n",
       "      <td>18.220554</td>\n",
       "      <td>-63.068615</td>\n",
       "      <td>Anguilla</td>\n",
       "    </tr>\n",
       "  </tbody>\n",
       "</table>\n",
       "</div>"
      ],
      "text/plain": [
       "  country   latitude  longitude                  name\n",
       "0      AD  42.546245   1.601554               Andorra\n",
       "1      AE  23.424076  53.847818  United Arab Emirates\n",
       "2      AF  33.939110  67.709953           Afghanistan\n",
       "3      AG  17.060816 -61.796428   Antigua and Barbuda\n",
       "4      AI  18.220554 -63.068615              Anguilla"
      ]
     },
     "execution_count": 10,
     "metadata": {},
     "output_type": "execute_result"
    }
   ],
   "source": [
    "url = 'https://developers.google.com/public-data/docs/canonical/countries_csv'\n",
    "html = requests.get(url).content\n",
    "df_coords = pd.read_html(html)\n",
    "df_coords = df_coords[0]\n",
    "df_coords.head()"
   ]
  },
  {
   "cell_type": "markdown",
   "metadata": {
    "slideshow": {
     "slide_type": "subslide"
    }
   },
   "source": [
    "We use folium to put markers proportional to the frequencies:"
   ]
  },
  {
   "cell_type": "code",
   "execution_count": 11,
   "metadata": {
    "scrolled": true,
    "slideshow": {
     "slide_type": "fragment"
    }
   },
   "outputs": [],
   "source": [
    " # Make an empty map\n",
    "m = folium.Map(location=[20,0], tiles=\"Mapbox Bright\", zoom_start=2)\n",
    "data = country_data\n",
    "\n",
    "# we add markers one by one to the map\n",
    "for i in range(1,20):\n",
    "    code = data.iloc[i]['country code']\n",
    "    lon = int(df_coords[df_coords['country'] == code]['longitude'])\n",
    "    lat = int(df_coords[df_coords['country'] == code]['latitude'])\n",
    "    folium.Circle(\n",
    "      location=[lat, lon],\n",
    "      popup = code + ': ' + str(data.iloc[i]['freq']) + ' mentions', # pop-up label above marker\n",
    "      radius = int(data.iloc[i]['freq']) * 10000,\n",
    "      color = 'crimson',\n",
    "      fill = True,\n",
    "      fill_color = 'crimson'\n",
    "   ).add_to(m)\n",
    "\n",
    "m.save('world_mentions.png')"
   ]
  },
  {
   "cell_type": "code",
   "execution_count": 12,
   "metadata": {
    "slideshow": {
     "slide_type": "subslide"
    }
   },
   "outputs": [
    {
     "data": {
      "text/html": [
       "<div style=\"width:100%;\"><div style=\"position:relative;width:100%;height:0;padding-bottom:60%;\"><iframe src=\"data:text/html;charset=utf-8;base64,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\" style=\"position:absolute;width:100%;height:100%;left:0;top:0;border:none !important;\" allowfullscreen webkitallowfullscreen mozallowfullscreen></iframe></div></div>"
      ],
      "text/plain": [
       "<folium.folium.Map at 0xdbb241f5f8>"
      ]
     },
     "execution_count": 12,
     "metadata": {},
     "output_type": "execute_result"
    }
   ],
   "source": [
    "m"
   ]
  },
  {
   "cell_type": "markdown",
   "metadata": {
    "slideshow": {
     "slide_type": "slide"
    }
   },
   "source": [
    "## Cities from Germany "
   ]
  },
  {
   "cell_type": "markdown",
   "metadata": {
    "slideshow": {
     "slide_type": "fragment"
    }
   },
   "source": [
    "Let's look at Germany now and focus on the cities, simply counting first:"
   ]
  },
  {
   "cell_type": "code",
   "execution_count": 43,
   "metadata": {
    "slideshow": {
     "slide_type": "fragment"
    }
   },
   "outputs": [
    {
     "data": {
      "text/plain": [
       "[('Berlin', 395),\n",
       " ('Stuttgart', 144),\n",
       " ('Hamburg', 93),\n",
       " ('Ditzingen', 50),\n",
       " ('Hannover', 44),\n",
       " ('Köln', 37),\n",
       " ('Essen', 24),\n",
       " ('Dresden', 23),\n",
       " ('Leipzig', 22),\n",
       " ('Mannheim', 20)]"
      ]
     },
     "execution_count": 43,
     "metadata": {},
     "output_type": "execute_result"
    }
   ],
   "source": [
    "city_count_german = collections.defaultdict(int)\n",
    "for city, count in city_count.items():\n",
    "    place = GeoText(city)\n",
    "    if 'DE' in place.country_mentions:\n",
    "        city_count_german[city] += count\n",
    "\n",
    "from operator import itemgetter \n",
    "city_count_german_sorted = sorted(city_count_german.items(), key = itemgetter(1), reverse = True)\n",
    "city_count_german_sorted[:10]"
   ]
  },
  {
   "cell_type": "markdown",
   "metadata": {
    "slideshow": {
     "slide_type": "subslide"
    }
   },
   "source": [
    "The barchart now looks as follows:"
   ]
  },
  {
   "cell_type": "code",
   "execution_count": 37,
   "metadata": {
    "slideshow": {
     "slide_type": "notes"
    }
   },
   "outputs": [
    {
     "data": {
      "image/png": "[encoded data removed]",
      "text/plain": [
       "<Figure size 1080x648 with 1 Axes>"
      ]
     },
     "metadata": {
      "needs_background": "light"
     },
     "output_type": "display_data"
    }
   ],
   "source": [
    "data = pd.DataFrame({\n",
    "   'country code':[pair[0] for pair in city_count_german_sorted],\n",
    "    'freq':[pair[1] for pair in city_count_german_sorted]})\n",
    "\n",
    "f, ax = plt.subplots(figsize=(15, 9))\n",
    "\n",
    "sns.set_color_codes(\"pastel\")\n",
    "sns.barplot(y=data.loc[0:10,\"freq\"], x=data.loc[0:10,\"country code\"], \n",
    "            label=\"Number of mentions\", color=\"b\")\n",
    "\n",
    "# legend\n",
    "#ax.legend(ncol=2, loc=\"lower right\", frameon=True)\n",
    "ax.set( ylabel=\"Number of mentions\",\n",
    "        xlabel=\"Highest mentioned cities in Germany\")\n",
    "sns.despine(left=True, bottom=True)\n",
    "\n",
    "plt.savefig('cities_bar.png')"
   ]
  },
  {
   "cell_type": "markdown",
   "metadata": {
    "slideshow": {
     "slide_type": "fragment"
    }
   },
   "source": [
    "<img src = \"cities_bar.png\">"
   ]
  },
  {
   "cell_type": "markdown",
   "metadata": {
    "slideshow": {
     "slide_type": "skip"
    }
   },
   "source": [
    "To map these as well, we get a map for the cities:"
   ]
  },
  {
   "cell_type": "code",
   "execution_count": 14,
   "metadata": {
    "slideshow": {
     "slide_type": "skip"
    }
   },
   "outputs": [
    {
     "data": {
      "text/html": [
       "<div>\n",
       "<style scoped>\n",
       "    .dataframe tbody tr th:only-of-type {\n",
       "        vertical-align: middle;\n",
       "    }\n",
       "\n",
       "    .dataframe tbody tr th {\n",
       "        vertical-align: top;\n",
       "    }\n",
       "\n",
       "    .dataframe thead th {\n",
       "        text-align: right;\n",
       "    }\n",
       "</style>\n",
       "<table border=\"1\" class=\"dataframe\">\n",
       "  <thead>\n",
       "    <tr style=\"text-align: right;\">\n",
       "      <th></th>\n",
       "      <th>city</th>\n",
       "      <th>city_ascii</th>\n",
       "      <th>lat</th>\n",
       "      <th>lng</th>\n",
       "      <th>country</th>\n",
       "      <th>iso2</th>\n",
       "      <th>iso3</th>\n",
       "      <th>admin_name</th>\n",
       "      <th>capital</th>\n",
       "      <th>population</th>\n",
       "      <th>id</th>\n",
       "    </tr>\n",
       "  </thead>\n",
       "  <tbody>\n",
       "    <tr>\n",
       "      <th>6279</th>\n",
       "      <td>Berlin</td>\n",
       "      <td>Berlin</td>\n",
       "      <td>52.5218</td>\n",
       "      <td>13.4015</td>\n",
       "      <td>Germany</td>\n",
       "      <td>DE</td>\n",
       "      <td>DEU</td>\n",
       "      <td>Berlin</td>\n",
       "      <td>primary</td>\n",
       "      <td>3406000.0</td>\n",
       "      <td>1276451290</td>\n",
       "    </tr>\n",
       "    <tr>\n",
       "      <th>6280</th>\n",
       "      <td>Cologne</td>\n",
       "      <td>Cologne</td>\n",
       "      <td>50.9300</td>\n",
       "      <td>6.9500</td>\n",
       "      <td>Germany</td>\n",
       "      <td>DE</td>\n",
       "      <td>DEU</td>\n",
       "      <td>North Rhine-Westphalia</td>\n",
       "      <td>NaN</td>\n",
       "      <td>1004000.0</td>\n",
       "      <td>1276015998</td>\n",
       "    </tr>\n",
       "    <tr>\n",
       "      <th>6281</th>\n",
       "      <td>Munich</td>\n",
       "      <td>Munich</td>\n",
       "      <td>48.1299</td>\n",
       "      <td>11.5750</td>\n",
       "      <td>Germany</td>\n",
       "      <td>DE</td>\n",
       "      <td>DEU</td>\n",
       "      <td>Bavaria</td>\n",
       "      <td>admin</td>\n",
       "      <td>1275000.0</td>\n",
       "      <td>1276692352</td>\n",
       "    </tr>\n",
       "    <tr>\n",
       "      <th>6282</th>\n",
       "      <td>Potsdam</td>\n",
       "      <td>Potsdam</td>\n",
       "      <td>52.4004</td>\n",
       "      <td>13.0700</td>\n",
       "      <td>Germany</td>\n",
       "      <td>DE</td>\n",
       "      <td>DEU</td>\n",
       "      <td>Brandenburg</td>\n",
       "      <td>admin</td>\n",
       "      <td>218095.0</td>\n",
       "      <td>1276395100</td>\n",
       "    </tr>\n",
       "    <tr>\n",
       "      <th>6283</th>\n",
       "      <td>Kiel</td>\n",
       "      <td>Kiel</td>\n",
       "      <td>54.3304</td>\n",
       "      <td>10.1300</td>\n",
       "      <td>Germany</td>\n",
       "      <td>DE</td>\n",
       "      <td>DEU</td>\n",
       "      <td>Schleswig-Holstein</td>\n",
       "      <td>admin</td>\n",
       "      <td>269427.0</td>\n",
       "      <td>1276305306</td>\n",
       "    </tr>\n",
       "  </tbody>\n",
       "</table>\n",
       "</div>"
      ],
      "text/plain": [
       "         city city_ascii      lat      lng  country iso2 iso3  \\\n",
       "6279   Berlin     Berlin  52.5218  13.4015  Germany   DE  DEU   \n",
       "6280  Cologne    Cologne  50.9300   6.9500  Germany   DE  DEU   \n",
       "6281   Munich     Munich  48.1299  11.5750  Germany   DE  DEU   \n",
       "6282  Potsdam    Potsdam  52.4004  13.0700  Germany   DE  DEU   \n",
       "6283     Kiel       Kiel  54.3304  10.1300  Germany   DE  DEU   \n",
       "\n",
       "                  admin_name  capital  population          id  \n",
       "6279                  Berlin  primary   3406000.0  1276451290  \n",
       "6280  North Rhine-Westphalia      NaN   1004000.0  1276015998  \n",
       "6281                 Bavaria    admin   1275000.0  1276692352  \n",
       "6282             Brandenburg    admin    218095.0  1276395100  \n",
       "6283      Schleswig-Holstein    admin    269427.0  1276305306  "
      ]
     },
     "execution_count": 14,
     "metadata": {},
     "output_type": "execute_result"
    }
   ],
   "source": [
    "df_cities = pd.read_csv('../assets/worldcities.csv')\n",
    "german_cities = df_cities[df_cities['country'] == 'Germany']\n",
    "german_cities.head()"
   ]
  },
  {
   "cell_type": "markdown",
   "metadata": {
    "slideshow": {
     "slide_type": "subslide"
    }
   },
   "source": [
    "The map now looks like this:"
   ]
  },
  {
   "cell_type": "code",
   "execution_count": 15,
   "metadata": {
    "scrolled": true,
    "slideshow": {
     "slide_type": "fragment"
    }
   },
   "outputs": [],
   "source": [
    "city_list = list()\n",
    "not_found = list()\n",
    "\n",
    "m2 = folium.Map(location=[51,10], tiles=\"Mapbox Bright\", zoom_start=6)\n",
    " \n",
    "    \n",
    "for city, count in city_count.items():\n",
    "    city_info = german_cities[german_cities['city'] == city]\n",
    "    if count > 0 and len(city_info) > 0:\n",
    "        city_list.append(city)\n",
    "        #mask = german_cities['city'] == city\n",
    "        lat = float(city_info['lat'])\n",
    "        lon = float(city_info['lng'])\n",
    "\n",
    "        folium.Circle(\n",
    "        location=[lat, lon],\n",
    "        popup = city + ':' + str(count) + ' mentions',\n",
    "        radius = np.log(count) * 15000,\n",
    "        color = 'crimson',\n",
    "        fill = True,\n",
    "        fill_color = 'crimson'\n",
    "        ).add_to(m2)\n",
    "    if len(city_info) == 0:\n",
    "        not_found.append((city, count))\n",
    "m2.save('germany_counts.html')\n"
   ]
  },
  {
   "cell_type": "code",
   "execution_count": 16,
   "metadata": {
    "slideshow": {
     "slide_type": "subslide"
    }
   },
   "outputs": [
    {
     "data": {
      "text/html": [
       "<div style=\"width:100%;\"><div style=\"position:relative;width:100%;height:0;padding-bottom:60%;\"><iframe src=\"data:text/html;charset=utf-8;base64,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\" style=\"position:absolute;width:100%;height:100%;left:0;top:0;border:none !important;\" allowfullscreen webkitallowfullscreen mozallowfullscreen></iframe></div></div>"
      ],
      "text/plain": [
       "<folium.folium.Map at 0xdbb6290320>"
      ]
     },
     "execution_count": 16,
     "metadata": {},
     "output_type": "execute_result"
    }
   ],
   "source": [
    "m2"
   ]
  },
  {
   "cell_type": "markdown",
   "metadata": {
    "slideshow": {
     "slide_type": "skip"
    }
   },
   "source": [
    "## Green corridors - future project proposal"
   ]
  },
  {
   "cell_type": "markdown",
   "metadata": {
    "slideshow": {
     "slide_type": "skip"
    }
   },
   "source": [
    "In the future, it would be nice to map green areas in a city and estimate the price of achieving large, connected green areas or so-called green corridors. This would involve: \n",
    "<ul>\n",
    "    <li>satellite image processing,  </li>\n",
    "        <li>creating schematic graph of the city marking green and non-green areas; </li>\n",
    "            <li> estimating the cost of making a unit green;  </li>\n",
    "                <li> finding minimal weight connected subgraphs that contain a given set of green areas. </li>\n",
    "</ul>\n",
    "    \n",
    "The most relevant references:\n",
    "<ul>\n",
    "    <li> Conrad, Jon M., et al. \"Wildlife corridors as a connected subgraph problem.\" Journal of Environmental Economics and Management 63.1 (2012): 1-18.\n",
    "        </li>\n",
    "    <li> El-Kebir, Mohammed, and Gunnar W. Klau. \"Solving the maximum-weight connected subgraph problem to optimality.\" arXiv preprint arXiv:1409.5308 (2014).\n",
    "        </li>\n",
    "  <ul>"
   ]
  },
  {
   "cell_type": "markdown",
   "metadata": {
    "slideshow": {
     "slide_type": "slide"
    }
   },
   "source": [
    "## Classifying location mentions\n",
    "\n",
    "How can we tell if a locations is relevant? (What is relevant?)"
   ]
  },
  {
   "cell_type": "code",
   "execution_count": 17,
   "metadata": {
    "slideshow": {
     "slide_type": "skip"
    }
   },
   "outputs": [],
   "source": [
    "sents_with_loc = pd.read_pickle('sents_with_loc_geo.pkl')"
   ]
  },
  {
   "cell_type": "code",
   "execution_count": 18,
   "metadata": {
    "slideshow": {
     "slide_type": "skip"
    }
   },
   "outputs": [
    {
     "data": {
      "text/html": [
       "<div>\n",
       "<style scoped>\n",
       "    .dataframe tbody tr th:only-of-type {\n",
       "        vertical-align: middle;\n",
       "    }\n",
       "\n",
       "    .dataframe tbody tr th {\n",
       "        vertical-align: top;\n",
       "    }\n",
       "\n",
       "    .dataframe thead th {\n",
       "        text-align: right;\n",
       "    }\n",
       "</style>\n",
       "<table border=\"1\" class=\"dataframe\">\n",
       "  <thead>\n",
       "    <tr style=\"text-align: right;\">\n",
       "      <th></th>\n",
       "      <th>index</th>\n",
       "      <th>doc number</th>\n",
       "      <th>location</th>\n",
       "      <th>sentence</th>\n",
       "      <th>country mentions</th>\n",
       "      <th>cities</th>\n",
       "    </tr>\n",
       "  </thead>\n",
       "  <tbody>\n",
       "    <tr>\n",
       "      <th>0</th>\n",
       "      <td>0</td>\n",
       "      <td>0</td>\n",
       "      <td>['Biodiversitätsdach']</td>\n",
       "      <td>Biodiversitätsdach auf dem Besucherzentrum der...</td>\n",
       "      <td>{'DE': 1}</td>\n",
       "      <td>[Berlin]</td>\n",
       "    </tr>\n",
       "    <tr>\n",
       "      <th>1</th>\n",
       "      <td>1</td>\n",
       "      <td>0</td>\n",
       "      <td>['Berlin', 'Pflanzenauswahl']</td>\n",
       "      <td>Dachbegrünung und Biodiversität\\n \\n 2\\n \\n Be...</td>\n",
       "      <td>{'DE': 1}</td>\n",
       "      <td>[Berlin]</td>\n",
       "    </tr>\n",
       "    <tr>\n",
       "      <th>2</th>\n",
       "      <td>11</td>\n",
       "      <td>0</td>\n",
       "      <td>['Schorndorf']</td>\n",
       "      <td>Ansprechpartner im Bereich der Nisthilfen war ...</td>\n",
       "      <td>{'DE': 1}</td>\n",
       "      <td>[Schorndorf]</td>\n",
       "    </tr>\n",
       "    <tr>\n",
       "      <th>3</th>\n",
       "      <td>12</td>\n",
       "      <td>0</td>\n",
       "      <td>['Falkensee']</td>\n",
       "      <td>Für das Totholz zeichnete sich die Firma Kusch...</td>\n",
       "      <td>{'DE': 1}</td>\n",
       "      <td>[Falkensee]</td>\n",
       "    </tr>\n",
       "    <tr>\n",
       "      <th>4</th>\n",
       "      <td>16</td>\n",
       "      <td>1</td>\n",
       "      <td>['Hamburg', 'Hannover', 'Berlin', 'Kornwestheim']</td>\n",
       "      <td>(Deutscher Dachgärtner Verband e.V. - DDV), Ju...</td>\n",
       "      <td>{'DE': 5}</td>\n",
       "      <td>[Hamburg, Stuttgart, Hannover, Berlin, Kornwes...</td>\n",
       "    </tr>\n",
       "  </tbody>\n",
       "</table>\n",
       "</div>"
      ],
      "text/plain": [
       "   index  doc number                                           location  \\\n",
       "0      0           0                             ['Biodiversitätsdach']   \n",
       "1      1           0                      ['Berlin', 'Pflanzenauswahl']   \n",
       "2     11           0                                     ['Schorndorf']   \n",
       "3     12           0                                      ['Falkensee']   \n",
       "4     16           1  ['Hamburg', 'Hannover', 'Berlin', 'Kornwestheim']   \n",
       "\n",
       "                                            sentence country mentions  \\\n",
       "0  Biodiversitätsdach auf dem Besucherzentrum der...        {'DE': 1}   \n",
       "1  Dachbegrünung und Biodiversität\\n \\n 2\\n \\n Be...        {'DE': 1}   \n",
       "2  Ansprechpartner im Bereich der Nisthilfen war ...        {'DE': 1}   \n",
       "3  Für das Totholz zeichnete sich die Firma Kusch...        {'DE': 1}   \n",
       "4  (Deutscher Dachgärtner Verband e.V. - DDV), Ju...        {'DE': 5}   \n",
       "\n",
       "                                              cities  \n",
       "0                                           [Berlin]  \n",
       "1                                           [Berlin]  \n",
       "2                                       [Schorndorf]  \n",
       "3                                        [Falkensee]  \n",
       "4  [Hamburg, Stuttgart, Hannover, Berlin, Kornwes...  "
      ]
     },
     "execution_count": 18,
     "metadata": {},
     "output_type": "execute_result"
    }
   ],
   "source": [
    "sents_with_loc.reset_index(inplace=True)\n",
    "sents_with_loc.head()"
   ]
  },
  {
   "cell_type": "markdown",
   "metadata": {
    "slideshow": {
     "slide_type": "subslide"
    }
   },
   "source": [
    "Let's see a sample of our sentences with locations:"
   ]
  },
  {
   "cell_type": "code",
   "execution_count": 19,
   "metadata": {
    "slideshow": {
     "slide_type": "fragment"
    }
   },
   "outputs": [
    {
     "name": "stdout",
     "output_type": "stream",
     "text": [
      "Gründach-Siedlung in Berlin    \n",
      "--->The countries were: ['DE'] The cities were: ['Berlin'] \n",
      "\n",
      "48329 Havixbeck D 50226 Frechen D 50739 Köln    www.marcel-nadorf.com www.benning-dachbegruenung.de\n",
      "--->The countries were: ['DE'] The cities were: ['Frechen', 'Köln'] \n",
      "\n",
      "Im Pommerfeld 2 56630 Kretz / Andernach fon +49 (0) 26 32 - 95 48-0 fax +49 (0) 26 32 - 95 48-20    www.vulkatec.de info@ vulkatec.de    \n",
      "--->The countries were: ['DE'] The cities were: ['Andernach'] \n",
      "\n",
      "FBB-Symposium Gebäudegrün    Am 20. Februar 2018 findet in Berlin im Rahmen der Grünbau während der Messe Bautec das FBB-Symposium Gebäudegrün statt.\n",
      "--->The countries were: ['DE'] The cities were: ['Berlin'] \n",
      "\n",
      "Auch hier zeigt sich, dass durch Bewässerung eine höhere CO2-Aufnahme im Jahresgang erwartet werden kann.  \n",
      "--->The countries were: ['FR'] The cities were: ['Auch'] \n",
      "\n"
     ]
    }
   ],
   "source": [
    "sample = sents_with_loc.sample(n = 5, random_state = 42)\n",
    "\n",
    "for index, row in sample.iterrows():\n",
    "    print(row['sentence'].replace('\\n', ' '))  \n",
    "    print('--->The countries were:', [c for c in row['country mentions'].keys()],\n",
    "          'The cities were:', row['cities'], '\\n')\n",
    " "
   ]
  },
  {
   "cell_type": "markdown",
   "metadata": {
    "slideshow": {
     "slide_type": "subslide"
    }
   },
   "source": [
    "### First approach: topic modelling "
   ]
  },
  {
   "cell_type": "code",
   "execution_count": 20,
   "metadata": {
    "slideshow": {
     "slide_type": "fragment"
    }
   },
   "outputs": [
    {
     "name": "stderr",
     "output_type": "stream",
     "text": [
      "[nltk_data] Downloading package stopwords to\n",
      "[nltk_data]     C:\\Users\\admin1\\AppData\\Roaming\\nltk_data...\n",
      "[nltk_data]   Package stopwords is already up-to-date!\n"
     ]
    }
   ],
   "source": [
    "nltk.download('stopwords')\n",
    "\n",
    "# we have some English text in the German too so add those as well\n",
    "from nltk.corpus import stopwords\n",
    "stop_words = set(stopwords.words('german'))\n",
    "stop_words = stop_words.union(set(stopwords.words('english')))\n",
    "\n",
    "\n",
    "vect = CountVectorizer(min_df=20, max_df=0.2, stop_words=stop_words, \n",
    "                       token_pattern='(?u)\\\\b\\\\w\\\\w\\\\w+\\\\b')\n",
    "\n",
    "# our corpus\n",
    "corpus = [sent for sent in sents_with_loc['sentence']]\n",
    "\n",
    "# create the sparse matrix\n",
    "X = vect.fit_transform(corpus)"
   ]
  },
  {
   "cell_type": "code",
   "execution_count": 60,
   "metadata": {
    "slideshow": {
     "slide_type": "skip"
    }
   },
   "outputs": [],
   "source": [
    "\n",
    "# with open(\"stopwords-de.txt\", encoding='utf-8', mode=\"r\") as f:\n",
    "#         stopwords_de = f.read().splitlines()\n",
    "# stopwords_de = frozenset(stopwords_de)\n"
   ]
  },
  {
   "cell_type": "code",
   "execution_count": 63,
   "metadata": {
    "slideshow": {
     "slide_type": "skip"
    }
   },
   "outputs": [
    {
     "data": {
      "text/plain": [
       "<1362x60 sparse matrix of type '<class 'numpy.int64'>'\n",
       "\twith 2150 stored elements in Compressed Sparse Row format>"
      ]
     },
     "execution_count": 63,
     "metadata": {},
     "output_type": "execute_result"
    }
   ],
   "source": [
    "X"
   ]
  },
  {
   "cell_type": "code",
   "execution_count": 21,
   "metadata": {
    "slideshow": {
     "slide_type": "subslide"
    }
   },
   "outputs": [],
   "source": [
    "# IDs to words dict\n",
    "id_map = dict((v, k) for k, v in vect.vocabulary_.items())\n",
    "\n",
    "# Convert sparse matrix to gensim corpus.\n",
    "corpus = gensim.matutils.Sparse2Corpus(X, documents_columns=False)\n",
    "\n",
    "# Train the LDA model\n",
    "from gensim.models.ldamodel import LdaModel\n",
    "\n",
    "ldamodel = LdaModel(corpus=corpus,\n",
    "               id2word=id_map,\n",
    "               num_topics=10,\n",
    "               passes=10,\n",
    "                   random_state = 42)"
   ]
  },
  {
   "cell_type": "markdown",
   "metadata": {
    "slideshow": {
     "slide_type": "subslide"
    }
   },
   "source": [
    "If we check the topics, nothing stands out as super irrelevant but <b>topic 3 and 5</b> might worth our attention."
   ]
  },
  {
   "cell_type": "code",
   "execution_count": 170,
   "metadata": {
    "scrolled": true,
    "slideshow": {
     "slide_type": "fragment"
    }
   },
   "outputs": [
    {
     "data": {
      "text/plain": [
       "[(0,\n",
       "  '0.257*\"hannover\" + 0.160*\"2018\" + 0.145*\"dach\" + 0.137*\"2013\" + 0.113*\"rahmen\" + 0.049*\"stadt\" + 0.028*\"universität\" + 0.025*\"leipzig\" + 0.016*\"gebäudegrün\" + 0.014*\"dächer\"'),\n",
       " (1,\n",
       "  '0.224*\"2017\" + 0.121*\"green\" + 0.097*\"roofs\" + 0.086*\"frankfurt\" + 0.069*\"dachbegrünung\" + 0.068*\"london\" + 0.067*\"internationalen\" + 0.061*\"leipzig\" + 0.051*\"essen\" + 0.043*\"gründach\"'),\n",
       " (2,\n",
       "  '0.177*\"fbb\" + 0.148*\"ditzingen\" + 0.120*\"bugg\" + 0.103*\"gründachsymposium\" + 0.071*\"dachbegrünungen\" + 0.067*\"2018\" + 0.063*\"stuttgart\" + 0.060*\"gebäudegrün\" + 0.042*\"statt\" + 0.028*\"beim\"'),\n",
       " (3,\n",
       "  '0.425*\"gmbh\" + 0.354*\"stuttgart\" + 0.067*\"usa\" + 0.045*\"mannheim\" + 0.020*\"dresden\" + 0.020*\"dachbegrünung\" + 0.019*\"dach\" + 0.008*\"www\" + 0.005*\"bad\" + 0.003*\"fbb\"'),\n",
       " (4,\n",
       "  '0.178*\"city\" + 0.144*\"begrünung\" + 0.133*\"boden\" + 0.123*\"köln\" + 0.113*\"dass\" + 0.059*\"grün\" + 0.048*\"dach\" + 0.047*\"ddv\" + 0.042*\"gebäude\" + 0.027*\"essen\"'),\n",
       " (5,\n",
       "  '0.558*\"www\" + 0.111*\"com\" + 0.064*\"bad\" + 0.059*\"tel\" + 0.052*\"institut\" + 0.035*\"dächer\" + 0.022*\"köln\" + 0.017*\"gmbh\" + 0.017*\"dresden\" + 0.015*\"universität\"'),\n",
       " (6,\n",
       "  '0.168*\"2016\" + 0.165*\"fassadenbegrünung\" + 0.132*\"gebäudebegrünung\" + 0.129*\"fbb\" + 0.094*\"prof\" + 0.040*\"dach\" + 0.038*\"münchen\" + 0.033*\"grün\" + 0.032*\"institut\" + 0.029*\"2014\"'),\n",
       " (7,\n",
       "  '0.156*\"gründach\" + 0.123*\"hamburg\" + 0.090*\"stuttgart\" + 0.078*\"umwelt\" + 0.070*\"münchen\" + 0.066*\"sowie\" + 0.066*\"teil\" + 0.059*\"jahr\" + 0.058*\"universität\" + 0.055*\"gebäude\"'),\n",
       " (8,\n",
       "  '0.202*\"hamburg\" + 0.184*\"wurde\" + 0.114*\"stadt\" + 0.083*\"2017\" + 0.065*\"gebäudegrün\" + 0.060*\"jahren\" + 0.043*\"beim\" + 0.041*\"dresden\" + 0.035*\"2014\" + 0.029*\"grün\"'),\n",
       " (9,\n",
       "  '0.261*\"green\" + 0.194*\"deutschland\" + 0.127*\"roof\" + 0.119*\"urban\" + 0.089*\"statt\" + 0.029*\"city\" + 0.029*\"frankfurt\" + 0.026*\"stuttgart\" + 0.022*\"universität\" + 0.018*\"usa\"')]"
      ]
     },
     "execution_count": 170,
     "metadata": {},
     "output_type": "execute_result"
    }
   ],
   "source": [
    "ldamodel.print_topics(10)"
   ]
  },
  {
   "cell_type": "code",
   "execution_count": 82,
   "metadata": {
    "slideshow": {
     "slide_type": "skip"
    }
   },
   "outputs": [],
   "source": [
    "# import pyLDAvis\n",
    "# import pyLDAvis.gensim\n",
    "\n",
    "# pyLDAvis.enable_notebook()\n",
    "\n",
    "\n",
    "# vis_topics = pyLDAvis.gensim.prepare(ldamodel, corpus, id_map) \n",
    "# vis_topics"
   ]
  },
  {
   "cell_type": "markdown",
   "metadata": {
    "slideshow": {
     "slide_type": "subslide"
    }
   },
   "source": [
    "Let's look at the topic distribution of each sentence and filter for sentences with Topic 3 or 5 being dominant."
   ]
  },
  {
   "cell_type": "code",
   "execution_count": 192,
   "metadata": {
    "slideshow": {
     "slide_type": "fragment"
    }
   },
   "outputs": [],
   "source": [
    "def topic_distribution(new_doc_list):\n",
    "    new_transformed = vect.transform(new_doc_list)\n",
    "    new_corpus = gensim.matutils.Sparse2Corpus(new_transformed, documents_columns=False) \n",
    "    return ldamodel[new_corpus[0]]\n",
    "\n",
    "def dominant_topic(new_doc_list):\n",
    "    topics = topic_distribution(new_doc_list)\n",
    "    topics.sort(key = lambda x: x[1], reverse=True)\n",
    "    return topics[0]\n",
    "\n",
    "sents_with_loc['dominant topic'] = pd.Series([dominant_topic([sent]) \n",
    "                                              for sent in sents_with_loc['sentence']])"
   ]
  },
  {
   "cell_type": "code",
   "execution_count": 200,
   "metadata": {
    "slideshow": {
     "slide_type": "subslide"
    }
   },
   "outputs": [
    {
     "name": "stdout",
     "output_type": "stream",
     "text": [
      "We have 234 sentences here with Topic 3 or 5 dominant which is 17 percent.\n"
     ]
    },
    {
     "data": {
      "text/html": [
       "<div>\n",
       "<style scoped>\n",
       "    .dataframe tbody tr th:only-of-type {\n",
       "        vertical-align: middle;\n",
       "    }\n",
       "\n",
       "    .dataframe tbody tr th {\n",
       "        vertical-align: top;\n",
       "    }\n",
       "\n",
       "    .dataframe thead th {\n",
       "        text-align: right;\n",
       "    }\n",
       "</style>\n",
       "<table border=\"1\" class=\"dataframe\">\n",
       "  <thead>\n",
       "    <tr style=\"text-align: right;\">\n",
       "      <th></th>\n",
       "      <th>sentence</th>\n",
       "      <th>dominant topic</th>\n",
       "    </tr>\n",
       "  </thead>\n",
       "  <tbody>\n",
       "    <tr>\n",
       "      <th>991</th>\n",
       "      <td>122\\n \\n D 63768 Hösbach D 97486 Königsberg\\n ...</td>\n",
       "      <td>(5, 0.9181703)</td>\n",
       "    </tr>\n",
       "    <tr>\n",
       "      <th>843</th>\n",
       "      <td>www.iasp.asp-berlin.de www.gruendach-mv.de www...</td>\n",
       "      <td>(5, 0.90999997)</td>\n",
       "    </tr>\n",
       "    <tr>\n",
       "      <th>1120</th>\n",
       "      <td>Viernheim\\n \\n www.novihum.de www.aco-hochbau....</td>\n",
       "      <td>(5, 0.8874999)</td>\n",
       "    </tr>\n",
       "    <tr>\n",
       "      <th>844</th>\n",
       "      <td>Bad Urach-Hengen 77933 Lahr 88633 Heiligenberg...</td>\n",
       "      <td>(5, 0.8499999)</td>\n",
       "    </tr>\n",
       "    <tr>\n",
       "      <th>965</th>\n",
       "      <td>www.gruendach-siebert.de www.vedag.de whawiw.v...</td>\n",
       "      <td>(5, 0.84999466)</td>\n",
       "    </tr>\n",
       "    <tr>\n",
       "      <th>1089</th>\n",
       "      <td>Die Wiese - Naturnahe Gärten GmbH Immo Herbst ...</td>\n",
       "      <td>(3, 0.8499826)</td>\n",
       "    </tr>\n",
       "    <tr>\n",
       "      <th>955</th>\n",
       "      <td>D 81927 München\\n \\n www.kramer-gartenbau.de\\n...</td>\n",
       "      <td>(5, 0.82727367)</td>\n",
       "    </tr>\n",
       "    <tr>\n",
       "      <th>836</th>\n",
       "      <td>China www.vedag.com\\n \\n DE\\n \\n 25494 Heist b...</td>\n",
       "      <td>(5, 0.8272732)</td>\n",
       "    </tr>\n",
       "    <tr>\n",
       "      <th>1358</th>\n",
       "      <td>+43-699-19744304 bernhard.scharf@green4cities....</td>\n",
       "      <td>(5, 0.82631105)</td>\n",
       "    </tr>\n",
       "    <tr>\n",
       "      <th>698</th>\n",
       "      <td>www.singaporeparks.org/igrip2017.html Bologna:...</td>\n",
       "      <td>(5, 0.8199999)</td>\n",
       "    </tr>\n",
       "  </tbody>\n",
       "</table>\n",
       "</div>"
      ],
      "text/plain": [
       "                                               sentence   dominant topic\n",
       "991   122\\n \\n D 63768 Hösbach D 97486 Königsberg\\n ...   (5, 0.9181703)\n",
       "843   www.iasp.asp-berlin.de www.gruendach-mv.de www...  (5, 0.90999997)\n",
       "1120  Viernheim\\n \\n www.novihum.de www.aco-hochbau....   (5, 0.8874999)\n",
       "844   Bad Urach-Hengen 77933 Lahr 88633 Heiligenberg...   (5, 0.8499999)\n",
       "965   www.gruendach-siebert.de www.vedag.de whawiw.v...  (5, 0.84999466)\n",
       "1089  Die Wiese - Naturnahe Gärten GmbH Immo Herbst ...   (3, 0.8499826)\n",
       "955   D 81927 München\\n \\n www.kramer-gartenbau.de\\n...  (5, 0.82727367)\n",
       "836   China www.vedag.com\\n \\n DE\\n \\n 25494 Heist b...   (5, 0.8272732)\n",
       "1358  +43-699-19744304 bernhard.scharf@green4cities....  (5, 0.82631105)\n",
       "698   www.singaporeparks.org/igrip2017.html Bologna:...   (5, 0.8199999)"
      ]
     },
     "execution_count": 200,
     "metadata": {},
     "output_type": "execute_result"
    }
   ],
   "source": [
    "def filter_for_topic(df, top_id_list):      \n",
    "    filtered_df = df[[topic[0] in top_id_list for topic in df['dominant topic']]]\n",
    "    return filtered_df[['sentence', 'dominant topic']]\n",
    "\n",
    "topic5 = filter_for_topic(sents_with_loc, [3, 5])\n",
    "topic5['weight'] = [p[1] for p in topic5['dominant topic']]\n",
    "topic5.sort_values(by='weight', ascending = False, inplace = True)\n",
    "topic5.drop(columns = ['weight'], inplace = True)\n",
    "\n",
    "print('We have', len(topic5), 'sentences here with Topic 3 or 5 dominant which is', \n",
    "      100 * len(topic5)//len(sents_with_loc), \"percent.\" )\n",
    "topic5.head(10)"
   ]
  },
  {
   "cell_type": "markdown",
   "metadata": {
    "slideshow": {
     "slide_type": "slide"
    }
   },
   "source": [
    "# Thank you for your attention!"
   ]
  }
 ],
 "metadata": {
  "celltoolbar": "Slideshow",
  "kernelspec": {
   "display_name": "Python 3",
   "language": "python",
   "name": "python3"
  },
  "language_info": {
   "codemirror_mode": {
    "name": "ipython",
    "version": 3
   },
   "file_extension": ".py",
   "mimetype": "text/x-python",
   "name": "python",
   "nbconvert_exporter": "python",
   "pygments_lexer": "ipython3",
   "version": "3.6.8"
  }
 },
 "nbformat": 4,
 "nbformat_minor": 2
}
